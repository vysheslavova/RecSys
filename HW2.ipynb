{
 "cells": [
  {
   "cell_type": "markdown",
   "metadata": {
    "id": "o3aZAzbENYXQ"
   },
   "source": [
    "# Задача 1. GBDT"
   ]
  },
  {
   "cell_type": "markdown",
   "metadata": {
    "id": "MndxmUCtNYXS"
   },
   "source": [
    "### Data analys"
   ]
  },
  {
   "cell_type": "code",
   "execution_count": null,
   "metadata": {
    "id": "xlYRx7sPVJEi"
   },
   "outputs": [],
   "source": [
    "!pip install shap\n",
    "!pip install catboost"
   ]
  },
  {
   "cell_type": "code",
   "execution_count": 2,
   "metadata": {
    "id": "zObXoB4XNYXT"
   },
   "outputs": [],
   "source": [
    "import pandas as pd\n",
    "import seaborn as sns\n",
    "import matplotlib.pyplot as plt\n",
    "import numpy as np\n",
    "from sklearn.model_selection import train_test_split, KFold\n",
    "from catboost import CatBoostClassifier, Pool\n",
    "from sklearn.metrics import roc_auc_score\n",
    "import shap"
   ]
  },
  {
   "cell_type": "code",
   "execution_count": 3,
   "metadata": {
    "colab": {
     "base_uri": "https://localhost:8080/"
    },
    "id": "NE2baJELUM0o",
    "outputId": "aadbf5d9-b970-4f90-c654-1fb9f1c4a6e3"
   },
   "outputs": [
    {
     "name": "stdout",
     "output_type": "stream",
     "text": [
      "Mounted at /content/drive\n"
     ]
    }
   ],
   "source": [
    "from google.colab import drive\n",
    "drive.mount('/content/drive')"
   ]
  },
  {
   "cell_type": "code",
   "execution_count": 7,
   "metadata": {
    "colab": {
     "base_uri": "https://localhost:8080/"
    },
    "id": "va50xZteUbD8",
    "outputId": "56af685c-cb35-4cca-f4e9-50c569472918"
   },
   "outputs": [
    {
     "name": "stdout",
     "output_type": "stream",
     "text": [
      "Archive:  /content/drive/My Drive/HSE/w2v_recommender.zip\n",
      "   creating: w2v_recommender/\n",
      "  inflating: w2v_recommender/y_w2v.pt  \n",
      "  inflating: w2v_recommender/song2id.pickle  \n",
      "  inflating: w2v_recommender/X_w2v.pt  \n",
      "  inflating: w2v_recommender/w2v_matrix_user.npy  \n",
      "  inflating: w2v_recommender/id2user.pickle  \n",
      "  inflating: w2v_recommender/user2id.pickle  \n",
      "  inflating: w2v_recommender/w2v_matrix_song.npy  \n",
      "  inflating: w2v_recommender/id2song.pickle  \n"
     ]
    }
   ],
   "source": [
    "!unzip \"/content/drive/My Drive/HSE/w2v_recommender.zip\" "
   ]
  },
  {
   "cell_type": "markdown",
   "metadata": {
    "id": "RNDzk1Q8NYXi"
   },
   "source": [
    "#### Вспомогательные функции "
   ]
  },
  {
   "cell_type": "code",
   "execution_count": null,
   "metadata": {
    "id": "bpRy6PTfNYXj"
   },
   "outputs": [],
   "source": [
    "def replace_bd(table, col):\n",
    "    \"\"\"\n",
    "    replace outliers in members['bd'] by mean value\n",
    "    \"\"\"\n",
    "    idx = table[table[col] <= 0].index\n",
    "    table_ = table.drop(idx)\n",
    "    Q1 = table_[col].quantile(0.01)\n",
    "    Q3 = table_[col].quantile(0.99)\n",
    "    IQR = Q3 - Q1\n",
    "    interval = (Q1 - 1.5 * IQR, Q3 + 1.5 * IQR)\n",
    "    mask = table_[col].between(interval[0], interval[1], inclusive=True)\n",
    "    mask_bad = ~mask\n",
    "    bad = table_.loc[mask_bad, col].index\n",
    "    norm = table_.loc[mask, col]\n",
    "    value = np.around(np.mean(norm)).astype(int)\n",
    "    table.iloc[idx, 2] = [value] * len(idx)\n",
    "    table.iloc[bad, 2] = [value] * bad"
   ]
  },
  {
   "cell_type": "code",
   "execution_count": null,
   "metadata": {
    "id": "-m9W9IXCNYXq"
   },
   "outputs": [],
   "source": [
    "def get_date_cols(col, name):\n",
    "    \"\"\"\n",
    "    make 3 columns (year, month, day) from date column\n",
    "    \"\"\"\n",
    "    result = []\n",
    "    for item in col:\n",
    "        item = str(item)\n",
    "        year = int(item[:4])\n",
    "        month = int(item[4: 6])\n",
    "        day = int(item[6:])\n",
    "        result.append({f'{name}_year': year, f'{name}_month': month, f'{name}_day': day})\n",
    "    return pd.DataFrame(result)"
   ]
  },
  {
   "cell_type": "code",
   "execution_count": null,
   "metadata": {
    "id": "8OgU-kqsxfd6"
   },
   "outputs": [],
   "source": [
    "def split(string, first=False):\n",
    "    \"\"\"\n",
    "    split by delimeter '|'\n",
    "    \"\"\"\n",
    "    if pd.isnull(string):\n",
    "        return string\n",
    "    elif first:\n",
    "        return str(string).split('|')[0]\n",
    "    else:\n",
    "        return str(string).split('|')"
   ]
  },
  {
   "cell_type": "code",
   "execution_count": null,
   "metadata": {
    "id": "_jw-7b0ACAxp"
   },
   "outputs": [],
   "source": [
    "def feature_importances_plot(feature_importances):\n",
    "    \"\"\"\n",
    "    plot for feature importances\n",
    "    \"\"\"\n",
    "    feature_importances_flatten = pd.DataFrame()\n",
    "    for i in range(1, len(feature_importances.columns)-1):\n",
    "        col = ['feature', feature_importances.columns.values[i]]\n",
    "        feature_importances_flatten = pd.concat([feature_importances_flatten, feature_importances[col].rename(columns={f'fold_{i}': 'importance'})], axis=0)\n",
    "\n",
    "    plt.figure(figsize=(10, 10))\n",
    "    sns.barplot(data=feature_importances_flatten.sort_values(by='importance', ascending=False), x='importance', y='feature')\n",
    "    plt.title('Feature Importances over {} folds'.format(5))  "
   ]
  },
  {
   "cell_type": "markdown",
   "metadata": {
    "id": "F9-zHG_7NYX0"
   },
   "source": [
    "### Данные"
   ]
  },
  {
   "cell_type": "code",
   "execution_count": null,
   "metadata": {
    "id": "2J0Ewkv5xfeJ"
   },
   "outputs": [],
   "source": [
    "members = pd.read_csv('data/members.csv')\n",
    "songs = pd.read_csv('data/songs.csv')\n",
    "train = pd.read_csv('data/train.csv')\n",
    "songs_info = pd.read_csv('data/song_extra_info.csv')"
   ]
  },
  {
   "cell_type": "markdown",
   "metadata": {
    "id": "AF5A7ydlxfeO"
   },
   "source": [
    "Избавимся от выбросов в `bd`"
   ]
  },
  {
   "cell_type": "code",
   "execution_count": null,
   "metadata": {
    "id": "sKYuKPI7NYX8"
   },
   "outputs": [],
   "source": [
    "replace_bd(members, 'bd')"
   ]
  },
  {
   "cell_type": "markdown",
   "metadata": {
    "id": "CpZ4cf-nNYYE"
   },
   "source": [
    "Делим дату на три колонки: год, месяц, день"
   ]
  },
  {
   "cell_type": "code",
   "execution_count": null,
   "metadata": {
    "id": "4wg4qOe4NYYG"
   },
   "outputs": [],
   "source": [
    "registration_init_time = get_date_cols(members.registration_init_time, 'registration_init_time')\n",
    "expiration_date = get_date_cols(members.expiration_date, 'expiration_date')\n",
    "members.drop(columns=['registration_init_time', 'expiration_date'], inplace=True)\n",
    "members = pd.concat([members, registration_init_time, expiration_date], axis=1)"
   ]
  },
  {
   "cell_type": "markdown",
   "metadata": {
    "id": "WW9yJR7QNYYZ"
   },
   "source": [
    "в `songs` оставляем элемент, который стоит на первом месте:"
   ]
  },
  {
   "cell_type": "code",
   "execution_count": null,
   "metadata": {
    "id": "ECsx8Pu1NYYZ"
   },
   "outputs": [],
   "source": [
    "songs['genre_ids'] = list(map(lambda x: split(x, first=True), songs['genre_ids']))\n",
    "songs['artist_name'] = list(map(lambda x: split(x, first=True), songs['artist_name']))\n",
    "songs['composer'] = list(map(lambda x: split(x, first=True), songs['composer']))\n",
    "songs['lyricist'] = list(map(lambda x: split(x, first=True), songs['lyricist']))\n",
    "songs = pd.merge(songs, songs_info, left_on='song_id', right_on='song_id', how='left')"
   ]
  },
  {
   "cell_type": "code",
   "execution_count": null,
   "metadata": {
    "id": "V6qQ9yuTNYYd"
   },
   "outputs": [],
   "source": [
    "songs.iloc[songs[songs['language'] < 0].index] = np.nan"
   ]
  },
  {
   "cell_type": "markdown",
   "metadata": {
    "id": "pqcdcCyjNYYq"
   },
   "source": [
    "### Catboost"
   ]
  },
  {
   "cell_type": "code",
   "execution_count": null,
   "metadata": {
    "id": "7vIpleE4NYYq"
   },
   "outputs": [],
   "source": [
    "data = pd.merge(train, members, left_on='msno', right_on='msno', how='left')\n",
    "data = pd.merge(data, songs, left_on='song_id', right_on='song_id', how='left')"
   ]
  },
  {
   "cell_type": "code",
   "execution_count": null,
   "metadata": {
    "id": "QMKsxCFMNYYs"
   },
   "outputs": [],
   "source": [
    "y = data['target']\n",
    "X = data.drop(columns=['target', 'msno', 'song_id', 'isrc'])"
   ]
  },
  {
   "cell_type": "code",
   "execution_count": null,
   "metadata": {
    "id": "lc-nJEpONYYv"
   },
   "outputs": [],
   "source": [
    "for col in X.select_dtypes(include=['object']).columns:\n",
    "    X[col] = X[col].astype('category')"
   ]
  },
  {
   "cell_type": "code",
   "execution_count": null,
   "metadata": {
    "id": "2X9T5NALNYYw"
   },
   "outputs": [],
   "source": [
    "categorical_features_indices = X.select_dtypes(include=['category']).columns"
   ]
  },
  {
   "cell_type": "code",
   "execution_count": null,
   "metadata": {
    "id": "lodRqiBr6g-n"
   },
   "outputs": [],
   "source": [
    "params = {\n",
    "    'random_seed': 42,\n",
    "    'task_type': 'GPU',\n",
    "    'max_depth': 8,\n",
    "    'learning_rate': 0.1,\n",
    "    'custom_metric': 'AUC',\n",
    "    'eval_metric': 'AUC',\n",
    "    'l2_leaf_reg': 3.5,\n",
    "    'bagging_temperature': 0.9,\n",
    "    'iterations': 100\n",
    "}"
   ]
  },
  {
   "cell_type": "code",
   "execution_count": null,
   "metadata": {
    "id": "o3sHCofuDGcO"
   },
   "outputs": [],
   "source": [
    "def train_cat(X, y, cat_features):\n",
    "    kf = KFold(n_splits=5)\n",
    "    fold_splits = kf.split(X, y)\n",
    "    scores = []\n",
    "\n",
    "    feature_importances = pd.DataFrame()\n",
    "    feature_importances['feature'] = X.columns\n",
    "\n",
    "    for i, (dev_index, val_index) in enumerate(fold_splits):\n",
    "        dev_X, val_X = X.iloc[dev_index], X.iloc[val_index]\n",
    "        dev_y, val_y = y.iloc[dev_index], y.iloc[val_index]\n",
    "        \n",
    "        model = CatBoostClassifier(**params)\n",
    "        \n",
    "        print(f'Fold {i + 1}')\n",
    "        fit_model = model.fit(dev_X, dev_y,\n",
    "                            eval_set=(val_X, val_y),\n",
    "                            use_best_model=True,\n",
    "                            cat_features=cat_features,\n",
    "                            verbose=20,\n",
    "                            plot=False)\n",
    "        feature_imp = fit_model.feature_importances_\n",
    "        feature_importances[f'fold_{i + 1}'] = feature_imp\n",
    "        pred = fit_model.predict(val_X)\n",
    "        auc = roc_auc_score(val_y, pred)\n",
    "        scores.append(auc)\n",
    "\n",
    "    return scores, feature_importances"
   ]
  },
  {
   "cell_type": "code",
   "execution_count": null,
   "metadata": {
    "colab": {
     "base_uri": "https://localhost:8080/"
    },
    "id": "8QCNnR8A6g-p",
    "outputId": "03c0c047-a88d-4347-8761-5dede060040e"
   },
   "outputs": [
    {
     "name": "stdout",
     "output_type": "stream",
     "text": [
      "Fold 1\n",
      "0:\tlearn: 0.6470241\ttest: 0.7134627\tbest: 0.7134627 (0)\ttotal: 166ms\tremaining: 16.5s\n",
      "20:\tlearn: 0.6659917\ttest: 0.7295032\tbest: 0.7295032 (20)\ttotal: 3.01s\tremaining: 11.3s\n",
      "40:\tlearn: 0.6696959\ttest: 0.7316509\tbest: 0.7316509 (40)\ttotal: 5.76s\tremaining: 8.29s\n",
      "60:\tlearn: 0.6731050\ttest: 0.7336724\tbest: 0.7336724 (60)\ttotal: 8.5s\tremaining: 5.43s\n",
      "80:\tlearn: 0.6759249\ttest: 0.7355511\tbest: 0.7355511 (80)\ttotal: 11.2s\tremaining: 2.63s\n",
      "99:\tlearn: 0.6787584\ttest: 0.7372237\tbest: 0.7372237 (99)\ttotal: 13.8s\tremaining: 0us\n",
      "bestTest = 0.7372237146\n",
      "bestIteration = 99\n",
      "Fold 2\n",
      "0:\tlearn: 0.6670648\ttest: 0.6737318\tbest: 0.6737318 (0)\ttotal: 169ms\tremaining: 16.7s\n",
      "20:\tlearn: 0.6836255\ttest: 0.6885893\tbest: 0.6885893 (20)\ttotal: 3.02s\tremaining: 11.4s\n",
      "40:\tlearn: 0.6873863\ttest: 0.6915684\tbest: 0.6915684 (40)\ttotal: 5.8s\tremaining: 8.35s\n",
      "60:\tlearn: 0.6906184\ttest: 0.6940999\tbest: 0.6940999 (60)\ttotal: 8.51s\tremaining: 5.44s\n",
      "80:\tlearn: 0.6929491\ttest: 0.6958176\tbest: 0.6958176 (80)\ttotal: 11.2s\tremaining: 2.63s\n",
      "99:\tlearn: 0.6955361\ttest: 0.6975185\tbest: 0.6975185 (99)\ttotal: 13.9s\tremaining: 0us\n",
      "bestTest = 0.6975184679\n",
      "bestIteration = 99\n",
      "Fold 3\n",
      "0:\tlearn: 0.6736002\ttest: 0.6447675\tbest: 0.6447675 (0)\ttotal: 162ms\tremaining: 16s\n",
      "20:\tlearn: 0.6892615\ttest: 0.6629772\tbest: 0.6629772 (20)\ttotal: 3.01s\tremaining: 11.3s\n",
      "40:\tlearn: 0.6932868\ttest: 0.6657310\tbest: 0.6657310 (40)\ttotal: 5.79s\tremaining: 8.33s\n",
      "60:\tlearn: 0.6965156\ttest: 0.6680070\tbest: 0.6680070 (60)\ttotal: 8.49s\tremaining: 5.43s\n",
      "80:\tlearn: 0.6992566\ttest: 0.6698058\tbest: 0.6698058 (80)\ttotal: 11.2s\tremaining: 2.63s\n",
      "99:\tlearn: 0.7020179\ttest: 0.6715303\tbest: 0.6715303 (99)\ttotal: 13.8s\tremaining: 0us\n",
      "bestTest = 0.6715303361\n",
      "bestIteration = 99\n",
      "Fold 4\n",
      "0:\tlearn: 0.6768962\ttest: 0.6190214\tbest: 0.6190214 (0)\ttotal: 163ms\tremaining: 16.1s\n",
      "20:\tlearn: 0.6924464\ttest: 0.6375264\tbest: 0.6375264 (20)\ttotal: 3.03s\tremaining: 11.4s\n",
      "40:\tlearn: 0.6961605\ttest: 0.6407771\tbest: 0.6407771 (40)\ttotal: 5.83s\tremaining: 8.39s\n",
      "60:\tlearn: 0.6996455\ttest: 0.6432377\tbest: 0.6432377 (60)\ttotal: 8.56s\tremaining: 5.47s\n",
      "80:\tlearn: 0.7026163\ttest: 0.6452769\tbest: 0.6452769 (80)\ttotal: 11.3s\tremaining: 2.65s\n",
      "99:\tlearn: 0.7050186\ttest: 0.6467583\tbest: 0.6467583 (99)\ttotal: 13.9s\tremaining: 0us\n",
      "bestTest = 0.6467582583\n",
      "bestIteration = 99\n",
      "Fold 5\n",
      "0:\tlearn: 0.6780755\ttest: 0.5977346\tbest: 0.5977346 (0)\ttotal: 171ms\tremaining: 16.9s\n",
      "20:\tlearn: 0.6934764\ttest: 0.6169366\tbest: 0.6169366 (20)\ttotal: 3s\tremaining: 11.3s\n",
      "40:\tlearn: 0.6973567\ttest: 0.6204771\tbest: 0.6204771 (40)\ttotal: 5.82s\tremaining: 8.38s\n",
      "60:\tlearn: 0.7014238\ttest: 0.6229717\tbest: 0.6229717 (60)\ttotal: 8.62s\tremaining: 5.51s\n",
      "80:\tlearn: 0.7041792\ttest: 0.6245088\tbest: 0.6245088 (80)\ttotal: 11.3s\tremaining: 2.65s\n",
      "99:\tlearn: 0.7067983\ttest: 0.6258932\tbest: 0.6258932 (99)\ttotal: 13.9s\tremaining: 0us\n",
      "bestTest = 0.6258932054\n",
      "bestIteration = 99\n"
     ]
    }
   ],
   "source": [
    "scores, feature_importances = train_cat(X, y, categorical_features_indices)"
   ]
  },
  {
   "cell_type": "code",
   "execution_count": null,
   "metadata": {
    "colab": {
     "base_uri": "https://localhost:8080/"
    },
    "id": "pMI7bEwpEIhU",
    "outputId": "83b77343-8e54-402d-85a4-2a8ad609901e"
   },
   "outputs": [
    {
     "name": "stdout",
     "output_type": "stream",
     "text": [
      "Fold 1: AUC on validations - 0.6831616893918708\n",
      "Fold 2: AUC on validations - 0.6493681405076202\n",
      "Fold 3: AUC on validations - 0.6265901861377441\n",
      "Fold 4: AUC on validations - 0.6040459391759547\n",
      "Fold 5: AUC on validations - 0.5889205792675886\n",
      "Mean AUC - 0.6304173068961557\n"
     ]
    }
   ],
   "source": [
    "for i in range(len(scores)):\n",
    "    print(f'Fold {i + 1}: AUC on validations - {scores[i]}')\n",
    "print(f'Mean AUC - {np.mean(scores)}')"
   ]
  },
  {
   "cell_type": "markdown",
   "metadata": {
    "id": "7lmg91k8_Qjz"
   },
   "source": [
    "Я искренне пыталась использовать shap, но у меня постоянно умирал kernel :("
   ]
  },
  {
   "cell_type": "code",
   "execution_count": null,
   "metadata": {
    "id": "gIN071m46g-_"
   },
   "outputs": [],
   "source": [
    "# explainer = shap.TreeExplainer(model)\n",
    "# shap_values = explainer.shap_values(X_train, approximate=True)"
   ]
  },
  {
   "cell_type": "code",
   "execution_count": null,
   "metadata": {
    "id": "t7B_nhjBBh6K"
   },
   "outputs": [],
   "source": [
    "feature_importances['mean'] = np.mean(feature_importances.drop(columns='feature').values, axis=1)"
   ]
  },
  {
   "cell_type": "code",
   "execution_count": null,
   "metadata": {
    "colab": {
     "base_uri": "https://localhost:8080/",
     "height": 621
    },
    "id": "UXs5GbViCYfm",
    "outputId": "33a17c2e-de4c-49d8-b068-a968b7b0e378"
   },
   "outputs": [
    {
     "data": {
      "image/png": "[encoded data removed]",
      "text/plain": [
       "<Figure size 720x720 with 1 Axes>"
      ]
     },
     "metadata": {
      "needs_background": "light",
      "tags": []
     },
     "output_type": "display_data"
    }
   ],
   "source": [
    "feature_importances_plot(feature_importances)"
   ]
  },
  {
   "cell_type": "markdown",
   "metadata": {
    "id": "qiR8px4vCw9c"
   },
   "source": [
    "На самом деле все получившиеся фичи более менее значимы, для эксперимента возьмем топ-10 фичей"
   ]
  },
  {
   "cell_type": "code",
   "execution_count": null,
   "metadata": {
    "id": "5_EzW4NRDAyA"
   },
   "outputs": [],
   "source": [
    "col_names = list(feature_importances.sort_values(by='mean', ascending=False).head(10)['feature'])\n",
    "X_ = X[col_names]\n",
    "categorical_features_indices_2 = X_.select_dtypes(include=['category']).columns"
   ]
  },
  {
   "cell_type": "code",
   "execution_count": null,
   "metadata": {
    "colab": {
     "base_uri": "https://localhost:8080/"
    },
    "id": "LQuqXtF9F505",
    "outputId": "2f814470-c526-49be-9197-ab9e6bd1c8a1"
   },
   "outputs": [
    {
     "name": "stdout",
     "output_type": "stream",
     "text": [
      "Fold 1\n",
      "0:\tlearn: 0.6474861\ttest: 0.7129377\tbest: 0.7129377 (0)\ttotal: 157ms\tremaining: 15.5s\n",
      "20:\tlearn: 0.6652148\ttest: 0.7290276\tbest: 0.7290938 (19)\ttotal: 2.85s\tremaining: 10.7s\n",
      "40:\tlearn: 0.6680113\ttest: 0.7304652\tbest: 0.7304652 (40)\ttotal: 5.38s\tremaining: 7.74s\n",
      "60:\tlearn: 0.6698220\ttest: 0.7313224\tbest: 0.7313313 (58)\ttotal: 7.88s\tremaining: 5.04s\n",
      "80:\tlearn: 0.6715907\ttest: 0.7322388\tbest: 0.7322388 (80)\ttotal: 10.4s\tremaining: 2.43s\n",
      "99:\tlearn: 0.6728239\ttest: 0.7327144\tbest: 0.7327178 (98)\ttotal: 12.7s\tremaining: 0us\n",
      "bestTest = 0.7327177823\n",
      "bestIteration = 98\n",
      "Shrink model to first 99 iterations.\n",
      "Fold 2\n",
      "0:\tlearn: 0.6670501\ttest: 0.6735997\tbest: 0.6735997 (0)\ttotal: 164ms\tremaining: 16.2s\n",
      "20:\tlearn: 0.6825539\ttest: 0.6879905\tbest: 0.6879905 (20)\ttotal: 2.8s\tremaining: 10.5s\n",
      "40:\tlearn: 0.6854281\ttest: 0.6900906\tbest: 0.6900906 (40)\ttotal: 5.36s\tremaining: 7.71s\n",
      "60:\tlearn: 0.6873139\ttest: 0.6914778\tbest: 0.6914778 (60)\ttotal: 7.87s\tremaining: 5.03s\n",
      "80:\tlearn: 0.6890463\ttest: 0.6925521\tbest: 0.6925521 (80)\ttotal: 10.4s\tremaining: 2.44s\n",
      "99:\tlearn: 0.6901776\ttest: 0.6932885\tbest: 0.6932885 (99)\ttotal: 12.8s\tremaining: 0us\n",
      "bestTest = 0.6932885051\n",
      "bestIteration = 99\n",
      "Fold 3\n",
      "0:\tlearn: 0.6736113\ttest: 0.6447667\tbest: 0.6447667 (0)\ttotal: 154ms\tremaining: 15.2s\n",
      "20:\tlearn: 0.6888328\ttest: 0.6624417\tbest: 0.6624417 (20)\ttotal: 2.79s\tremaining: 10.5s\n",
      "40:\tlearn: 0.6918541\ttest: 0.6642821\tbest: 0.6642821 (40)\ttotal: 5.37s\tremaining: 7.72s\n",
      "60:\tlearn: 0.6936700\ttest: 0.6654116\tbest: 0.6654116 (60)\ttotal: 7.87s\tremaining: 5.03s\n",
      "80:\tlearn: 0.6953480\ttest: 0.6666039\tbest: 0.6666039 (80)\ttotal: 10.4s\tremaining: 2.44s\n",
      "99:\tlearn: 0.6965953\ttest: 0.6672753\tbest: 0.6672753 (99)\ttotal: 12.8s\tremaining: 0us\n",
      "bestTest = 0.6672753394\n",
      "bestIteration = 99\n",
      "Fold 4\n",
      "0:\tlearn: 0.6767120\ttest: 0.6188025\tbest: 0.6188025 (0)\ttotal: 163ms\tremaining: 16.1s\n",
      "20:\tlearn: 0.6918155\ttest: 0.6364407\tbest: 0.6364407 (20)\ttotal: 2.81s\tremaining: 10.6s\n",
      "40:\tlearn: 0.6945800\ttest: 0.6389509\tbest: 0.6389509 (40)\ttotal: 5.37s\tremaining: 7.73s\n",
      "60:\tlearn: 0.6963004\ttest: 0.6404514\tbest: 0.6404514 (60)\ttotal: 7.86s\tremaining: 5.02s\n",
      "80:\tlearn: 0.6980558\ttest: 0.6417968\tbest: 0.6417968 (80)\ttotal: 10.4s\tremaining: 2.45s\n",
      "99:\tlearn: 0.6993184\ttest: 0.6425995\tbest: 0.6425995 (99)\ttotal: 12.8s\tremaining: 0us\n",
      "bestTest = 0.6425994933\n",
      "bestIteration = 99\n",
      "Fold 5\n",
      "0:\tlearn: 0.6776427\ttest: 0.5970383\tbest: 0.5970383 (0)\ttotal: 157ms\tremaining: 15.5s\n",
      "20:\tlearn: 0.6928550\ttest: 0.6161448\tbest: 0.6161448 (20)\ttotal: 2.79s\tremaining: 10.5s\n",
      "40:\tlearn: 0.6958179\ttest: 0.6183202\tbest: 0.6183202 (40)\ttotal: 5.42s\tremaining: 7.81s\n",
      "60:\tlearn: 0.6978033\ttest: 0.6199842\tbest: 0.6199842 (60)\ttotal: 7.92s\tremaining: 5.06s\n",
      "80:\tlearn: 0.6993395\ttest: 0.6207653\tbest: 0.6207793 (79)\ttotal: 10.5s\tremaining: 2.46s\n",
      "99:\tlearn: 0.7005973\ttest: 0.6213503\tbest: 0.6213810 (97)\ttotal: 12.9s\tremaining: 0us\n",
      "bestTest = 0.6213810444\n",
      "bestIteration = 97\n",
      "Shrink model to first 98 iterations.\n"
     ]
    }
   ],
   "source": [
    "scores_2, feature_importances_2 = train_cat(X_, y, categorical_features_indices_2)"
   ]
  },
  {
   "cell_type": "code",
   "execution_count": null,
   "metadata": {
    "colab": {
     "base_uri": "https://localhost:8080/"
    },
    "id": "rlrOahytKAOe",
    "outputId": "6996a5c2-cdcc-40fd-e04f-c225ba78181b"
   },
   "outputs": [
    {
     "name": "stdout",
     "output_type": "stream",
     "text": [
      "Fold 1: AUC on validations - 0.6810395038464121\n",
      "Fold 2: AUC on validations - 0.6478508057428557\n",
      "Fold 3: AUC on validations - 0.6250662914062615\n",
      "Fold 4: AUC on validations - 0.6027881980932036\n",
      "Fold 5: AUC on validations - 0.5869840810801575\n",
      "Mean AUC - 0.6287457760337781\n"
     ]
    }
   ],
   "source": [
    "for i in range(len(scores_2)):\n",
    "    print(f'Fold {i + 1}: AUC on validations - {scores_2[i]}')\n",
    "print(f'Mean AUC - {np.mean(scores_2)}')"
   ]
  },
  {
   "cell_type": "markdown",
   "metadata": {
    "id": "_iyXkb1CSejb"
   },
   "source": [
    "Так как сильно неважных фичей не было AUC не улучшился от выбрасывания наименее важных фичей."
   ]
  },
  {
   "cell_type": "markdown",
   "metadata": {
    "id": "TrsxNgCoNYZA"
   },
   "source": [
    "# Задача 2. Неклассические эмбеддинги"
   ]
  },
  {
   "cell_type": "markdown",
   "metadata": {
    "id": "hASYJ3tMxffh"
   },
   "source": [
    "В качестве неклассических эмбеддингов будем использовать w2v песен"
   ]
  },
  {
   "cell_type": "code",
   "execution_count": 2,
   "metadata": {
    "id": "Aabs4IbgNYZA"
   },
   "outputs": [],
   "source": [
    "from tqdm.notebook import tqdm\n",
    "from gensim.models import Word2Vec \n",
    "from sklearn.preprocessing import MinMaxScaler\n",
    "from sklearn.metrics.pairwise import cosine_similarity\n",
    "import re\n",
    "import warnings\n",
    "warnings.filterwarnings('ignore')"
   ]
  },
  {
   "cell_type": "code",
   "execution_count": null,
   "metadata": {
    "id": "_Xt0m4OCxffl"
   },
   "outputs": [],
   "source": [
    "def not_china(texts):\n",
    "    \"\"\"\n",
    "    to detect korean/japanese/chinese hieroglyphs\n",
    "    \"\"\"\n",
    "    # korean\n",
    "    if re.search(\"[\\uac00-\\ud7a3]\", texts):\n",
    "        return False\n",
    "    # japanese\n",
    "    if re.search(\"[\\u3040-\\u30ff]\", texts):\n",
    "        return False\n",
    "    # chinese\n",
    "    if re.search(\"[\\u4e00-\\u9FFF]\", texts):\n",
    "        return False\n",
    "    return True"
   ]
  },
  {
   "cell_type": "code",
   "execution_count": null,
   "metadata": {
    "id": "pxgalYiVxffn"
   },
   "outputs": [],
   "source": [
    "songs.dropna(subset=['artist_name'], inplace=True)"
   ]
  },
  {
   "cell_type": "markdown",
   "metadata": {
    "id": "5jFxLpqHxffq"
   },
   "source": [
    "Для каждого пользователя выберем треки, которые он слушал (будем рассматривать в качестве сессии)"
   ]
  },
  {
   "cell_type": "code",
   "execution_count": null,
   "metadata": {
    "id": "ieI0uV8Uxffq"
   },
   "outputs": [],
   "source": [
    "group = data.groupby('msno')\n",
    "sessions = {}\n",
    "for user in data['msno'].unique():\n",
    "    sessions[user] = list(group.get_group(user)['song_id'].values)"
   ]
  },
  {
   "cell_type": "markdown",
   "metadata": {
    "id": "HxE9HTQZxffr"
   },
   "source": [
    "Обучим word2vec"
   ]
  },
  {
   "cell_type": "code",
   "execution_count": null,
   "metadata": {
    "id": "RezO2Fnmxffs"
   },
   "outputs": [],
   "source": [
    "w2v = Word2Vec(window=5,\n",
    "                 negative=10,\n",
    "                 min_count=0,\n",
    "                 workers=20,\n",
    "                 size=100,\n",
    "                 seed=42)\n",
    "\n",
    "sentences = list(sessions.values())"
   ]
  },
  {
   "cell_type": "code",
   "execution_count": null,
   "metadata": {
    "id": "9DtLm980xffu",
    "outputId": "c41ab1e1-c1e3-413d-db1e-47e84ef72d1f"
   },
   "outputs": [
    {
     "data": {
      "text/plain": [
       "(73774180, 73774180)"
      ]
     },
     "execution_count": 149,
     "metadata": {
      "tags": []
     },
     "output_type": "execute_result"
    }
   ],
   "source": [
    "w2v.build_vocab(sentences, progress_per=200)\n",
    "w2v.train(sentences, total_examples = w2v.corpus_count, \n",
    "            epochs=10, report_delay=1)"
   ]
  },
  {
   "cell_type": "code",
   "execution_count": null,
   "metadata": {
    "id": "wfHsNpM5xffw"
   },
   "outputs": [],
   "source": [
    "# w2v = Word2Vec.load('word2vec2.model')"
   ]
  },
  {
   "cell_type": "code",
   "execution_count": null,
   "metadata": {
    "id": "YOBmJo-Nxff1"
   },
   "outputs": [],
   "source": [
    "def similar_song(id_, filtering=False, top=5):\n",
    "    \"\"\"\n",
    "    get similar songs by song_id\n",
    "    filtering=True returns only european songs\n",
    "    \"\"\"\n",
    "    vector = w2v[id_]\n",
    "    similar = w2v.similar_by_vector(vector, topn=top + 5)[1:]\n",
    "        \n",
    "    result = pd.DataFrame()\n",
    "    for song, score in similar:\n",
    "        row = songs[songs['song_id'] == song]\n",
    "        row['score'] = score\n",
    "        if filtering and not_china(row['artist_name'].values[0]) or not filtering: \n",
    "            result = result.append(row)            \n",
    "    return result[:top] "
   ]
  },
  {
   "cell_type": "markdown",
   "metadata": {
    "id": "oo1P1LoNxff4"
   },
   "source": [
    "### a) Similars"
   ]
  },
  {
   "cell_type": "markdown",
   "metadata": {
    "id": "FCMFIvAwxff5"
   },
   "source": [
    "Симилары для Selena Gomez"
   ]
  },
  {
   "cell_type": "code",
   "execution_count": null,
   "metadata": {
    "id": "v3KdMZnTxff5",
    "outputId": "ff0bc1b5-2cfc-468c-e757-a50c8c762834"
   },
   "outputs": [
    {
     "name": "stdout",
     "output_type": "stream",
     "text": [
      "Query:\n"
     ]
    },
    {
     "data": {
      "text/html": [
       "<div>\n",
       "<style scoped>\n",
       "    .dataframe tbody tr th:only-of-type {\n",
       "        vertical-align: middle;\n",
       "    }\n",
       "\n",
       "    .dataframe tbody tr th {\n",
       "        vertical-align: top;\n",
       "    }\n",
       "\n",
       "    .dataframe thead th {\n",
       "        text-align: right;\n",
       "    }\n",
       "</style>\n",
       "<table border=\"1\" class=\"dataframe\">\n",
       "  <thead>\n",
       "    <tr style=\"text-align: right;\">\n",
       "      <th></th>\n",
       "      <th>song_id</th>\n",
       "      <th>song_length</th>\n",
       "      <th>genre_ids</th>\n",
       "      <th>artist_name</th>\n",
       "      <th>composer</th>\n",
       "      <th>lyricist</th>\n",
       "      <th>language</th>\n",
       "      <th>name</th>\n",
       "      <th>isrc</th>\n",
       "    </tr>\n",
       "  </thead>\n",
       "  <tbody>\n",
       "    <tr>\n",
       "      <th>1500</th>\n",
       "      <td>S/BQuJmY8py2c1eqQVqnfdnOx1d2o5mTJ4BGkQgt9Pg=</td>\n",
       "      <td>239537.0</td>\n",
       "      <td>465</td>\n",
       "      <td>Selena Gomez</td>\n",
       "      <td>Toby Gad</td>\n",
       "      <td>NaN</td>\n",
       "      <td>52.0</td>\n",
       "      <td>A Year Without Rain</td>\n",
       "      <td>USHR11132698</td>\n",
       "    </tr>\n",
       "  </tbody>\n",
       "</table>\n",
       "</div>"
      ],
      "text/plain": [
       "                                           song_id  song_length genre_ids  \\\n",
       "1500  S/BQuJmY8py2c1eqQVqnfdnOx1d2o5mTJ4BGkQgt9Pg=     239537.0       465   \n",
       "\n",
       "       artist_name  composer lyricist  language                 name  \\\n",
       "1500  Selena Gomez  Toby Gad      NaN      52.0  A Year Without Rain   \n",
       "\n",
       "              isrc  \n",
       "1500  USHR11132698  "
      ]
     },
     "metadata": {
      "tags": []
     },
     "output_type": "display_data"
    },
    {
     "name": "stdout",
     "output_type": "stream",
     "text": [
      "Similars:\n"
     ]
    },
    {
     "data": {
      "text/html": [
       "<div>\n",
       "<style scoped>\n",
       "    .dataframe tbody tr th:only-of-type {\n",
       "        vertical-align: middle;\n",
       "    }\n",
       "\n",
       "    .dataframe tbody tr th {\n",
       "        vertical-align: top;\n",
       "    }\n",
       "\n",
       "    .dataframe thead th {\n",
       "        text-align: right;\n",
       "    }\n",
       "</style>\n",
       "<table border=\"1\" class=\"dataframe\">\n",
       "  <thead>\n",
       "    <tr style=\"text-align: right;\">\n",
       "      <th></th>\n",
       "      <th>song_id</th>\n",
       "      <th>song_length</th>\n",
       "      <th>genre_ids</th>\n",
       "      <th>artist_name</th>\n",
       "      <th>composer</th>\n",
       "      <th>lyricist</th>\n",
       "      <th>language</th>\n",
       "      <th>name</th>\n",
       "      <th>isrc</th>\n",
       "      <th>score</th>\n",
       "    </tr>\n",
       "  </thead>\n",
       "  <tbody>\n",
       "    <tr>\n",
       "      <th>1446093</th>\n",
       "      <td>FwcBk+GbQiVR3b9yQXFZqSQ8Bpaeb7F2t1T69C4hhAY=</td>\n",
       "      <td>176021.0</td>\n",
       "      <td>359</td>\n",
       "      <td>Walk The Moon</td>\n",
       "      <td>Nicholas Petricca</td>\n",
       "      <td>Nicholas Petricca</td>\n",
       "      <td>52.0</td>\n",
       "      <td>Work This Body</td>\n",
       "      <td>USRC11402587</td>\n",
       "      <td>0.901673</td>\n",
       "    </tr>\n",
       "    <tr>\n",
       "      <th>2244827</th>\n",
       "      <td>5pmv1SUttiszbjKt9NNpj8VkeL/rAVxWiUai51UhR7M=</td>\n",
       "      <td>227648.0</td>\n",
       "      <td>465</td>\n",
       "      <td>Gwen Stefani</td>\n",
       "      <td>Gwen Stefani</td>\n",
       "      <td>NaN</td>\n",
       "      <td>52.0</td>\n",
       "      <td>Used To Love You</td>\n",
       "      <td>USUM71516915</td>\n",
       "      <td>0.893781</td>\n",
       "    </tr>\n",
       "    <tr>\n",
       "      <th>1391254</th>\n",
       "      <td>h8wiXJ3SCR/AdZUSpCR5eajvNE/yMsEdXoCsJ4jM660=</td>\n",
       "      <td>228623.0</td>\n",
       "      <td>465</td>\n",
       "      <td>CHARLI XCX</td>\n",
       "      <td>NaN</td>\n",
       "      <td>NaN</td>\n",
       "      <td>52.0</td>\n",
       "      <td>Doing It (feat. Rita Ora)</td>\n",
       "      <td>GBAHS1500002</td>\n",
       "      <td>0.880087</td>\n",
       "    </tr>\n",
       "    <tr>\n",
       "      <th>1361</th>\n",
       "      <td>eydL6gNMRr1sGOCAh88skRkTPVKCBRtQfQBQYxIn4KE=</td>\n",
       "      <td>203871.0</td>\n",
       "      <td>465</td>\n",
       "      <td>Nick Jonas</td>\n",
       "      <td>Jason Evigan</td>\n",
       "      <td>NaN</td>\n",
       "      <td>52.0</td>\n",
       "      <td>Chains</td>\n",
       "      <td>USUM71411120</td>\n",
       "      <td>0.879425</td>\n",
       "    </tr>\n",
       "    <tr>\n",
       "      <th>173006</th>\n",
       "      <td>qvIitcIqScpR7nxkIXn08PWM5a1Hx1ms5roMLF/sAiw=</td>\n",
       "      <td>238329.0</td>\n",
       "      <td>465</td>\n",
       "      <td>Jessica Sanchez</td>\n",
       "      <td>NaN</td>\n",
       "      <td>NaN</td>\n",
       "      <td>52.0</td>\n",
       "      <td>Tonight</td>\n",
       "      <td>QMTM61300011</td>\n",
       "      <td>0.879060</td>\n",
       "    </tr>\n",
       "  </tbody>\n",
       "</table>\n",
       "</div>"
      ],
      "text/plain": [
       "                                              song_id  song_length genre_ids  \\\n",
       "1446093  FwcBk+GbQiVR3b9yQXFZqSQ8Bpaeb7F2t1T69C4hhAY=     176021.0       359   \n",
       "2244827  5pmv1SUttiszbjKt9NNpj8VkeL/rAVxWiUai51UhR7M=     227648.0       465   \n",
       "1391254  h8wiXJ3SCR/AdZUSpCR5eajvNE/yMsEdXoCsJ4jM660=     228623.0       465   \n",
       "1361     eydL6gNMRr1sGOCAh88skRkTPVKCBRtQfQBQYxIn4KE=     203871.0       465   \n",
       "173006   qvIitcIqScpR7nxkIXn08PWM5a1Hx1ms5roMLF/sAiw=     238329.0       465   \n",
       "\n",
       "             artist_name           composer           lyricist  language  \\\n",
       "1446093    Walk The Moon  Nicholas Petricca  Nicholas Petricca      52.0   \n",
       "2244827     Gwen Stefani       Gwen Stefani                NaN      52.0   \n",
       "1391254       CHARLI XCX                NaN                NaN      52.0   \n",
       "1361          Nick Jonas       Jason Evigan                NaN      52.0   \n",
       "173006   Jessica Sanchez                NaN                NaN      52.0   \n",
       "\n",
       "                              name          isrc     score  \n",
       "1446093             Work This Body  USRC11402587  0.901673  \n",
       "2244827           Used To Love You  USUM71516915  0.893781  \n",
       "1391254  Doing It (feat. Rita Ora)  GBAHS1500002  0.880087  \n",
       "1361                        Chains  USUM71411120  0.879425  \n",
       "173006                     Tonight  QMTM61300011  0.879060  "
      ]
     },
     "execution_count": 59,
     "metadata": {
      "tags": []
     },
     "output_type": "execute_result"
    }
   ],
   "source": [
    "i = 'S/BQuJmY8py2c1eqQVqnfdnOx1d2o5mTJ4BGkQgt9Pg='\n",
    "print('Query:')\n",
    "display(songs[songs['song_id'] == i])\n",
    "print('Similars:')\n",
    "similar_song(i, filtering=True)"
   ]
  },
  {
   "cell_type": "markdown",
   "metadata": {
    "id": "DJjhWUzExfgc"
   },
   "source": [
    "Симиляры для Eminem"
   ]
  },
  {
   "cell_type": "code",
   "execution_count": null,
   "metadata": {
    "id": "3Tz8AVpFxfgc",
    "outputId": "1226e31c-3a39-4a3e-b97d-1cf34f264f95"
   },
   "outputs": [
    {
     "name": "stdout",
     "output_type": "stream",
     "text": [
      "Query:\n"
     ]
    },
    {
     "data": {
      "text/html": [
       "<div>\n",
       "<style scoped>\n",
       "    .dataframe tbody tr th:only-of-type {\n",
       "        vertical-align: middle;\n",
       "    }\n",
       "\n",
       "    .dataframe tbody tr th {\n",
       "        vertical-align: top;\n",
       "    }\n",
       "\n",
       "    .dataframe thead th {\n",
       "        text-align: right;\n",
       "    }\n",
       "</style>\n",
       "<table border=\"1\" class=\"dataframe\">\n",
       "  <thead>\n",
       "    <tr style=\"text-align: right;\">\n",
       "      <th></th>\n",
       "      <th>song_id</th>\n",
       "      <th>song_length</th>\n",
       "      <th>genre_ids</th>\n",
       "      <th>artist_name</th>\n",
       "      <th>composer</th>\n",
       "      <th>lyricist</th>\n",
       "      <th>language</th>\n",
       "      <th>name</th>\n",
       "      <th>isrc</th>\n",
       "    </tr>\n",
       "  </thead>\n",
       "  <tbody>\n",
       "    <tr>\n",
       "      <th>1381</th>\n",
       "      <td>p+WxS35GIo9lHYpW17Bz/PRW+UcGH9R+bq+wU2caYnY=</td>\n",
       "      <td>326426.0</td>\n",
       "      <td>1259</td>\n",
       "      <td>Eminem</td>\n",
       "      <td>Jeff Bass</td>\n",
       "      <td>NaN</td>\n",
       "      <td>52.0</td>\n",
       "      <td>Lose Yourself</td>\n",
       "      <td>USIR10211559</td>\n",
       "    </tr>\n",
       "  </tbody>\n",
       "</table>\n",
       "</div>"
      ],
      "text/plain": [
       "                                           song_id  song_length genre_ids  \\\n",
       "1381  p+WxS35GIo9lHYpW17Bz/PRW+UcGH9R+bq+wU2caYnY=     326426.0      1259   \n",
       "\n",
       "     artist_name   composer lyricist  language           name          isrc  \n",
       "1381      Eminem  Jeff Bass      NaN      52.0  Lose Yourself  USIR10211559  "
      ]
     },
     "metadata": {
      "tags": []
     },
     "output_type": "display_data"
    },
    {
     "name": "stdout",
     "output_type": "stream",
     "text": [
      "Similars:\n"
     ]
    },
    {
     "data": {
      "text/html": [
       "<div>\n",
       "<style scoped>\n",
       "    .dataframe tbody tr th:only-of-type {\n",
       "        vertical-align: middle;\n",
       "    }\n",
       "\n",
       "    .dataframe tbody tr th {\n",
       "        vertical-align: top;\n",
       "    }\n",
       "\n",
       "    .dataframe thead th {\n",
       "        text-align: right;\n",
       "    }\n",
       "</style>\n",
       "<table border=\"1\" class=\"dataframe\">\n",
       "  <thead>\n",
       "    <tr style=\"text-align: right;\">\n",
       "      <th></th>\n",
       "      <th>song_id</th>\n",
       "      <th>song_length</th>\n",
       "      <th>genre_ids</th>\n",
       "      <th>artist_name</th>\n",
       "      <th>composer</th>\n",
       "      <th>lyricist</th>\n",
       "      <th>language</th>\n",
       "      <th>name</th>\n",
       "      <th>isrc</th>\n",
       "      <th>score</th>\n",
       "    </tr>\n",
       "  </thead>\n",
       "  <tbody>\n",
       "    <tr>\n",
       "      <th>218128</th>\n",
       "      <td>mQiuYoYa7M4AXaoBIdnsYdWsQvdxO4+iOLEJDPH2uHA=</td>\n",
       "      <td>248081.0</td>\n",
       "      <td>1259</td>\n",
       "      <td>Eminem</td>\n",
       "      <td>Marshall Mathers</td>\n",
       "      <td>NaN</td>\n",
       "      <td>52.0</td>\n",
       "      <td>Not Afraid</td>\n",
       "      <td>USUM71011769</td>\n",
       "      <td>0.843304</td>\n",
       "    </tr>\n",
       "    <tr>\n",
       "      <th>111270</th>\n",
       "      <td>OOarkaG0Xyy2XApXZH6fhr4MYYEHpff1PehLT+beSSo=</td>\n",
       "      <td>303717.0</td>\n",
       "      <td>1259</td>\n",
       "      <td>Eminem</td>\n",
       "      <td>Marshall Mathers</td>\n",
       "      <td>NaN</td>\n",
       "      <td>52.0</td>\n",
       "      <td>Cold Wind Blows</td>\n",
       "      <td>USUM71015400</td>\n",
       "      <td>0.828991</td>\n",
       "    </tr>\n",
       "    <tr>\n",
       "      <th>148617</th>\n",
       "      <td>4vR/NlFbW5kLlBr/m0ZoWEUJaaf7KBWhHL6n28EcZlg=</td>\n",
       "      <td>363903.0</td>\n",
       "      <td>1259</td>\n",
       "      <td>Eminem</td>\n",
       "      <td>Marshall Mathers</td>\n",
       "      <td>NaN</td>\n",
       "      <td>52.0</td>\n",
       "      <td>Rap God</td>\n",
       "      <td>USUM71314079</td>\n",
       "      <td>0.819325</td>\n",
       "    </tr>\n",
       "    <tr>\n",
       "      <th>210085</th>\n",
       "      <td>78w25Ysgx+7z9JWQwlA3ypIpPvKBz6afDGLnp1OZUcw=</td>\n",
       "      <td>250125.0</td>\n",
       "      <td>1259</td>\n",
       "      <td>Eminem</td>\n",
       "      <td>Marshall Mathers</td>\n",
       "      <td>NaN</td>\n",
       "      <td>52.0</td>\n",
       "      <td>The Monster</td>\n",
       "      <td>USUM71314082</td>\n",
       "      <td>0.804873</td>\n",
       "    </tr>\n",
       "    <tr>\n",
       "      <th>477730</th>\n",
       "      <td>7DV7pn2Z7mB/RGbPIlnSQa4j204CBWSOcjYcz4n36GI=</td>\n",
       "      <td>404375.0</td>\n",
       "      <td>465</td>\n",
       "      <td>Eminem</td>\n",
       "      <td>Marshall Mathers</td>\n",
       "      <td>NaN</td>\n",
       "      <td>52.0</td>\n",
       "      <td>Stan</td>\n",
       "      <td>USIR10001280</td>\n",
       "      <td>0.795895</td>\n",
       "    </tr>\n",
       "  </tbody>\n",
       "</table>\n",
       "</div>"
      ],
      "text/plain": [
       "                                             song_id  song_length genre_ids  \\\n",
       "218128  mQiuYoYa7M4AXaoBIdnsYdWsQvdxO4+iOLEJDPH2uHA=     248081.0      1259   \n",
       "111270  OOarkaG0Xyy2XApXZH6fhr4MYYEHpff1PehLT+beSSo=     303717.0      1259   \n",
       "148617  4vR/NlFbW5kLlBr/m0ZoWEUJaaf7KBWhHL6n28EcZlg=     363903.0      1259   \n",
       "210085  78w25Ysgx+7z9JWQwlA3ypIpPvKBz6afDGLnp1OZUcw=     250125.0      1259   \n",
       "477730  7DV7pn2Z7mB/RGbPIlnSQa4j204CBWSOcjYcz4n36GI=     404375.0       465   \n",
       "\n",
       "       artist_name          composer lyricist  language             name  \\\n",
       "218128      Eminem  Marshall Mathers      NaN      52.0       Not Afraid   \n",
       "111270      Eminem  Marshall Mathers      NaN      52.0  Cold Wind Blows   \n",
       "148617      Eminem  Marshall Mathers      NaN      52.0          Rap God   \n",
       "210085      Eminem  Marshall Mathers      NaN      52.0      The Monster   \n",
       "477730      Eminem  Marshall Mathers      NaN      52.0             Stan   \n",
       "\n",
       "                isrc     score  \n",
       "218128  USUM71011769  0.843304  \n",
       "111270  USUM71015400  0.828991  \n",
       "148617  USUM71314079  0.819325  \n",
       "210085  USUM71314082  0.804873  \n",
       "477730  USIR10001280  0.795895  "
      ]
     },
     "execution_count": 60,
     "metadata": {
      "tags": []
     },
     "output_type": "execute_result"
    }
   ],
   "source": [
    "i = 'p+WxS35GIo9lHYpW17Bz/PRW+UcGH9R+bq+wU2caYnY='\n",
    "print('Query:')\n",
    "display(songs[songs['song_id'] == i])\n",
    "print('Similars:')\n",
    "similar_song(i, filtering=True)"
   ]
  },
  {
   "cell_type": "markdown",
   "metadata": {
    "id": "pp7X_V2Yxfge"
   },
   "source": [
    "### б) Recommendations"
   ]
  },
  {
   "cell_type": "code",
   "execution_count": 4,
   "metadata": {
    "id": "UVwz3tTIxfge"
   },
   "outputs": [],
   "source": [
    "import torch\n",
    "import torch.nn as nn\n",
    "import pickle\n",
    "from torch.optim import Adam\n",
    "from torch.utils.data import DataLoader, TensorDataset\n",
    "from tqdm.notebook import tqdm"
   ]
  },
  {
   "cell_type": "code",
   "execution_count": 5,
   "metadata": {
    "id": "IETLtQzr5nbS"
   },
   "outputs": [],
   "source": [
    "device = torch.device('cuda' if torch.cuda.is_available() else 'cpu')"
   ]
  },
  {
   "cell_type": "markdown",
   "metadata": {},
   "source": [
    "Модель:"
   ]
  },
  {
   "cell_type": "code",
   "execution_count": 6,
   "metadata": {
    "id": "CwNqNHAyxfgf"
   },
   "outputs": [],
   "source": [
    "class Embeddings(nn.Module):\n",
    "    def __init__(self, embeddings_path):\n",
    "        super(Embeddings, self).__init__()\n",
    "        embeddings = np.load(embeddings_path)\n",
    "        self.v_s, self.d_model = embeddings.shape\n",
    "\n",
    "        self.embeddings = nn.Embedding(self.v_s, self.d_model)\n",
    "        self.embeddings.weight = nn.Parameter(\n",
    "            torch.from_numpy(embeddings).float(), requires_grad=False\n",
    "        )\n",
    "    \n",
    "    def forward(self, x):\n",
    "        return self.embeddings(x)"
   ]
  },
  {
   "cell_type": "code",
   "execution_count": 8,
   "metadata": {
    "id": "0cFQKFCAxfgh"
   },
   "outputs": [],
   "source": [
    "class Recommender_w2v(nn.Module):\n",
    "    def __init__(self, emb_path_song, emb_path_user, hidden_size=32): \n",
    "        super().__init__()\n",
    "        self.song_embeddings = Embeddings(emb_path_song)\n",
    "        self.user_embeddings = Embeddings(emb_path_user)\n",
    "\n",
    "        self.fc1 = nn.Linear(self.song_embeddings.d_model * 2, hidden_size)\n",
    "        self.relu = torch.nn.ReLU()\n",
    "        self.fc2 = torch.nn.Linear(hidden_size, 1)\n",
    "        self.Sigmoid = nn.Sigmoid()\n",
    "\n",
    "    def forward(self, x):\n",
    "        user = self.user_embeddings(x[:, 0, :])\n",
    "        song = self.song_embeddings(x[:, 1, :])\n",
    "        embeddings = torch.cat([user, song], dim=2)\n",
    "\n",
    "        # print('emb:', embeddings.shape)\n",
    "        x = self.fc1(embeddings)\n",
    "        # print('f1:', x.shape)\n",
    "        x = self.relu(x)\n",
    "        # print('relu:', x.shape)\n",
    "        x = self.fc2(x)\n",
    "        # print('f2:', x.shape)\n",
    "        x = self.Sigmoid(x)\n",
    "        # print('sig:', x.shape)\n",
    "        return x"
   ]
  },
  {
   "cell_type": "code",
   "execution_count": 9,
   "metadata": {
    "id": "O5ZOsHdCxfgi"
   },
   "outputs": [],
   "source": [
    "matrix = np.array([w2v.wv[piece] for piece in w2v.wv.vocab])\n",
    "np.save(f'w2v_matrix.npy', matrix)"
   ]
  },
  {
   "cell_type": "markdown",
   "metadata": {
    "id": "faoc9qh4xfgk"
   },
   "source": [
    "Эмбеддинги для пользователей"
   ]
  },
  {
   "cell_type": "code",
   "execution_count": null,
   "metadata": {
    "id": "UUJy4x5bxfgk"
   },
   "outputs": [],
   "source": [
    "def get_user_embeddings(user_id):\n",
    "    return np.mean([w2v[s] for s in sessions[user_id]], axis=0)"
   ]
  },
  {
   "cell_type": "code",
   "execution_count": null,
   "metadata": {
    "colab": {
     "referenced_widgets": [
      "8e891b9c055f4c8697d2f0ed191930bf"
     ]
    },
    "id": "5m1uGJG2xfgm",
    "outputId": "d727c852-f6f2-4337-830a-6021d62bc333"
   },
   "outputs": [
    {
     "data": {
      "application/vnd.jupyter.widget-view+json": {
       "model_id": "8e891b9c055f4c8697d2f0ed191930bf",
       "version_major": 2,
       "version_minor": 0
      },
      "text/plain": [
       "HBox(children=(FloatProgress(value=0.0, max=30755.0), HTML(value='')))"
      ]
     },
     "metadata": {
      "tags": []
     },
     "output_type": "display_data"
    },
    {
     "name": "stdout",
     "output_type": "stream",
     "text": [
      "\n"
     ]
    }
   ],
   "source": [
    "users = {item: get_user_embeddings(item) for item in tqdm(data['msno'].unique())}\n",
    "matrix = np.array([users[piece] for piece in users.keys()])\n",
    "np.save(f'w2v_matrix_user.npy', matrix)"
   ]
  },
  {
   "cell_type": "code",
   "execution_count": null,
   "metadata": {
    "id": "HDgGRKkixfgo"
   },
   "outputs": [],
   "source": [
    "user2id = {x: i for i, x in enumerate(users.keys())}\n",
    "id2user = list(users.keys())"
   ]
  },
  {
   "cell_type": "code",
   "execution_count": null,
   "metadata": {
    "id": "ItYj1YZXxfgp"
   },
   "outputs": [],
   "source": [
    "song2id = {x: i for i, x in enumerate(w2v.wv.vocab)}\n",
    "id2song = list(w2v.wv.vocab)"
   ]
  },
  {
   "cell_type": "code",
   "execution_count": null,
   "metadata": {
    "colab": {
     "referenced_widgets": [
      "8db0ace2c7884b4c87c42d2c1c69ec05"
     ]
    },
    "id": "jH3EEHOqxfgq",
    "outputId": "82142b66-7aa8-422f-ff44-d2f9966412a1"
   },
   "outputs": [
    {
     "data": {
      "application/vnd.jupyter.widget-view+json": {
       "model_id": "8db0ace2c7884b4c87c42d2c1c69ec05",
       "version_major": 2,
       "version_minor": 0
      },
      "text/plain": [
       "HBox(children=(FloatProgress(value=0.0, max=7377418.0), HTML(value='')))"
      ]
     },
     "metadata": {
      "tags": []
     },
     "output_type": "display_data"
    },
    {
     "name": "stdout",
     "output_type": "stream",
     "text": [
      "\n",
      "\n"
     ]
    }
   ],
   "source": [
    "X_ = []\n",
    "for i, (user, song) in tqdm(data[['msno', 'song_id']].iterrows(), total=len(data)):\n",
    "    u = user2id[user]\n",
    "    s = song2id[song]\n",
    "    X_.append([u, s])"
   ]
  },
  {
   "cell_type": "markdown",
   "metadata": {},
   "source": [
    "Загрузка данных:"
   ]
  },
  {
   "cell_type": "code",
   "execution_count": 9,
   "metadata": {
    "id": "nfYDsV9Hxfgr"
   },
   "outputs": [],
   "source": [
    "# X_w2v = torch.tensor(X_)\n",
    "# torch.save(X_w2v, 'X_w2v.pt')\n",
    "X_w2v = torch.load('w2v_recommender/X_w2v.pt', map_location=torch.device(device))"
   ]
  },
  {
   "cell_type": "code",
   "execution_count": 10,
   "metadata": {
    "id": "uSVPPkJVxfgs"
   },
   "outputs": [],
   "source": [
    "# y_w2v = torch.tensor(data['target'].to_list())\n",
    "# torch.save(y_w2v, 'y_w2v.pt')\n",
    "y_w2v = torch.load('w2v_recommender/y_w2v.pt', map_location=torch.device(device))"
   ]
  },
  {
   "cell_type": "code",
   "execution_count": 11,
   "metadata": {
    "id": "0wO_379Axfgu"
   },
   "outputs": [],
   "source": [
    "with open('w2v_recommender/user2id.pickle', 'rb') as f:\n",
    "    user2id = pickle.load(f)\n",
    "\n",
    "with open('w2v_recommender/id2user.pickle', 'rb') as f:\n",
    "    id2user = pickle.load(f)\n",
    "    \n",
    "with open('w2v_recommender/song2id.pickle', 'rb') as f:\n",
    "    song2id = pickle.load(f)\n",
    "\n",
    "with open('w2v_recommender/id2song.pickle', 'rb') as f:\n",
    "    id2song = pickle.load(f)"
   ]
  },
  {
   "cell_type": "markdown",
   "metadata": {
    "id": "M6Osu8ZIxfgw"
   },
   "source": [
    "Train"
   ]
  },
  {
   "cell_type": "code",
   "execution_count": 56,
   "metadata": {
    "id": "u9pQnJqYxfgw"
   },
   "outputs": [],
   "source": [
    "def train_recommender_w2v(X, y):\n",
    "    X = X.unsqueeze(2)\n",
    "    y = y.unsqueeze(1).type(torch.FloatTensor)\n",
    "\n",
    "    kf = KFold(n_splits=5)\n",
    "    fold_splits = kf.split(X, y)\n",
    "    scores = []\n",
    "\n",
    "    for i, (dev_index, val_index) in enumerate(fold_splits):\n",
    "        dev_X, val_X = X[dev_index], X[val_index]\n",
    "        dev_y, val_y = y[dev_index], y[val_index]\n",
    "        \n",
    "        model = Recommender_w2v('w2v_recommender/w2v_matrix_song.npy', 'w2v_recommender/w2v_matrix_user.npy')\n",
    "        model = model.to(device)\n",
    "        \n",
    "        train = TensorDataset(dev_X, dev_y)\n",
    "        val = TensorDataset(val_X, val_y)\n",
    "\n",
    "        train_data = DataLoader(train, batch_size=512, shuffle=True)\n",
    "        val_data = DataLoader(val, batch_size=512, shuffle=True)\n",
    "\n",
    "        optimizer = Adam(model.parameters())\n",
    "        criterion = nn.BCELoss()\n",
    "        epochs = 10\n",
    "        losses = []\n",
    "\n",
    "        print(f'Fold {i + 1}')\n",
    "        for e in tqdm(range(epochs)):\n",
    "            for xx, yy in train_data:\n",
    "                model.train()\n",
    "                optimizer.zero_grad()\n",
    "                y_pred = model(xx)\n",
    "                loss = criterion(y_pred.flatten(0, 1).cpu(), yy.cpu())\n",
    "                loss_value = loss.item()\n",
    "                loss.backward()\n",
    "                optimizer.step()\n",
    "\n",
    "            if e % 5 == 0 or e == epochs - 1: \n",
    "                for x_, y_ in val_data: \n",
    "                    with torch.no_grad():\n",
    "                        model.eval()\n",
    "                        y_val_pred = model(x_)\n",
    "                        loss = criterion(y_val_pred.flatten(0, 1).cpu(), y_.cpu())\n",
    "                        losses.append(loss.item())\n",
    "                print(f'Loss {e + 1} / {epochs}: {np.mean(losses)}')\n",
    "\n",
    "        with torch.no_grad():\n",
    "            model.eval()\n",
    "            y_result = model(val_X)\n",
    "            auc = roc_auc_score(val_y.cpu(), y_result.flatten(0, 1).cpu())\n",
    "        scores.append(auc)\n",
    "    return scores"
   ]
  },
  {
   "cell_type": "code",
   "execution_count": 58,
   "metadata": {
    "colab": {
     "base_uri": "https://localhost:8080/",
     "height": 687,
     "referenced_widgets": [
      "7e9e09b4005b4a6daf15ee65da14a526",
      "7f77ce2bd942413fb2517dfb4f549dc4",
      "40ac016b708a4af581f05a0d980fa7ef",
      "64b9b5c6e45e49ad88082d2a2c6eb137",
      "2e7cbdddb7fb4e6bb22f121e3602a870",
      "21e1b6b4350447b3978190c83cab2ae0",
      "e32b5dac6ad64d8b945d08947b6b7fdb",
      "bf5b02e650b24911831c5418e7a4be16",
      "e4754c99d23e46b89e001c1293bbb0db",
      "97925a2629054697b0eaad5d1390c828",
      "df53a37e25124906a1350a2eb002b40c",
      "a2faf51b24944d62a413af7f409437be",
      "630b0421eda14f14862883d42e23e099",
      "37085a9f52dd46c09eaacb41570d9ba9",
      "8db179e789034191b74ed0583d80e2a2",
      "2bc303676aad4147ab7a7308b90de6bb",
      "4320548e52564b1e8a8cb1795dd1647c",
      "833cc3b2710f4964bf67c8c61511be2e",
      "854b938d391c441b9d69a9ec94d4fc75",
      "bc0c1cc16c5342a7b7437a4c66b80a81",
      "16d05bca193f430cb4e3735845d30b01",
      "fe90113e40bf4afcb8b5d06bcf1c57c5",
      "8abf24ff9343497aaf23a9a89bb8de5a",
      "8ede6f03ed474aa3b4c309ac726e8314",
      "ddab62d432c142dabe5630709f54fe80",
      "6776ac4e3c6c415da77cbb278e195cf4",
      "75bc8aa1bb224d80a01a145b0a327f7a",
      "129d80dcc34142afa3bcbcea77f8fdd2",
      "a5883a8e9487490c8171ff9f0acb2d50",
      "2c52aef83bad4e84a12d4d592a8a591d",
      "dc020a1b91e94afcb09bf0d3d8305168",
      "bbb13bbfcc01415e955078b78b97f4f2",
      "b029d431d64f40738e5a7e1bef6be45a",
      "200756eb9472477cb34345852429df5d",
      "35deb562e1b64113baa958472cf413ee",
      "edba96ae1e214e438e53dcc00a3e2659",
      "49e51af6fb7c4b898d0220ccc2ee0d83",
      "99cadd9a41b345c5b32bd2bb81bef4e6",
      "11d6d01e2bfb4eb585ad02063e089f05",
      "15df4602fa0348d0960e076322a9d69b"
     ]
    },
    "id": "eh-F-HMozR39",
    "outputId": "72e0b506-9ec3-4d4f-ee95-3068e403a046"
   },
   "outputs": [
    {
     "name": "stdout",
     "output_type": "stream",
     "text": [
      "Fold 1\n"
     ]
    },
    {
     "data": {
      "application/vnd.jupyter.widget-view+json": {
       "model_id": "7e9e09b4005b4a6daf15ee65da14a526",
       "version_major": 2,
       "version_minor": 0
      },
      "text/plain": [
       "HBox(children=(FloatProgress(value=0.0, max=10.0), HTML(value='')))"
      ]
     },
     "metadata": {
      "tags": []
     },
     "output_type": "display_data"
    },
    {
     "name": "stdout",
     "output_type": "stream",
     "text": [
      "Loss 1 / 10: 0.6497827474232104\n",
      "Loss 6 / 10: 0.6484118635293761\n",
      "Loss 10 / 10: 0.6461745838986043\n",
      "\n",
      "0.7015429969737472\n",
      "Fold 2\n"
     ]
    },
    {
     "data": {
      "application/vnd.jupyter.widget-view+json": {
       "model_id": "e4754c99d23e46b89e001c1293bbb0db",
       "version_major": 2,
       "version_minor": 0
      },
      "text/plain": [
       "HBox(children=(FloatProgress(value=0.0, max=10.0), HTML(value='')))"
      ]
     },
     "metadata": {
      "tags": []
     },
     "output_type": "display_data"
    },
    {
     "name": "stdout",
     "output_type": "stream",
     "text": [
      "Loss 1 / 10: 0.6478524991905086\n",
      "Loss 6 / 10: 0.6449275229392492\n",
      "Loss 10 / 10: 0.6441980658610497\n",
      "\n",
      "0.6795233234422824\n",
      "Fold 3\n"
     ]
    },
    {
     "data": {
      "application/vnd.jupyter.widget-view+json": {
       "model_id": "4320548e52564b1e8a8cb1795dd1647c",
       "version_major": 2,
       "version_minor": 0
      },
      "text/plain": [
       "HBox(children=(FloatProgress(value=0.0, max=10.0), HTML(value='')))"
      ]
     },
     "metadata": {
      "tags": []
     },
     "output_type": "display_data"
    },
    {
     "name": "stdout",
     "output_type": "stream",
     "text": [
      "Loss 1 / 10: 0.6664443667525636\n",
      "Loss 6 / 10: 0.6611078700553535\n",
      "Loss 10 / 10: 0.6592053802179402\n",
      "\n",
      "0.6606400193795328\n",
      "Fold 4\n"
     ]
    },
    {
     "data": {
      "application/vnd.jupyter.widget-view+json": {
       "model_id": "ddab62d432c142dabe5630709f54fe80",
       "version_major": 2,
       "version_minor": 0
      },
      "text/plain": [
       "HBox(children=(FloatProgress(value=0.0, max=10.0), HTML(value='')))"
      ]
     },
     "metadata": {
      "tags": []
     },
     "output_type": "display_data"
    },
    {
     "name": "stdout",
     "output_type": "stream",
     "text": [
      "Loss 1 / 10: 0.6768074252181877\n",
      "Loss 6 / 10: 0.6736789443875915\n",
      "Loss 10 / 10: 0.671193666461439\n",
      "\n",
      "0.6432210748501956\n",
      "Fold 5\n"
     ]
    },
    {
     "data": {
      "application/vnd.jupyter.widget-view+json": {
       "model_id": "b029d431d64f40738e5a7e1bef6be45a",
       "version_major": 2,
       "version_minor": 0
      },
      "text/plain": [
       "HBox(children=(FloatProgress(value=0.0, max=10.0), HTML(value='')))"
      ]
     },
     "metadata": {
      "tags": []
     },
     "output_type": "display_data"
    },
    {
     "name": "stdout",
     "output_type": "stream",
     "text": [
      "Loss 1 / 10: 0.6820587827710953\n",
      "Loss 6 / 10: 0.6850417198239723\n",
      "Loss 10 / 10: 0.6846530685236187\n",
      "\n",
      "0.6272458801751584\n"
     ]
    }
   ],
   "source": [
    "scores = train_recommender_w2v(X_w2v, y_w2v)"
   ]
  },
  {
   "cell_type": "code",
   "execution_count": 59,
   "metadata": {
    "colab": {
     "base_uri": "https://localhost:8080/"
    },
    "id": "BQl06H-T3euh",
    "outputId": "0b311cde-393f-4174-a1d1-bef4ef5198c7"
   },
   "outputs": [
    {
     "name": "stdout",
     "output_type": "stream",
     "text": [
      "Fold 1: AUC on validations - 0.7015429969737472\n",
      "Fold 2: AUC on validations - 0.6795233234422824\n",
      "Fold 3: AUC on validations - 0.6606400193795328\n",
      "Fold 4: AUC on validations - 0.6432210748501956\n",
      "Fold 5: AUC on validations - 0.6272458801751584\n",
      "Mean AUC - 0.6624346589641832\n"
     ]
    }
   ],
   "source": [
    "for i in range(len(scores)):\n",
    "    print(f'Fold {i + 1}: AUC on validations - {scores[i]}')\n",
    "print(f'Mean AUC - {np.mean(scores)}')"
   ]
  },
  {
   "cell_type": "markdown",
   "metadata": {
    "id": "Rkxi2jR68q8D"
   },
   "source": [
    "Модель с word2vec фичами оказалась лучше (у catboost mean AUC 0.63), но это видимо из-за того что в первом варианте были выбраны не очень хорошие фичи"
   ]
  },
  {
   "cell_type": "code",
   "execution_count": null,
   "metadata": {},
   "outputs": [],
   "source": []
  }
 ],
 "metadata": {
  "accelerator": "GPU",
  "colab": {
   "name": "HW2_last.ipynb",
   "provenance": []
  },
  "kernelspec": {
   "display_name": "Python 3",
   "language": "python",
   "name": "python3"
  },
  "language_info": {
   "codemirror_mode": {
    "name": "ipython",
    "version": 3
   },
   "file_extension": ".py",
   "mimetype": "text/x-python",
   "name": "python",
   "nbconvert_exporter": "python",
   "pygments_lexer": "ipython3",
   "version": "3.7.6"
  },
  "widgets": {
   "application/vnd.jupyter.widget-state+json": {
    "11d6d01e2bfb4eb585ad02063e089f05": {
     "model_module": "@jupyter-widgets/controls",
     "model_name": "DescriptionStyleModel",
     "state": {
      "_model_module": "@jupyter-widgets/controls",
      "_model_module_version": "1.5.0",
      "_model_name": "DescriptionStyleModel",
      "_view_count": null,
      "_view_module": "@jupyter-widgets/base",
      "_view_module_version": "1.2.0",
      "_view_name": "StyleView",
      "description_width": ""
     }
    },
    "129d80dcc34142afa3bcbcea77f8fdd2": {
     "model_module": "@jupyter-widgets/controls",
     "model_name": "HTMLModel",
     "state": {
      "_dom_classes": [],
      "_model_module": "@jupyter-widgets/controls",
      "_model_module_version": "1.5.0",
      "_model_name": "HTMLModel",
      "_view_count": null,
      "_view_module": "@jupyter-widgets/controls",
      "_view_module_version": "1.5.0",
      "_view_name": "HTMLView",
      "description": "",
      "description_tooltip": null,
      "layout": "IPY_MODEL_bbb13bbfcc01415e955078b78b97f4f2",
      "placeholder": "​",
      "style": "IPY_MODEL_dc020a1b91e94afcb09bf0d3d8305168",
      "value": " 10/10 [09:42&lt;00:00, 58.26s/it]"
     }
    },
    "15df4602fa0348d0960e076322a9d69b": {
     "model_module": "@jupyter-widgets/base",
     "model_name": "LayoutModel",
     "state": {
      "_model_module": "@jupyter-widgets/base",
      "_model_module_version": "1.2.0",
      "_model_name": "LayoutModel",
      "_view_count": null,
      "_view_module": "@jupyter-widgets/base",
      "_view_module_version": "1.2.0",
      "_view_name": "LayoutView",
      "align_content": null,
      "align_items": null,
      "align_self": null,
      "border": null,
      "bottom": null,
      "display": null,
      "flex": null,
      "flex_flow": null,
      "grid_area": null,
      "grid_auto_columns": null,
      "grid_auto_flow": null,
      "grid_auto_rows": null,
      "grid_column": null,
      "grid_gap": null,
      "grid_row": null,
      "grid_template_areas": null,
      "grid_template_columns": null,
      "grid_template_rows": null,
      "height": null,
      "justify_content": null,
      "justify_items": null,
      "left": null,
      "margin": null,
      "max_height": null,
      "max_width": null,
      "min_height": null,
      "min_width": null,
      "object_fit": null,
      "object_position": null,
      "order": null,
      "overflow": null,
      "overflow_x": null,
      "overflow_y": null,
      "padding": null,
      "right": null,
      "top": null,
      "visibility": null,
      "width": null
     }
    },
    "16d05bca193f430cb4e3735845d30b01": {
     "model_module": "@jupyter-widgets/controls",
     "model_name": "ProgressStyleModel",
     "state": {
      "_model_module": "@jupyter-widgets/controls",
      "_model_module_version": "1.5.0",
      "_model_name": "ProgressStyleModel",
      "_view_count": null,
      "_view_module": "@jupyter-widgets/base",
      "_view_module_version": "1.2.0",
      "_view_name": "StyleView",
      "bar_color": null,
      "description_width": "initial"
     }
    },
    "200756eb9472477cb34345852429df5d": {
     "model_module": "@jupyter-widgets/base",
     "model_name": "LayoutModel",
     "state": {
      "_model_module": "@jupyter-widgets/base",
      "_model_module_version": "1.2.0",
      "_model_name": "LayoutModel",
      "_view_count": null,
      "_view_module": "@jupyter-widgets/base",
      "_view_module_version": "1.2.0",
      "_view_name": "LayoutView",
      "align_content": null,
      "align_items": null,
      "align_self": null,
      "border": null,
      "bottom": null,
      "display": null,
      "flex": null,
      "flex_flow": null,
      "grid_area": null,
      "grid_auto_columns": null,
      "grid_auto_flow": null,
      "grid_auto_rows": null,
      "grid_column": null,
      "grid_gap": null,
      "grid_row": null,
      "grid_template_areas": null,
      "grid_template_columns": null,
      "grid_template_rows": null,
      "height": null,
      "justify_content": null,
      "justify_items": null,
      "left": null,
      "margin": null,
      "max_height": null,
      "max_width": null,
      "min_height": null,
      "min_width": null,
      "object_fit": null,
      "object_position": null,
      "order": null,
      "overflow": null,
      "overflow_x": null,
      "overflow_y": null,
      "padding": null,
      "right": null,
      "top": null,
      "visibility": null,
      "width": null
     }
    },
    "21e1b6b4350447b3978190c83cab2ae0": {
     "model_module": "@jupyter-widgets/base",
     "model_name": "LayoutModel",
     "state": {
      "_model_module": "@jupyter-widgets/base",
      "_model_module_version": "1.2.0",
      "_model_name": "LayoutModel",
      "_view_count": null,
      "_view_module": "@jupyter-widgets/base",
      "_view_module_version": "1.2.0",
      "_view_name": "LayoutView",
      "align_content": null,
      "align_items": null,
      "align_self": null,
      "border": null,
      "bottom": null,
      "display": null,
      "flex": null,
      "flex_flow": null,
      "grid_area": null,
      "grid_auto_columns": null,
      "grid_auto_flow": null,
      "grid_auto_rows": null,
      "grid_column": null,
      "grid_gap": null,
      "grid_row": null,
      "grid_template_areas": null,
      "grid_template_columns": null,
      "grid_template_rows": null,
      "height": null,
      "justify_content": null,
      "justify_items": null,
      "left": null,
      "margin": null,
      "max_height": null,
      "max_width": null,
      "min_height": null,
      "min_width": null,
      "object_fit": null,
      "object_position": null,
      "order": null,
      "overflow": null,
      "overflow_x": null,
      "overflow_y": null,
      "padding": null,
      "right": null,
      "top": null,
      "visibility": null,
      "width": null
     }
    },
    "2bc303676aad4147ab7a7308b90de6bb": {
     "model_module": "@jupyter-widgets/base",
     "model_name": "LayoutModel",
     "state": {
      "_model_module": "@jupyter-widgets/base",
      "_model_module_version": "1.2.0",
      "_model_name": "LayoutModel",
      "_view_count": null,
      "_view_module": "@jupyter-widgets/base",
      "_view_module_version": "1.2.0",
      "_view_name": "LayoutView",
      "align_content": null,
      "align_items": null,
      "align_self": null,
      "border": null,
      "bottom": null,
      "display": null,
      "flex": null,
      "flex_flow": null,
      "grid_area": null,
      "grid_auto_columns": null,
      "grid_auto_flow": null,
      "grid_auto_rows": null,
      "grid_column": null,
      "grid_gap": null,
      "grid_row": null,
      "grid_template_areas": null,
      "grid_template_columns": null,
      "grid_template_rows": null,
      "height": null,
      "justify_content": null,
      "justify_items": null,
      "left": null,
      "margin": null,
      "max_height": null,
      "max_width": null,
      "min_height": null,
      "min_width": null,
      "object_fit": null,
      "object_position": null,
      "order": null,
      "overflow": null,
      "overflow_x": null,
      "overflow_y": null,
      "padding": null,
      "right": null,
      "top": null,
      "visibility": null,
      "width": null
     }
    },
    "2c52aef83bad4e84a12d4d592a8a591d": {
     "model_module": "@jupyter-widgets/base",
     "model_name": "LayoutModel",
     "state": {
      "_model_module": "@jupyter-widgets/base",
      "_model_module_version": "1.2.0",
      "_model_name": "LayoutModel",
      "_view_count": null,
      "_view_module": "@jupyter-widgets/base",
      "_view_module_version": "1.2.0",
      "_view_name": "LayoutView",
      "align_content": null,
      "align_items": null,
      "align_self": null,
      "border": null,
      "bottom": null,
      "display": null,
      "flex": null,
      "flex_flow": null,
      "grid_area": null,
      "grid_auto_columns": null,
      "grid_auto_flow": null,
      "grid_auto_rows": null,
      "grid_column": null,
      "grid_gap": null,
      "grid_row": null,
      "grid_template_areas": null,
      "grid_template_columns": null,
      "grid_template_rows": null,
      "height": null,
      "justify_content": null,
      "justify_items": null,
      "left": null,
      "margin": null,
      "max_height": null,
      "max_width": null,
      "min_height": null,
      "min_width": null,
      "object_fit": null,
      "object_position": null,
      "order": null,
      "overflow": null,
      "overflow_x": null,
      "overflow_y": null,
      "padding": null,
      "right": null,
      "top": null,
      "visibility": null,
      "width": null
     }
    },
    "2e7cbdddb7fb4e6bb22f121e3602a870": {
     "model_module": "@jupyter-widgets/controls",
     "model_name": "ProgressStyleModel",
     "state": {
      "_model_module": "@jupyter-widgets/controls",
      "_model_module_version": "1.5.0",
      "_model_name": "ProgressStyleModel",
      "_view_count": null,
      "_view_module": "@jupyter-widgets/base",
      "_view_module_version": "1.2.0",
      "_view_name": "StyleView",
      "bar_color": null,
      "description_width": "initial"
     }
    },
    "35deb562e1b64113baa958472cf413ee": {
     "model_module": "@jupyter-widgets/controls",
     "model_name": "FloatProgressModel",
     "state": {
      "_dom_classes": [],
      "_model_module": "@jupyter-widgets/controls",
      "_model_module_version": "1.5.0",
      "_model_name": "FloatProgressModel",
      "_view_count": null,
      "_view_module": "@jupyter-widgets/controls",
      "_view_module_version": "1.5.0",
      "_view_name": "ProgressView",
      "bar_style": "success",
      "description": "100%",
      "description_tooltip": null,
      "layout": "IPY_MODEL_99cadd9a41b345c5b32bd2bb81bef4e6",
      "max": 10,
      "min": 0,
      "orientation": "horizontal",
      "style": "IPY_MODEL_49e51af6fb7c4b898d0220ccc2ee0d83",
      "value": 10
     }
    },
    "37085a9f52dd46c09eaacb41570d9ba9": {
     "model_module": "@jupyter-widgets/base",
     "model_name": "LayoutModel",
     "state": {
      "_model_module": "@jupyter-widgets/base",
      "_model_module_version": "1.2.0",
      "_model_name": "LayoutModel",
      "_view_count": null,
      "_view_module": "@jupyter-widgets/base",
      "_view_module_version": "1.2.0",
      "_view_name": "LayoutView",
      "align_content": null,
      "align_items": null,
      "align_self": null,
      "border": null,
      "bottom": null,
      "display": null,
      "flex": null,
      "flex_flow": null,
      "grid_area": null,
      "grid_auto_columns": null,
      "grid_auto_flow": null,
      "grid_auto_rows": null,
      "grid_column": null,
      "grid_gap": null,
      "grid_row": null,
      "grid_template_areas": null,
      "grid_template_columns": null,
      "grid_template_rows": null,
      "height": null,
      "justify_content": null,
      "justify_items": null,
      "left": null,
      "margin": null,
      "max_height": null,
      "max_width": null,
      "min_height": null,
      "min_width": null,
      "object_fit": null,
      "object_position": null,
      "order": null,
      "overflow": null,
      "overflow_x": null,
      "overflow_y": null,
      "padding": null,
      "right": null,
      "top": null,
      "visibility": null,
      "width": null
     }
    },
    "40ac016b708a4af581f05a0d980fa7ef": {
     "model_module": "@jupyter-widgets/controls",
     "model_name": "FloatProgressModel",
     "state": {
      "_dom_classes": [],
      "_model_module": "@jupyter-widgets/controls",
      "_model_module_version": "1.5.0",
      "_model_name": "FloatProgressModel",
      "_view_count": null,
      "_view_module": "@jupyter-widgets/controls",
      "_view_module_version": "1.5.0",
      "_view_name": "ProgressView",
      "bar_style": "success",
      "description": "100%",
      "description_tooltip": null,
      "layout": "IPY_MODEL_21e1b6b4350447b3978190c83cab2ae0",
      "max": 10,
      "min": 0,
      "orientation": "horizontal",
      "style": "IPY_MODEL_2e7cbdddb7fb4e6bb22f121e3602a870",
      "value": 10
     }
    },
    "4320548e52564b1e8a8cb1795dd1647c": {
     "model_module": "@jupyter-widgets/controls",
     "model_name": "HBoxModel",
     "state": {
      "_dom_classes": [],
      "_model_module": "@jupyter-widgets/controls",
      "_model_module_version": "1.5.0",
      "_model_name": "HBoxModel",
      "_view_count": null,
      "_view_module": "@jupyter-widgets/controls",
      "_view_module_version": "1.5.0",
      "_view_name": "HBoxView",
      "box_style": "",
      "children": [
       "IPY_MODEL_854b938d391c441b9d69a9ec94d4fc75",
       "IPY_MODEL_bc0c1cc16c5342a7b7437a4c66b80a81"
      ],
      "layout": "IPY_MODEL_833cc3b2710f4964bf67c8c61511be2e"
     }
    },
    "49e51af6fb7c4b898d0220ccc2ee0d83": {
     "model_module": "@jupyter-widgets/controls",
     "model_name": "ProgressStyleModel",
     "state": {
      "_model_module": "@jupyter-widgets/controls",
      "_model_module_version": "1.5.0",
      "_model_name": "ProgressStyleModel",
      "_view_count": null,
      "_view_module": "@jupyter-widgets/base",
      "_view_module_version": "1.2.0",
      "_view_name": "StyleView",
      "bar_color": null,
      "description_width": "initial"
     }
    },
    "630b0421eda14f14862883d42e23e099": {
     "model_module": "@jupyter-widgets/controls",
     "model_name": "ProgressStyleModel",
     "state": {
      "_model_module": "@jupyter-widgets/controls",
      "_model_module_version": "1.5.0",
      "_model_name": "ProgressStyleModel",
      "_view_count": null,
      "_view_module": "@jupyter-widgets/base",
      "_view_module_version": "1.2.0",
      "_view_name": "StyleView",
      "bar_color": null,
      "description_width": "initial"
     }
    },
    "64b9b5c6e45e49ad88082d2a2c6eb137": {
     "model_module": "@jupyter-widgets/controls",
     "model_name": "HTMLModel",
     "state": {
      "_dom_classes": [],
      "_model_module": "@jupyter-widgets/controls",
      "_model_module_version": "1.5.0",
      "_model_name": "HTMLModel",
      "_view_count": null,
      "_view_module": "@jupyter-widgets/controls",
      "_view_module_version": "1.5.0",
      "_view_name": "HTMLView",
      "description": "",
      "description_tooltip": null,
      "layout": "IPY_MODEL_bf5b02e650b24911831c5418e7a4be16",
      "placeholder": "​",
      "style": "IPY_MODEL_e32b5dac6ad64d8b945d08947b6b7fdb",
      "value": " 10/10 [09:42&lt;00:00, 58.25s/it]"
     }
    },
    "6776ac4e3c6c415da77cbb278e195cf4": {
     "model_module": "@jupyter-widgets/base",
     "model_name": "LayoutModel",
     "state": {
      "_model_module": "@jupyter-widgets/base",
      "_model_module_version": "1.2.0",
      "_model_name": "LayoutModel",
      "_view_count": null,
      "_view_module": "@jupyter-widgets/base",
      "_view_module_version": "1.2.0",
      "_view_name": "LayoutView",
      "align_content": null,
      "align_items": null,
      "align_self": null,
      "border": null,
      "bottom": null,
      "display": null,
      "flex": null,
      "flex_flow": null,
      "grid_area": null,
      "grid_auto_columns": null,
      "grid_auto_flow": null,
      "grid_auto_rows": null,
      "grid_column": null,
      "grid_gap": null,
      "grid_row": null,
      "grid_template_areas": null,
      "grid_template_columns": null,
      "grid_template_rows": null,
      "height": null,
      "justify_content": null,
      "justify_items": null,
      "left": null,
      "margin": null,
      "max_height": null,
      "max_width": null,
      "min_height": null,
      "min_width": null,
      "object_fit": null,
      "object_position": null,
      "order": null,
      "overflow": null,
      "overflow_x": null,
      "overflow_y": null,
      "padding": null,
      "right": null,
      "top": null,
      "visibility": null,
      "width": null
     }
    },
    "75bc8aa1bb224d80a01a145b0a327f7a": {
     "model_module": "@jupyter-widgets/controls",
     "model_name": "FloatProgressModel",
     "state": {
      "_dom_classes": [],
      "_model_module": "@jupyter-widgets/controls",
      "_model_module_version": "1.5.0",
      "_model_name": "FloatProgressModel",
      "_view_count": null,
      "_view_module": "@jupyter-widgets/controls",
      "_view_module_version": "1.5.0",
      "_view_name": "ProgressView",
      "bar_style": "success",
      "description": "100%",
      "description_tooltip": null,
      "layout": "IPY_MODEL_2c52aef83bad4e84a12d4d592a8a591d",
      "max": 10,
      "min": 0,
      "orientation": "horizontal",
      "style": "IPY_MODEL_a5883a8e9487490c8171ff9f0acb2d50",
      "value": 10
     }
    },
    "7e9e09b4005b4a6daf15ee65da14a526": {
     "model_module": "@jupyter-widgets/controls",
     "model_name": "HBoxModel",
     "state": {
      "_dom_classes": [],
      "_model_module": "@jupyter-widgets/controls",
      "_model_module_version": "1.5.0",
      "_model_name": "HBoxModel",
      "_view_count": null,
      "_view_module": "@jupyter-widgets/controls",
      "_view_module_version": "1.5.0",
      "_view_name": "HBoxView",
      "box_style": "",
      "children": [
       "IPY_MODEL_40ac016b708a4af581f05a0d980fa7ef",
       "IPY_MODEL_64b9b5c6e45e49ad88082d2a2c6eb137"
      ],
      "layout": "IPY_MODEL_7f77ce2bd942413fb2517dfb4f549dc4"
     }
    },
    "7f77ce2bd942413fb2517dfb4f549dc4": {
     "model_module": "@jupyter-widgets/base",
     "model_name": "LayoutModel",
     "state": {
      "_model_module": "@jupyter-widgets/base",
      "_model_module_version": "1.2.0",
      "_model_name": "LayoutModel",
      "_view_count": null,
      "_view_module": "@jupyter-widgets/base",
      "_view_module_version": "1.2.0",
      "_view_name": "LayoutView",
      "align_content": null,
      "align_items": null,
      "align_self": null,
      "border": null,
      "bottom": null,
      "display": null,
      "flex": null,
      "flex_flow": null,
      "grid_area": null,
      "grid_auto_columns": null,
      "grid_auto_flow": null,
      "grid_auto_rows": null,
      "grid_column": null,
      "grid_gap": null,
      "grid_row": null,
      "grid_template_areas": null,
      "grid_template_columns": null,
      "grid_template_rows": null,
      "height": null,
      "justify_content": null,
      "justify_items": null,
      "left": null,
      "margin": null,
      "max_height": null,
      "max_width": null,
      "min_height": null,
      "min_width": null,
      "object_fit": null,
      "object_position": null,
      "order": null,
      "overflow": null,
      "overflow_x": null,
      "overflow_y": null,
      "padding": null,
      "right": null,
      "top": null,
      "visibility": null,
      "width": null
     }
    },
    "833cc3b2710f4964bf67c8c61511be2e": {
     "model_module": "@jupyter-widgets/base",
     "model_name": "LayoutModel",
     "state": {
      "_model_module": "@jupyter-widgets/base",
      "_model_module_version": "1.2.0",
      "_model_name": "LayoutModel",
      "_view_count": null,
      "_view_module": "@jupyter-widgets/base",
      "_view_module_version": "1.2.0",
      "_view_name": "LayoutView",
      "align_content": null,
      "align_items": null,
      "align_self": null,
      "border": null,
      "bottom": null,
      "display": null,
      "flex": null,
      "flex_flow": null,
      "grid_area": null,
      "grid_auto_columns": null,
      "grid_auto_flow": null,
      "grid_auto_rows": null,
      "grid_column": null,
      "grid_gap": null,
      "grid_row": null,
      "grid_template_areas": null,
      "grid_template_columns": null,
      "grid_template_rows": null,
      "height": null,
      "justify_content": null,
      "justify_items": null,
      "left": null,
      "margin": null,
      "max_height": null,
      "max_width": null,
      "min_height": null,
      "min_width": null,
      "object_fit": null,
      "object_position": null,
      "order": null,
      "overflow": null,
      "overflow_x": null,
      "overflow_y": null,
      "padding": null,
      "right": null,
      "top": null,
      "visibility": null,
      "width": null
     }
    },
    "854b938d391c441b9d69a9ec94d4fc75": {
     "model_module": "@jupyter-widgets/controls",
     "model_name": "FloatProgressModel",
     "state": {
      "_dom_classes": [],
      "_model_module": "@jupyter-widgets/controls",
      "_model_module_version": "1.5.0",
      "_model_name": "FloatProgressModel",
      "_view_count": null,
      "_view_module": "@jupyter-widgets/controls",
      "_view_module_version": "1.5.0",
      "_view_name": "ProgressView",
      "bar_style": "success",
      "description": "100%",
      "description_tooltip": null,
      "layout": "IPY_MODEL_fe90113e40bf4afcb8b5d06bcf1c57c5",
      "max": 10,
      "min": 0,
      "orientation": "horizontal",
      "style": "IPY_MODEL_16d05bca193f430cb4e3735845d30b01",
      "value": 10
     }
    },
    "8abf24ff9343497aaf23a9a89bb8de5a": {
     "model_module": "@jupyter-widgets/controls",
     "model_name": "DescriptionStyleModel",
     "state": {
      "_model_module": "@jupyter-widgets/controls",
      "_model_module_version": "1.5.0",
      "_model_name": "DescriptionStyleModel",
      "_view_count": null,
      "_view_module": "@jupyter-widgets/base",
      "_view_module_version": "1.2.0",
      "_view_name": "StyleView",
      "description_width": ""
     }
    },
    "8db179e789034191b74ed0583d80e2a2": {
     "model_module": "@jupyter-widgets/controls",
     "model_name": "DescriptionStyleModel",
     "state": {
      "_model_module": "@jupyter-widgets/controls",
      "_model_module_version": "1.5.0",
      "_model_name": "DescriptionStyleModel",
      "_view_count": null,
      "_view_module": "@jupyter-widgets/base",
      "_view_module_version": "1.2.0",
      "_view_name": "StyleView",
      "description_width": ""
     }
    },
    "8ede6f03ed474aa3b4c309ac726e8314": {
     "model_module": "@jupyter-widgets/base",
     "model_name": "LayoutModel",
     "state": {
      "_model_module": "@jupyter-widgets/base",
      "_model_module_version": "1.2.0",
      "_model_name": "LayoutModel",
      "_view_count": null,
      "_view_module": "@jupyter-widgets/base",
      "_view_module_version": "1.2.0",
      "_view_name": "LayoutView",
      "align_content": null,
      "align_items": null,
      "align_self": null,
      "border": null,
      "bottom": null,
      "display": null,
      "flex": null,
      "flex_flow": null,
      "grid_area": null,
      "grid_auto_columns": null,
      "grid_auto_flow": null,
      "grid_auto_rows": null,
      "grid_column": null,
      "grid_gap": null,
      "grid_row": null,
      "grid_template_areas": null,
      "grid_template_columns": null,
      "grid_template_rows": null,
      "height": null,
      "justify_content": null,
      "justify_items": null,
      "left": null,
      "margin": null,
      "max_height": null,
      "max_width": null,
      "min_height": null,
      "min_width": null,
      "object_fit": null,
      "object_position": null,
      "order": null,
      "overflow": null,
      "overflow_x": null,
      "overflow_y": null,
      "padding": null,
      "right": null,
      "top": null,
      "visibility": null,
      "width": null
     }
    },
    "97925a2629054697b0eaad5d1390c828": {
     "model_module": "@jupyter-widgets/base",
     "model_name": "LayoutModel",
     "state": {
      "_model_module": "@jupyter-widgets/base",
      "_model_module_version": "1.2.0",
      "_model_name": "LayoutModel",
      "_view_count": null,
      "_view_module": "@jupyter-widgets/base",
      "_view_module_version": "1.2.0",
      "_view_name": "LayoutView",
      "align_content": null,
      "align_items": null,
      "align_self": null,
      "border": null,
      "bottom": null,
      "display": null,
      "flex": null,
      "flex_flow": null,
      "grid_area": null,
      "grid_auto_columns": null,
      "grid_auto_flow": null,
      "grid_auto_rows": null,
      "grid_column": null,
      "grid_gap": null,
      "grid_row": null,
      "grid_template_areas": null,
      "grid_template_columns": null,
      "grid_template_rows": null,
      "height": null,
      "justify_content": null,
      "justify_items": null,
      "left": null,
      "margin": null,
      "max_height": null,
      "max_width": null,
      "min_height": null,
      "min_width": null,
      "object_fit": null,
      "object_position": null,
      "order": null,
      "overflow": null,
      "overflow_x": null,
      "overflow_y": null,
      "padding": null,
      "right": null,
      "top": null,
      "visibility": null,
      "width": null
     }
    },
    "99cadd9a41b345c5b32bd2bb81bef4e6": {
     "model_module": "@jupyter-widgets/base",
     "model_name": "LayoutModel",
     "state": {
      "_model_module": "@jupyter-widgets/base",
      "_model_module_version": "1.2.0",
      "_model_name": "LayoutModel",
      "_view_count": null,
      "_view_module": "@jupyter-widgets/base",
      "_view_module_version": "1.2.0",
      "_view_name": "LayoutView",
      "align_content": null,
      "align_items": null,
      "align_self": null,
      "border": null,
      "bottom": null,
      "display": null,
      "flex": null,
      "flex_flow": null,
      "grid_area": null,
      "grid_auto_columns": null,
      "grid_auto_flow": null,
      "grid_auto_rows": null,
      "grid_column": null,
      "grid_gap": null,
      "grid_row": null,
      "grid_template_areas": null,
      "grid_template_columns": null,
      "grid_template_rows": null,
      "height": null,
      "justify_content": null,
      "justify_items": null,
      "left": null,
      "margin": null,
      "max_height": null,
      "max_width": null,
      "min_height": null,
      "min_width": null,
      "object_fit": null,
      "object_position": null,
      "order": null,
      "overflow": null,
      "overflow_x": null,
      "overflow_y": null,
      "padding": null,
      "right": null,
      "top": null,
      "visibility": null,
      "width": null
     }
    },
    "a2faf51b24944d62a413af7f409437be": {
     "model_module": "@jupyter-widgets/controls",
     "model_name": "HTMLModel",
     "state": {
      "_dom_classes": [],
      "_model_module": "@jupyter-widgets/controls",
      "_model_module_version": "1.5.0",
      "_model_name": "HTMLModel",
      "_view_count": null,
      "_view_module": "@jupyter-widgets/controls",
      "_view_module_version": "1.5.0",
      "_view_name": "HTMLView",
      "description": "",
      "description_tooltip": null,
      "layout": "IPY_MODEL_2bc303676aad4147ab7a7308b90de6bb",
      "placeholder": "​",
      "style": "IPY_MODEL_8db179e789034191b74ed0583d80e2a2",
      "value": " 10/10 [09:43&lt;00:00, 58.31s/it]"
     }
    },
    "a5883a8e9487490c8171ff9f0acb2d50": {
     "model_module": "@jupyter-widgets/controls",
     "model_name": "ProgressStyleModel",
     "state": {
      "_model_module": "@jupyter-widgets/controls",
      "_model_module_version": "1.5.0",
      "_model_name": "ProgressStyleModel",
      "_view_count": null,
      "_view_module": "@jupyter-widgets/base",
      "_view_module_version": "1.2.0",
      "_view_name": "StyleView",
      "bar_color": null,
      "description_width": "initial"
     }
    },
    "b029d431d64f40738e5a7e1bef6be45a": {
     "model_module": "@jupyter-widgets/controls",
     "model_name": "HBoxModel",
     "state": {
      "_dom_classes": [],
      "_model_module": "@jupyter-widgets/controls",
      "_model_module_version": "1.5.0",
      "_model_name": "HBoxModel",
      "_view_count": null,
      "_view_module": "@jupyter-widgets/controls",
      "_view_module_version": "1.5.0",
      "_view_name": "HBoxView",
      "box_style": "",
      "children": [
       "IPY_MODEL_35deb562e1b64113baa958472cf413ee",
       "IPY_MODEL_edba96ae1e214e438e53dcc00a3e2659"
      ],
      "layout": "IPY_MODEL_200756eb9472477cb34345852429df5d"
     }
    },
    "bbb13bbfcc01415e955078b78b97f4f2": {
     "model_module": "@jupyter-widgets/base",
     "model_name": "LayoutModel",
     "state": {
      "_model_module": "@jupyter-widgets/base",
      "_model_module_version": "1.2.0",
      "_model_name": "LayoutModel",
      "_view_count": null,
      "_view_module": "@jupyter-widgets/base",
      "_view_module_version": "1.2.0",
      "_view_name": "LayoutView",
      "align_content": null,
      "align_items": null,
      "align_self": null,
      "border": null,
      "bottom": null,
      "display": null,
      "flex": null,
      "flex_flow": null,
      "grid_area": null,
      "grid_auto_columns": null,
      "grid_auto_flow": null,
      "grid_auto_rows": null,
      "grid_column": null,
      "grid_gap": null,
      "grid_row": null,
      "grid_template_areas": null,
      "grid_template_columns": null,
      "grid_template_rows": null,
      "height": null,
      "justify_content": null,
      "justify_items": null,
      "left": null,
      "margin": null,
      "max_height": null,
      "max_width": null,
      "min_height": null,
      "min_width": null,
      "object_fit": null,
      "object_position": null,
      "order": null,
      "overflow": null,
      "overflow_x": null,
      "overflow_y": null,
      "padding": null,
      "right": null,
      "top": null,
      "visibility": null,
      "width": null
     }
    },
    "bc0c1cc16c5342a7b7437a4c66b80a81": {
     "model_module": "@jupyter-widgets/controls",
     "model_name": "HTMLModel",
     "state": {
      "_dom_classes": [],
      "_model_module": "@jupyter-widgets/controls",
      "_model_module_version": "1.5.0",
      "_model_name": "HTMLModel",
      "_view_count": null,
      "_view_module": "@jupyter-widgets/controls",
      "_view_module_version": "1.5.0",
      "_view_name": "HTMLView",
      "description": "",
      "description_tooltip": null,
      "layout": "IPY_MODEL_8ede6f03ed474aa3b4c309ac726e8314",
      "placeholder": "​",
      "style": "IPY_MODEL_8abf24ff9343497aaf23a9a89bb8de5a",
      "value": " 10/10 [09:38&lt;00:00, 57.88s/it]"
     }
    },
    "bf5b02e650b24911831c5418e7a4be16": {
     "model_module": "@jupyter-widgets/base",
     "model_name": "LayoutModel",
     "state": {
      "_model_module": "@jupyter-widgets/base",
      "_model_module_version": "1.2.0",
      "_model_name": "LayoutModel",
      "_view_count": null,
      "_view_module": "@jupyter-widgets/base",
      "_view_module_version": "1.2.0",
      "_view_name": "LayoutView",
      "align_content": null,
      "align_items": null,
      "align_self": null,
      "border": null,
      "bottom": null,
      "display": null,
      "flex": null,
      "flex_flow": null,
      "grid_area": null,
      "grid_auto_columns": null,
      "grid_auto_flow": null,
      "grid_auto_rows": null,
      "grid_column": null,
      "grid_gap": null,
      "grid_row": null,
      "grid_template_areas": null,
      "grid_template_columns": null,
      "grid_template_rows": null,
      "height": null,
      "justify_content": null,
      "justify_items": null,
      "left": null,
      "margin": null,
      "max_height": null,
      "max_width": null,
      "min_height": null,
      "min_width": null,
      "object_fit": null,
      "object_position": null,
      "order": null,
      "overflow": null,
      "overflow_x": null,
      "overflow_y": null,
      "padding": null,
      "right": null,
      "top": null,
      "visibility": null,
      "width": null
     }
    },
    "dc020a1b91e94afcb09bf0d3d8305168": {
     "model_module": "@jupyter-widgets/controls",
     "model_name": "DescriptionStyleModel",
     "state": {
      "_model_module": "@jupyter-widgets/controls",
      "_model_module_version": "1.5.0",
      "_model_name": "DescriptionStyleModel",
      "_view_count": null,
      "_view_module": "@jupyter-widgets/base",
      "_view_module_version": "1.2.0",
      "_view_name": "StyleView",
      "description_width": ""
     }
    },
    "ddab62d432c142dabe5630709f54fe80": {
     "model_module": "@jupyter-widgets/controls",
     "model_name": "HBoxModel",
     "state": {
      "_dom_classes": [],
      "_model_module": "@jupyter-widgets/controls",
      "_model_module_version": "1.5.0",
      "_model_name": "HBoxModel",
      "_view_count": null,
      "_view_module": "@jupyter-widgets/controls",
      "_view_module_version": "1.5.0",
      "_view_name": "HBoxView",
      "box_style": "",
      "children": [
       "IPY_MODEL_75bc8aa1bb224d80a01a145b0a327f7a",
       "IPY_MODEL_129d80dcc34142afa3bcbcea77f8fdd2"
      ],
      "layout": "IPY_MODEL_6776ac4e3c6c415da77cbb278e195cf4"
     }
    },
    "df53a37e25124906a1350a2eb002b40c": {
     "model_module": "@jupyter-widgets/controls",
     "model_name": "FloatProgressModel",
     "state": {
      "_dom_classes": [],
      "_model_module": "@jupyter-widgets/controls",
      "_model_module_version": "1.5.0",
      "_model_name": "FloatProgressModel",
      "_view_count": null,
      "_view_module": "@jupyter-widgets/controls",
      "_view_module_version": "1.5.0",
      "_view_name": "ProgressView",
      "bar_style": "success",
      "description": "100%",
      "description_tooltip": null,
      "layout": "IPY_MODEL_37085a9f52dd46c09eaacb41570d9ba9",
      "max": 10,
      "min": 0,
      "orientation": "horizontal",
      "style": "IPY_MODEL_630b0421eda14f14862883d42e23e099",
      "value": 10
     }
    },
    "e32b5dac6ad64d8b945d08947b6b7fdb": {
     "model_module": "@jupyter-widgets/controls",
     "model_name": "DescriptionStyleModel",
     "state": {
      "_model_module": "@jupyter-widgets/controls",
      "_model_module_version": "1.5.0",
      "_model_name": "DescriptionStyleModel",
      "_view_count": null,
      "_view_module": "@jupyter-widgets/base",
      "_view_module_version": "1.2.0",
      "_view_name": "StyleView",
      "description_width": ""
     }
    },
    "e4754c99d23e46b89e001c1293bbb0db": {
     "model_module": "@jupyter-widgets/controls",
     "model_name": "HBoxModel",
     "state": {
      "_dom_classes": [],
      "_model_module": "@jupyter-widgets/controls",
      "_model_module_version": "1.5.0",
      "_model_name": "HBoxModel",
      "_view_count": null,
      "_view_module": "@jupyter-widgets/controls",
      "_view_module_version": "1.5.0",
      "_view_name": "HBoxView",
      "box_style": "",
      "children": [
       "IPY_MODEL_df53a37e25124906a1350a2eb002b40c",
       "IPY_MODEL_a2faf51b24944d62a413af7f409437be"
      ],
      "layout": "IPY_MODEL_97925a2629054697b0eaad5d1390c828"
     }
    },
    "edba96ae1e214e438e53dcc00a3e2659": {
     "model_module": "@jupyter-widgets/controls",
     "model_name": "HTMLModel",
     "state": {
      "_dom_classes": [],
      "_model_module": "@jupyter-widgets/controls",
      "_model_module_version": "1.5.0",
      "_model_name": "HTMLModel",
      "_view_count": null,
      "_view_module": "@jupyter-widgets/controls",
      "_view_module_version": "1.5.0",
      "_view_name": "HTMLView",
      "description": "",
      "description_tooltip": null,
      "layout": "IPY_MODEL_15df4602fa0348d0960e076322a9d69b",
      "placeholder": "​",
      "style": "IPY_MODEL_11d6d01e2bfb4eb585ad02063e089f05",
      "value": " 10/10 [09:33&lt;00:00, 57.35s/it]"
     }
    },
    "fe90113e40bf4afcb8b5d06bcf1c57c5": {
     "model_module": "@jupyter-widgets/base",
     "model_name": "LayoutModel",
     "state": {
      "_model_module": "@jupyter-widgets/base",
      "_model_module_version": "1.2.0",
      "_model_name": "LayoutModel",
      "_view_count": null,
      "_view_module": "@jupyter-widgets/base",
      "_view_module_version": "1.2.0",
      "_view_name": "LayoutView",
      "align_content": null,
      "align_items": null,
      "align_self": null,
      "border": null,
      "bottom": null,
      "display": null,
      "flex": null,
      "flex_flow": null,
      "grid_area": null,
      "grid_auto_columns": null,
      "grid_auto_flow": null,
      "grid_auto_rows": null,
      "grid_column": null,
      "grid_gap": null,
      "grid_row": null,
      "grid_template_areas": null,
      "grid_template_columns": null,
      "grid_template_rows": null,
      "height": null,
      "justify_content": null,
      "justify_items": null,
      "left": null,
      "margin": null,
      "max_height": null,
      "max_width": null,
      "min_height": null,
      "min_width": null,
      "object_fit": null,
      "object_position": null,
      "order": null,
      "overflow": null,
      "overflow_x": null,
      "overflow_y": null,
      "padding": null,
      "right": null,
      "top": null,
      "visibility": null,
      "width": null
     }
    }
   }
  }
 },
 "nbformat": 4,
 "nbformat_minor": 1
}
