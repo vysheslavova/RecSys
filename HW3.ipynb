{
 "cells": [
  {
   "cell_type": "code",
   "execution_count": 1,
   "metadata": {
    "id": "5fexRY2KOQyS"
   },
   "outputs": [],
   "source": [
    "import pandas as pd\n",
    "import numpy as np\n",
    "import math\n",
    "from tqdm.notebook import tqdm\n",
    "import scipy.sparse as sp\n",
    "import pickle"
   ]
  },
  {
   "cell_type": "code",
   "execution_count": null,
   "metadata": {
    "id": "QjvqrediPGVN"
   },
   "outputs": [],
   "source": [
    "!unzip data.zip"
   ]
  },
  {
   "cell_type": "markdown",
   "metadata": {
    "id": "LHsht-TvOQyS"
   },
   "source": [
    "# 1. Датасет"
   ]
  },
  {
   "cell_type": "markdown",
   "metadata": {
    "id": "cfiBeHQZOQyS"
   },
   "source": [
    "Взяла датасет из первой домашки (movielens1m), так как его часто используют, и он небольшой."
   ]
  },
  {
   "cell_type": "code",
   "execution_count": 2,
   "metadata": {
    "id": "A4IJ6JqjOQyS"
   },
   "outputs": [],
   "source": [
    "ratings = pd.read_csv('data/ratings.dat', delimiter='::', header=None, \n",
    "        names=['user_id', 'movie_id', 'rating', 'timestamp'], \n",
    "        usecols=['user_id', 'movie_id', 'rating'], engine='python')"
   ]
  },
  {
   "cell_type": "code",
   "execution_count": 3,
   "metadata": {
    "id": "BkLe0LgCOQyS"
   },
   "outputs": [],
   "source": [
    "movie_info = pd.read_csv('data/movies.dat', delimiter='::', header=None, \n",
    "        names=['movie_id', 'name', 'category'], engine='python')"
   ]
  },
  {
   "cell_type": "code",
   "execution_count": 4,
   "metadata": {
    "colab": {
     "base_uri": "https://localhost:8080/",
     "height": 204
    },
    "id": "1cj0uiYdOQyS",
    "outputId": "a1a1cd09-6ef5-4891-c24c-93c98390393f"
   },
   "outputs": [
    {
     "data": {
      "text/html": [
       "<div>\n",
       "<style scoped>\n",
       "    .dataframe tbody tr th:only-of-type {\n",
       "        vertical-align: middle;\n",
       "    }\n",
       "\n",
       "    .dataframe tbody tr th {\n",
       "        vertical-align: top;\n",
       "    }\n",
       "\n",
       "    .dataframe thead th {\n",
       "        text-align: right;\n",
       "    }\n",
       "</style>\n",
       "<table border=\"1\" class=\"dataframe\">\n",
       "  <thead>\n",
       "    <tr style=\"text-align: right;\">\n",
       "      <th></th>\n",
       "      <th>user_id</th>\n",
       "      <th>movie_id</th>\n",
       "      <th>rating</th>\n",
       "    </tr>\n",
       "  </thead>\n",
       "  <tbody>\n",
       "    <tr>\n",
       "      <th>0</th>\n",
       "      <td>1</td>\n",
       "      <td>1193</td>\n",
       "      <td>5</td>\n",
       "    </tr>\n",
       "    <tr>\n",
       "      <th>1</th>\n",
       "      <td>1</td>\n",
       "      <td>661</td>\n",
       "      <td>3</td>\n",
       "    </tr>\n",
       "    <tr>\n",
       "      <th>2</th>\n",
       "      <td>1</td>\n",
       "      <td>914</td>\n",
       "      <td>3</td>\n",
       "    </tr>\n",
       "    <tr>\n",
       "      <th>3</th>\n",
       "      <td>1</td>\n",
       "      <td>3408</td>\n",
       "      <td>4</td>\n",
       "    </tr>\n",
       "    <tr>\n",
       "      <th>4</th>\n",
       "      <td>1</td>\n",
       "      <td>2355</td>\n",
       "      <td>5</td>\n",
       "    </tr>\n",
       "  </tbody>\n",
       "</table>\n",
       "</div>"
      ],
      "text/plain": [
       "   user_id  movie_id  rating\n",
       "0        1      1193       5\n",
       "1        1       661       3\n",
       "2        1       914       3\n",
       "3        1      3408       4\n",
       "4        1      2355       5"
      ]
     },
     "execution_count": 4,
     "metadata": {},
     "output_type": "execute_result"
    }
   ],
   "source": [
    "ratings.head(5)"
   ]
  },
  {
   "cell_type": "markdown",
   "metadata": {
    "id": "alPI2CD9OQyT"
   },
   "source": [
    "### Functions"
   ]
  },
  {
   "cell_type": "code",
   "execution_count": 5,
   "metadata": {
    "id": "L9i_pfFROQyT"
   },
   "outputs": [],
   "source": [
    "get_similars = lambda item_id, model : [' '.join(movie_info[movie_info[\"movie_id\"] == x[0]][['movie_id', 'name']].values[0].astype(str).tolist())\n",
    "                                        for x in model.similar_items(item_id)]"
   ]
  },
  {
   "cell_type": "code",
   "execution_count": 6,
   "metadata": {
    "id": "oZAaYVb9OQyT"
   },
   "outputs": [],
   "source": [
    "get_recommendations = lambda user_id, model, n: [' '.join(movie_info[movie_info[\"movie_id\"] == x[0]][['movie_id', 'name']].values[0].astype(str).tolist())\n",
    "                                               for x in model.recommend(user_id, user_item_csr, n)]"
   ]
  },
  {
   "cell_type": "code",
   "execution_count": 7,
   "metadata": {
    "id": "WicmqdoaOQyT"
   },
   "outputs": [],
   "source": [
    "get_user_history = lambda user_id, implicit_ratings : [' '.join(movie_info[movie_info[\"movie_id\"] == x][['movie_id', 'name']].values[0].astype(str).tolist())\n",
    "                                            for x in implicit_ratings[implicit_ratings[\"user_id\"] == user_id][\"movie_id\"]]"
   ]
  },
  {
   "cell_type": "markdown",
   "metadata": {
    "id": "luoLYa2MOQyT"
   },
   "source": [
    "### Preprocess"
   ]
  },
  {
   "cell_type": "code",
   "execution_count": 8,
   "metadata": {
    "id": "8ZTun-RCOQyT"
   },
   "outputs": [],
   "source": [
    "implicit_ratings = ratings.loc[(ratings['rating'] >= 4)]"
   ]
  },
  {
   "cell_type": "code",
   "execution_count": 9,
   "metadata": {
    "id": "ezbxzpNdOQyT"
   },
   "outputs": [],
   "source": [
    "users = implicit_ratings[\"user_id\"]\n",
    "movies = implicit_ratings[\"movie_id\"]\n",
    "user_item = sp.coo_matrix((np.ones_like(users), (users, movies)))\n",
    "user_item_t_csr = user_item.T.tocsr()\n",
    "user_item_csr = user_item.tocsr()"
   ]
  },
  {
   "cell_type": "markdown",
   "metadata": {
    "id": "TiYy7GjQOQyT"
   },
   "source": [
    "Разделим данные на train, val и test. В качестве test и val возьмем по последнему фильму, которые посмотрел пользователь."
   ]
  },
  {
   "cell_type": "code",
   "execution_count": null,
   "metadata": {
    "id": "PXqarIfROQyT"
   },
   "outputs": [],
   "source": [
    "def train_test_split(explicit, implicit, matrix): \n",
    "    users = explicit['user_id'].unique()\n",
    "    items = explicit['movie_id'].unique()\n",
    "    train = matrix.tolil()\n",
    "    test, val, negative, val_neg, test_neg = {}, {}, {}, {}, {}\n",
    "    for u in tqdm(users):\n",
    "        train_h = [int(h.split()[0]) for h in get_user_history(u, implicit)]\n",
    "        if len(train_h) >= 10:\n",
    "            neg = [i for i in items if i not in train_h]\n",
    "            test_h = train_h.pop()\n",
    "            val_h = train_h.pop()\n",
    "            train[u, test_h] = 0\n",
    "            train[u, val_h] = 0\n",
    "            test[u] = test_h\n",
    "            val[u] = val_h\n",
    "            val_neg[u] = np.random.choice(neg, 99)\n",
    "            test_neg[u] = np.random.choice(neg, 99)\n",
    "    return train, val, test, val_neg, test_neg"
   ]
  },
  {
   "cell_type": "code",
   "execution_count": null,
   "metadata": {
    "colab": {
     "referenced_widgets": [
      "113d393e3b164e5bb6d4bc50e0ab3e6c"
     ]
    },
    "id": "Z04T2iEuOQyc",
    "outputId": "ad6f154d-46d7-4e5c-aae0-7c3debcba81e"
   },
   "outputs": [
    {
     "data": {
      "application/vnd.jupyter.widget-view+json": {
       "model_id": "113d393e3b164e5bb6d4bc50e0ab3e6c",
       "version_major": 2,
       "version_minor": 0
      },
      "text/plain": [
       "HBox(children=(FloatProgress(value=0.0, max=6040.0), HTML(value='')))"
      ]
     },
     "metadata": {
      "tags": []
     },
     "output_type": "display_data"
    },
    {
     "name": "stdout",
     "output_type": "stream",
     "text": [
      "\n"
     ]
    }
   ],
   "source": [
    "train, val, test, val_neg, test_neg = train_test_split(ratings, implicit_ratings, user_item)"
   ]
  },
  {
   "cell_type": "code",
   "execution_count": null,
   "metadata": {
    "id": "sD2KZnSiOQyc"
   },
   "outputs": [],
   "source": [
    "val_neg_ = {u: [val[u]] + val_neg[u].tolist() for u in val_neg.keys()}\n",
    "test_neg_ = {u: [test[u]] + test_neg[u].tolist() for u in test_neg.keys()}"
   ]
  },
  {
   "cell_type": "code",
   "execution_count": null,
   "metadata": {
    "id": "QRvaB7C5OQyc"
   },
   "outputs": [],
   "source": [
    "train_t_csr = train.T.tocsr()\n",
    "train_csr = train.tocsr()"
   ]
  },
  {
   "cell_type": "markdown",
   "metadata": {
    "id": "GXh4g4afOQyd"
   },
   "source": [
    "### Save"
   ]
  },
  {
   "cell_type": "code",
   "execution_count": null,
   "metadata": {
    "id": "s_EVyFYuOQyd"
   },
   "outputs": [],
   "source": [
    "def save(obj, name):\n",
    "    with open('data/' + name + '.pkl', 'wb') as f:\n",
    "        pickle.dump(obj, f)"
   ]
  },
  {
   "cell_type": "code",
   "execution_count": null,
   "metadata": {
    "id": "XRGI6RszOQyd"
   },
   "outputs": [],
   "source": [
    "# sp.save_npz('data/train_csr.npz', train_csr)\n",
    "# sp.save_npz('data/train_t_csr.npz', train_t_csr)\n",
    "# save(val, 'val')\n",
    "# save(test, 'test')\n",
    "# save(val_neg, 'val_neg')\n",
    "# save(test_neg, 'test_neg')\n",
    "# save(val_neg_, 'val_neg_100')\n",
    "# save(test_neg_, 'test_neg_100')"
   ]
  },
  {
   "cell_type": "markdown",
   "metadata": {
    "id": "OnbZnEZYOQyd"
   },
   "source": [
    "### Load"
   ]
  },
  {
   "cell_type": "code",
   "execution_count": 10,
   "metadata": {
    "id": "ogmRaGx4PppL"
   },
   "outputs": [],
   "source": [
    "def load(name):\n",
    "    with open('data/' + name + '.pkl', 'rb') as f:\n",
    "        return pickle.load(f)"
   ]
  },
  {
   "cell_type": "code",
   "execution_count": 29,
   "metadata": {
    "id": "abIlI0FGOQyd"
   },
   "outputs": [],
   "source": [
    "train = sp.load_npz('data/train_csr.npz')\n",
    "train_csr = sp.load_npz('data/train_t_csr.npz')\n",
    "val = load('val')\n",
    "test = load('test')\n",
    "val_neg = load('val_neg')\n",
    "test_neg = load('test_neg')\n",
    "val_neg_ = load('val_neg_100')\n",
    "test_neg_ = load('test_neg_100')"
   ]
  },
  {
   "cell_type": "markdown",
   "metadata": {
    "id": "p9d1HJ_MOQyd"
   },
   "source": [
    "## Evaluation"
   ]
  },
  {
   "cell_type": "code",
   "execution_count": 12,
   "metadata": {
    "id": "AoN6b74yOQyd"
   },
   "outputs": [],
   "source": [
    "def HitRatio(predicted, real, k):\n",
    "    for item in predicted[:k]:\n",
    "        if item == real:\n",
    "            return 1\n",
    "    return 0"
   ]
  },
  {
   "cell_type": "code",
   "execution_count": 13,
   "metadata": {
    "id": "l7TJGk3XOQye"
   },
   "outputs": [],
   "source": [
    "def nDCG(predicted, real, k):\n",
    "    for i in range(len(predicted[:k])):\n",
    "        item = predicted[i]\n",
    "        if item == real:\n",
    "            return math.log(2) / math.log(i+2)\n",
    "    return 0"
   ]
  },
  {
   "cell_type": "code",
   "execution_count": 16,
   "metadata": {
    "id": "IAD9vcRrOQye"
   },
   "outputs": [],
   "source": [
    "def evaluate(model, test, negative, k=10):\n",
    "    hrs, ndcgs = [], []\n",
    "    for u in test.keys():\n",
    "        user_vect = np.ones(100) * u\n",
    "        try:\n",
    "            pred = model.predict(user_vect, negative[u]).cpu().detach().numpy()\n",
    "        except AttributeError:\n",
    "            pred = model.predict(user_vect, negative[u])\n",
    "        rank = np.array(negative[u])[np.argsort(pred)[::-1]]\n",
    "        y = test[u]\n",
    "        hr = HitRatio(rank, y, k)\n",
    "        ndcg = nDCG(rank, y, k)\n",
    "        hrs.append(hr)\n",
    "        ndcgs.append(ndcg)\n",
    "    return sum(hrs) / len(hrs), np.mean(ndcgs)"
   ]
  },
  {
   "cell_type": "markdown",
   "metadata": {
    "id": "VvQLKNM9XSum"
   },
   "source": [
    "## Testing"
   ]
  },
  {
   "cell_type": "code",
   "execution_count": 116,
   "metadata": {
    "colab": {
     "base_uri": "https://localhost:8080/"
    },
    "id": "YxCJ9tvinsJ6",
    "outputId": "f7b336b2-de4f-4072-9c19-eddad320e851"
   },
   "outputs": [
    {
     "data": {
      "text/plain": [
       "['3468 Hustler, The (1961)',\n",
       " '2951 Fistful of Dollars, A (1964)',\n",
       " '1214 Alien (1979)',\n",
       " '1036 Die Hard (1988)',\n",
       " '260 Star Wars: Episode IV - A New Hope (1977)',\n",
       " '2028 Saving Private Ryan (1998)',\n",
       " '480 Jurassic Park (1993)',\n",
       " '1198 Raiders of the Lost Ark (1981)',\n",
       " '1954 Rocky (1976)',\n",
       " '1097 E.T. the Extra-Terrestrial (1982)',\n",
       " '3418 Thelma & Louise (1991)',\n",
       " '3702 Mad Max (1979)',\n",
       " '2366 King Kong (1933)',\n",
       " '1387 Jaws (1975)',\n",
       " '1201 Good, The Bad and The Ugly, The (1966)',\n",
       " '2692 Run Lola Run (Lola rennt) (1998)',\n",
       " '2947 Goldfinger (1964)',\n",
       " '1240 Terminator, The (1984)']"
      ]
     },
     "execution_count": 116,
     "metadata": {
      "tags": []
     },
     "output_type": "execute_result"
    }
   ],
   "source": [
    "get_user_history(4, implicit_ratings)"
   ]
  },
  {
   "cell_type": "code",
   "execution_count": 70,
   "metadata": {
    "id": "O6bfihcSXQAa"
   },
   "outputs": [],
   "source": [
    "def testing(model, name, test, negative):\n",
    "    print('MODEL:', name)\n",
    "    hr, ndcg = evaluate(model, test, negative)\n",
    "    print(f'Metrics HR: {hr:.2f}, nDCG: {ndcg:.2f}')\n",
    "    movie_id = 1\n",
    "    movie = movie_info[movie_info['movie_id'] == movie_id].to_dict('records')[0]\n",
    "    items = model.similar_items(movie_id)\n",
    "    df = pd.DataFrame()\n",
    "    display(movie_info[movie_info['movie_id'] == 0])\n",
    "    for item in items: \n",
    "        df = df.append(movie_info[movie_info['movie_id'] == item])\n",
    "    display(df)\n",
    "    user_id = 4\n",
    "    print(f'RECOMMENDATIONS for user {user_id}')\n",
    "    recs = model.recommend(user_id)\n",
    "    df = pd.DataFrame()\n",
    "    for item in recs: \n",
    "        df = df.append(movie_info[movie_info['movie_id'] == item])\n",
    "    display(df)"
   ]
  },
  {
   "cell_type": "markdown",
   "metadata": {
    "id": "2dUGaXRJOQye"
   },
   "source": [
    "# 2. BPR"
   ]
  },
  {
   "cell_type": "code",
   "execution_count": 17,
   "metadata": {
    "id": "CsCNnywlOQye"
   },
   "outputs": [
    {
     "name": "stderr",
     "output_type": "stream",
     "text": [
      "/Users/vanna/miniconda3/envs/python37/lib/python3.7/site-packages/lightfm/_lightfm_fast.py:9: UserWarning: LightFM was compiled without OpenMP support. Only a single thread will be used.\n",
      "  warnings.warn('LightFM was compiled without OpenMP support. '\n"
     ]
    }
   ],
   "source": [
    "from lightfm import LightFM"
   ]
  },
  {
   "cell_type": "code",
   "execution_count": 18,
   "metadata": {},
   "outputs": [],
   "source": [
    "class RecommenderBPR:\n",
    "    def __init__(self, model, negative):\n",
    "        self.model = model\n",
    "        self.u = model.user_embeddings\n",
    "        self.v = model.item_embeddings\n",
    "        self.model.negative = negative\n",
    "        \n",
    "    def fit(self, data, epochs):\n",
    "        self.model.fit_partial(data, epochs=epochs)\n",
    "        self.u = self.model.user_embeddings\n",
    "        self.v = self.model.item_embeddings\n",
    "        \n",
    "    def predict(self, user,  item):\n",
    "        return self.model.predict(user, item)\n",
    "\n",
    "    def recommend(self, user_id, k=10):\n",
    "        neg = self.model.negative[user_id]\n",
    "        scores = self.v[neg] @ self.u[user_id]\n",
    "        ids = np.argsort(scores)[::-1][:k]\n",
    "        return np.array(neg)[ids]\n",
    "    \n",
    "    def similar_items(self, item_id, N=10):\n",
    "        scores = self.v @ self.v[item_id] / np.linalg.norm(self.v, axis=-1)\n",
    "        ind = np.argsort(scores)[::-1][:N]\n",
    "        return ind"
   ]
  },
  {
   "cell_type": "code",
   "execution_count": 72,
   "metadata": {
    "id": "HkoGbjsbOQyf"
   },
   "outputs": [],
   "source": [
    "bpr_params = {\n",
    "    'n_components': 64, \n",
    "    'lr': 1e-3,\n",
    "    'schedule': 'adadelta',\n",
    "    'alpha': 1e-3, \n",
    "    'epochs': 100\n",
    "}"
   ]
  },
  {
   "cell_type": "code",
   "execution_count": 73,
   "metadata": {
    "id": "NPfbvdyYOQyf"
   },
   "outputs": [],
   "source": [
    "bpr = LightFM(loss='bpr', \n",
    "              no_components=bpr_params['n_components'], \n",
    "              learning_rate=bpr_params['lr'], \n",
    "              learning_schedule=bpr_params['schedule'],\n",
    "              user_alpha=bpr_params['alpha'],\n",
    "              item_alpha=bpr_params['alpha'])\n",
    "bpr_rec = RecommenderBPR(bpr, val_neg_)\n",
    "bpr_rec.fit(train, epochs=bpr_params['epochs'])"
   ]
  },
  {
   "cell_type": "code",
   "execution_count": 74,
   "metadata": {
    "id": "hHY8mkNkOQyg"
   },
   "outputs": [
    {
     "name": "stdout",
     "output_type": "stream",
     "text": [
      "MODEL: BPR\n",
      "Metrics HR: 0.49, nDCG: 0.28\n"
     ]
    },
    {
     "name": "stderr",
     "output_type": "stream",
     "text": [
      "/Users/vanna/miniconda3/envs/python37/lib/python3.7/site-packages/ipykernel_launcher.py:23: RuntimeWarning: invalid value encountered in true_divide\n"
     ]
    },
    {
     "data": {
      "text/html": [
       "<div>\n",
       "<style scoped>\n",
       "    .dataframe tbody tr th:only-of-type {\n",
       "        vertical-align: middle;\n",
       "    }\n",
       "\n",
       "    .dataframe tbody tr th {\n",
       "        vertical-align: top;\n",
       "    }\n",
       "\n",
       "    .dataframe thead th {\n",
       "        text-align: right;\n",
       "    }\n",
       "</style>\n",
       "<table border=\"1\" class=\"dataframe\">\n",
       "  <thead>\n",
       "    <tr style=\"text-align: right;\">\n",
       "      <th></th>\n",
       "      <th>movie_id</th>\n",
       "      <th>name</th>\n",
       "      <th>category</th>\n",
       "    </tr>\n",
       "  </thead>\n",
       "  <tbody>\n",
       "  </tbody>\n",
       "</table>\n",
       "</div>"
      ],
      "text/plain": [
       "Empty DataFrame\n",
       "Columns: [movie_id, name, category]\n",
       "Index: []"
      ]
     },
     "metadata": {},
     "output_type": "display_data"
    },
    {
     "data": {
      "text/html": [
       "<div>\n",
       "<style scoped>\n",
       "    .dataframe tbody tr th:only-of-type {\n",
       "        vertical-align: middle;\n",
       "    }\n",
       "\n",
       "    .dataframe tbody tr th {\n",
       "        vertical-align: top;\n",
       "    }\n",
       "\n",
       "    .dataframe thead th {\n",
       "        text-align: right;\n",
       "    }\n",
       "</style>\n",
       "<table border=\"1\" class=\"dataframe\">\n",
       "  <thead>\n",
       "    <tr style=\"text-align: right;\">\n",
       "      <th></th>\n",
       "      <th>movie_id</th>\n",
       "      <th>name</th>\n",
       "      <th>category</th>\n",
       "    </tr>\n",
       "  </thead>\n",
       "  <tbody>\n",
       "    <tr>\n",
       "      <th>690</th>\n",
       "      <td>699</td>\n",
       "      <td>To Cross the Rubicon (1991)</td>\n",
       "      <td>Drama</td>\n",
       "    </tr>\n",
       "    <tr>\n",
       "      <th>1520</th>\n",
       "      <td>1559</td>\n",
       "      <td>Next Step, The (1995)</td>\n",
       "      <td>Drama</td>\n",
       "    </tr>\n",
       "    <tr>\n",
       "      <th>694</th>\n",
       "      <td>703</td>\n",
       "      <td>Boys (1996)</td>\n",
       "      <td>Drama</td>\n",
       "    </tr>\n",
       "    <tr>\n",
       "      <th>1519</th>\n",
       "      <td>1558</td>\n",
       "      <td>Sudden Manhattan (1996)</td>\n",
       "      <td>Comedy</td>\n",
       "    </tr>\n",
       "    <tr>\n",
       "      <th>1518</th>\n",
       "      <td>1557</td>\n",
       "      <td>Squeeze (1996)</td>\n",
       "      <td>Drama</td>\n",
       "    </tr>\n",
       "    <tr>\n",
       "      <th>2911</th>\n",
       "      <td>2980</td>\n",
       "      <td>Men Cry Bullets (1997)</td>\n",
       "      <td>Drama</td>\n",
       "    </tr>\n",
       "    <tr>\n",
       "      <th>703</th>\n",
       "      <td>712</td>\n",
       "      <td>Captives (1994)</td>\n",
       "      <td>Drama</td>\n",
       "    </tr>\n",
       "    <tr>\n",
       "      <th>704</th>\n",
       "      <td>713</td>\n",
       "      <td>Of Love and Shadows (1994)</td>\n",
       "      <td>Drama</td>\n",
       "    </tr>\n",
       "  </tbody>\n",
       "</table>\n",
       "</div>"
      ],
      "text/plain": [
       "      movie_id                         name category\n",
       "690        699  To Cross the Rubicon (1991)    Drama\n",
       "1520      1559        Next Step, The (1995)    Drama\n",
       "694        703                  Boys (1996)    Drama\n",
       "1519      1558      Sudden Manhattan (1996)   Comedy\n",
       "1518      1557               Squeeze (1996)    Drama\n",
       "2911      2980       Men Cry Bullets (1997)    Drama\n",
       "703        712              Captives (1994)    Drama\n",
       "704        713   Of Love and Shadows (1994)    Drama"
      ]
     },
     "metadata": {},
     "output_type": "display_data"
    },
    {
     "name": "stdout",
     "output_type": "stream",
     "text": [
      "RECOMMENDATIONS for user 4\n"
     ]
    },
    {
     "data": {
      "text/html": [
       "<div>\n",
       "<style scoped>\n",
       "    .dataframe tbody tr th:only-of-type {\n",
       "        vertical-align: middle;\n",
       "    }\n",
       "\n",
       "    .dataframe tbody tr th {\n",
       "        vertical-align: top;\n",
       "    }\n",
       "\n",
       "    .dataframe thead th {\n",
       "        text-align: right;\n",
       "    }\n",
       "</style>\n",
       "<table border=\"1\" class=\"dataframe\">\n",
       "  <thead>\n",
       "    <tr style=\"text-align: right;\">\n",
       "      <th></th>\n",
       "      <th>movie_id</th>\n",
       "      <th>name</th>\n",
       "      <th>category</th>\n",
       "    </tr>\n",
       "  </thead>\n",
       "  <tbody>\n",
       "    <tr>\n",
       "      <th>1162</th>\n",
       "      <td>1178</td>\n",
       "      <td>Paths of Glory (1957)</td>\n",
       "      <td>Drama|War</td>\n",
       "    </tr>\n",
       "    <tr>\n",
       "      <th>108</th>\n",
       "      <td>110</td>\n",
       "      <td>Braveheart (1995)</td>\n",
       "      <td>Action|Drama|War</td>\n",
       "    </tr>\n",
       "    <tr>\n",
       "      <th>2788</th>\n",
       "      <td>2857</td>\n",
       "      <td>Yellow Submarine (1968)</td>\n",
       "      <td>Animation|Musical</td>\n",
       "    </tr>\n",
       "    <tr>\n",
       "      <th>2052</th>\n",
       "      <td>2121</td>\n",
       "      <td>Cujo (1983)</td>\n",
       "      <td>Horror|Thriller</td>\n",
       "    </tr>\n",
       "    <tr>\n",
       "      <th>2004</th>\n",
       "      <td>2073</td>\n",
       "      <td>Fandango (1985)</td>\n",
       "      <td>Comedy</td>\n",
       "    </tr>\n",
       "    <tr>\n",
       "      <th>589</th>\n",
       "      <td>593</td>\n",
       "      <td>Silence of the Lambs, The (1991)</td>\n",
       "      <td>Drama|Thriller</td>\n",
       "    </tr>\n",
       "    <tr>\n",
       "      <th>3407</th>\n",
       "      <td>3476</td>\n",
       "      <td>Jacob's Ladder (1990)</td>\n",
       "      <td>Horror|Mystery|Thriller</td>\n",
       "    </tr>\n",
       "    <tr>\n",
       "      <th>1186</th>\n",
       "      <td>1204</td>\n",
       "      <td>Lawrence of Arabia (1962)</td>\n",
       "      <td>Adventure|War</td>\n",
       "    </tr>\n",
       "    <tr>\n",
       "      <th>2878</th>\n",
       "      <td>2947</td>\n",
       "      <td>Goldfinger (1964)</td>\n",
       "      <td>Action</td>\n",
       "    </tr>\n",
       "    <tr>\n",
       "      <th>2176</th>\n",
       "      <td>2245</td>\n",
       "      <td>Working Girl (1988)</td>\n",
       "      <td>Comedy|Drama</td>\n",
       "    </tr>\n",
       "  </tbody>\n",
       "</table>\n",
       "</div>"
      ],
      "text/plain": [
       "      movie_id                              name                 category\n",
       "1162      1178             Paths of Glory (1957)                Drama|War\n",
       "108        110                 Braveheart (1995)         Action|Drama|War\n",
       "2788      2857           Yellow Submarine (1968)        Animation|Musical\n",
       "2052      2121                       Cujo (1983)          Horror|Thriller\n",
       "2004      2073                   Fandango (1985)                   Comedy\n",
       "589        593  Silence of the Lambs, The (1991)           Drama|Thriller\n",
       "3407      3476             Jacob's Ladder (1990)  Horror|Mystery|Thriller\n",
       "1186      1204         Lawrence of Arabia (1962)            Adventure|War\n",
       "2878      2947                 Goldfinger (1964)                   Action\n",
       "2176      2245               Working Girl (1988)             Comedy|Drama"
      ]
     },
     "metadata": {},
     "output_type": "display_data"
    }
   ],
   "source": [
    "testing(bpr_rec, 'BPR', val, val_neg_)"
   ]
  },
  {
   "cell_type": "markdown",
   "metadata": {
    "id": "cpvN2XxTOQyi"
   },
   "source": [
    "# 2. NCF"
   ]
  },
  {
   "cell_type": "markdown",
   "metadata": {
    "id": "Ww7stoEzOQyi"
   },
   "source": [
    "https://arxiv.org/pdf/1708.05031.pdf"
   ]
  },
  {
   "cell_type": "code",
   "execution_count": 30,
   "metadata": {
    "id": "JOyA66_eOQyi"
   },
   "outputs": [],
   "source": [
    "import torch\n",
    "import torch.nn as nn\n",
    "from torch.utils.data import DataLoader\n",
    "import torch.optim as optim\n",
    "device = torch.device('cuda' if torch.cuda.is_available() else 'cpu')"
   ]
  },
  {
   "cell_type": "code",
   "execution_count": 31,
   "metadata": {
    "id": "Nx48r0uTOQyi"
   },
   "outputs": [],
   "source": [
    "class GFM(nn.Module):\n",
    "    def __init__(self, n_users, n_items, dim):\n",
    "        super().__init__()\n",
    "        self.users_embeddings = nn.Embedding(n_users, dim)\n",
    "        self.items_embeddings = nn.Embedding(n_items, dim)\n",
    "        self.f = nn.Sequential(nn.Linear(dim, 1), nn.Sigmoid())\n",
    "\n",
    "        self.u = self.users_embeddings.weight.detach().cpu().numpy()\n",
    "        self.v = self.items_embeddings.weight.detach().cpu().numpy()\n",
    "    \n",
    "    def forward(self, user, item):\n",
    "        user = self.users_embeddings(user)\n",
    "        item = self.items_embeddings(item)\n",
    "        out = user * item\n",
    "        out = self.f(out).view(-1)\n",
    "        return out\n",
    "\n",
    "    def predict(self, user, item):\n",
    "        user = torch.tensor(user).to(device).long()\n",
    "        item = torch.tensor(item).to(device).long()\n",
    "        return self(user, item)"
   ]
  },
  {
   "cell_type": "code",
   "execution_count": 32,
   "metadata": {
    "id": "wP5wMrszOQyi"
   },
   "outputs": [],
   "source": [
    "class MLP(nn.Module):\n",
    "    def __init__(self, n_users, n_items, embed_dim, hidden_dim):\n",
    "        super().__init__()\n",
    "        self.users_embeddings = nn.Embedding(n_users, embed_dim)\n",
    "        self.items_embeddings = nn.Embedding(n_items, embed_dim)\n",
    "        \n",
    "        layers = [nn.Linear(embed_dim * 2, hidden_dim[0])]\n",
    "        for dim_in, dim_out in zip(hidden_dim[:-1], hidden_dim[1:]):\n",
    "            layers.append(nn.Linear(dim_in, dim_out))\n",
    "        layers.append(nn.ReLU())\n",
    "        self.layers = nn.Sequential(*layers)\n",
    "        \n",
    "        self.f = nn.Sequential(nn.Linear(hidden_dim[-1], 1), nn.Sigmoid())\n",
    "\n",
    "        self.u = self.users_embeddings.weight.detach().cpu().numpy()\n",
    "        self.v = self.items_embeddings.weight.detach().cpu().numpy()\n",
    "    \n",
    "    def forward(self, user, item):\n",
    "        user = self.users_embeddings(user)\n",
    "        item = self.items_embeddings(item)\n",
    "        out =  torch.cat((user, item), -1)\n",
    "        out = self.layers(out)\n",
    "        out = self.f(out).view(-1)\n",
    "        return out\n",
    "    \n",
    "    def predict(self, user, item):\n",
    "        user = torch.tensor(user).to(device).long()\n",
    "        item = torch.tensor(item).to(device).long()\n",
    "        return self(user, item)"
   ]
  },
  {
   "cell_type": "code",
   "execution_count": 45,
   "metadata": {
    "id": "JpJqzN-YOQyj"
   },
   "outputs": [],
   "source": [
    "class NeuCF(nn.Module):\n",
    "    def __init__(self, n_users, n_items, dim_gfm, dim_mlp, hidden_dim, gfm_path, mlp_path):\n",
    "        super().__init__()\n",
    "        self.gfm = GFM(n_users, n_items, dim_gfm).to(device)\n",
    "        self.mlp = MLP(n_users, n_items, dim_mlp, hidden_dim).to(device)\n",
    "        self.f = nn.Sequential(nn.Linear(hidden_dim[-1] + dim_gfm, 1), nn.Sigmoid())\n",
    "        \n",
    "        self.gfm.load_state_dict(torch.load(gfm_path, map_location=torch.device('cpu')))\n",
    "        self.mlp.load_state_dict(torch.load(mlp_path, map_location=torch.device('cpu')))\n",
    "\n",
    "        self.u = np.hstack((self.gfm.users_embeddings.weight.detach().cpu().numpy(), \n",
    "                            self.mlp.users_embeddings.weight.detach().cpu().numpy()))\n",
    "        self.v = np.hstack((self.gfm.items_embeddings.weight.detach().cpu().numpy(), \n",
    "                            self.mlp.items_embeddings.weight.detach().cpu().numpy()))\n",
    "        \n",
    "    def forward(self, user, item):\n",
    "        user_gfm = self.gfm.users_embeddings(user)\n",
    "        item_gfm = self.gfm.items_embeddings(item)\n",
    "        out_gfm = user_gfm * item_gfm\n",
    "    \n",
    "        user_mlp = self.mlp.users_embeddings(user)\n",
    "        item_mlp = self.mlp.items_embeddings(item)\n",
    "        out_mlp = torch.cat((user_mlp, item_mlp), -1)\n",
    "        out_mlp = self.mlp.layers(out_mlp)\n",
    "        \n",
    "        out = torch.cat((out_gfm, out_mlp), -1)\n",
    "        out = self.f(out).view(-1)\n",
    "        return out\n",
    "\n",
    "    def predict(self, user, item):\n",
    "        user = torch.tensor(user).to(device).long()\n",
    "        item = torch.tensor(item).to(device).long()\n",
    "        return self(user, item)\n",
    "    "
   ]
  },
  {
   "cell_type": "code",
   "execution_count": 34,
   "metadata": {
    "id": "wg6nHC6mOQyj"
   },
   "outputs": [],
   "source": [
    "class RecommenderNCF(nn.Module):\n",
    "    def __init__(self, model, negative):\n",
    "        super().__init__()\n",
    "        self.model = model.to(device)\n",
    "        self.negative = negative\n",
    "        self.model.negative = negative\n",
    "\n",
    "    def fit(self, train, test, params):\n",
    "        epochs, lr, batch_size = params['epochs'], params['lr'], params['batch_size']\n",
    "        criterion = nn.BCELoss()\n",
    "        optimizer = optim.Adam(self.model.parameters(), lr)\n",
    "        trainloader = torch.utils.data.DataLoader(train, \n",
    "                                                  batch_size=batch_size, \n",
    "                                                  shuffle=True)\n",
    "        for epoch in tqdm(range(epochs)):\n",
    "            losses = []\n",
    "            self.model.train()\n",
    "            for x in trainloader:\n",
    "                user = x[:, 0].to(device)\n",
    "                item = x[:, 1].to(device)\n",
    "                label = x[:, 2].float().to(device)\n",
    "\n",
    "                self.model.zero_grad()\n",
    "                prediction = self.model(user, item)\n",
    "                loss = criterion(prediction, label)\n",
    "                loss.backward()\n",
    "                optimizer.step()\n",
    "                losses.append(loss.item())\n",
    "            \n",
    "            print(f'Epoch {epoch} - Loss: {np.mean(losses)}')\n",
    "\n",
    "    def predict(self, user, item):\n",
    "        return self.model.predict(user, item)\n",
    "\n",
    "    def evaluate(self, test, k=10):\n",
    "        return evaluate(self.model, test, self.negative)\n",
    "    \n",
    "    def recommend(self, user_id, k=10):\n",
    "        neg = self.model.negative[user_id]\n",
    "        scores = self.model.v[neg] @ self.model.u[user_id]\n",
    "        ids = np.argsort(scores)[::-1][:k]\n",
    "        return np.array(neg)[ids]\n",
    "\n",
    "    def similar_items(self, item_id, k=10):\n",
    "        scores = self.model.v @ self.model.v[item_id] / np.linalg.norm(self.model.v, axis=-1)\n",
    "        ids = np.argsort(scores)[::-1][:k]\n",
    "        return ids"
   ]
  },
  {
   "cell_type": "code",
   "execution_count": 35,
   "metadata": {
    "id": "7eoQN9vW3gli"
   },
   "outputs": [],
   "source": [
    "def get_data_ncf(data):\n",
    "    new_data = []\n",
    "    for i, user in enumerate(data):\n",
    "        pos = user.indices\n",
    "        positive = [(i, pos_, 1) for pos_ in user.indices]\n",
    "        if len(positive) > 0:\n",
    "            neg = np.setdiff1d(np.arange(data.shape[1]), pos)\n",
    "            negative = np.random.choice(neg, len(pos))\n",
    "            negative = [(i, neg, 0) for neg in negative]\n",
    "            result = np.vstack((positive, negative))\n",
    "            new_data.append(result)\n",
    "    return np.vstack(new_data)"
   ]
  },
  {
   "cell_type": "code",
   "execution_count": 70,
   "metadata": {
    "id": "lrJkOYvh1MoG"
   },
   "outputs": [],
   "source": [
    "train_data = get_data_ncf(train)"
   ]
  },
  {
   "cell_type": "code",
   "execution_count": 36,
   "metadata": {
    "id": "NsVeW0vGOQyj"
   },
   "outputs": [],
   "source": [
    "gfm_params = {\n",
    "    'epochs': 40, \n",
    "    'lr': 1e-3, \n",
    "    'batch_size': 256,\n",
    "    'dim': 64\n",
    "}"
   ]
  },
  {
   "cell_type": "code",
   "execution_count": 111,
   "metadata": {
    "colab": {
     "base_uri": "https://localhost:8080/",
     "height": 746,
     "referenced_widgets": [
      "5f59d86c8d844e4395a0315ad04fa906",
      "348d9e68ec1e4704a3f63264545021fd",
      "d9e05bc2c3414d28b1141a3036546beb",
      "b6e16105e0ff4ce9ba598d6ce314eede",
      "4ba201df341d48f09bd5c979b139fa80",
      "bae0fbbedf1149e7a25e5c2fc65b0948",
      "17525ab0f21d43e29a7063b1eeb9446b",
      "e9d37d4ed3b843dc8041d547a95f613d"
     ]
    },
    "id": "u4TUiP2uZHrB",
    "outputId": "26e70c2a-d292-44ee-b790-c679a632119d"
   },
   "outputs": [
    {
     "data": {
      "application/vnd.jupyter.widget-view+json": {
       "model_id": "5f59d86c8d844e4395a0315ad04fa906",
       "version_major": 2,
       "version_minor": 0
      },
      "text/plain": [
       "HBox(children=(FloatProgress(value=0.0, max=40.0), HTML(value='')))"
      ]
     },
     "metadata": {
      "tags": []
     },
     "output_type": "display_data"
    },
    {
     "name": "stdout",
     "output_type": "stream",
     "text": [
      "Epoch 0 - Loss: 0.6942116227517178\n",
      "Epoch 1 - Loss: 0.693325893410982\n",
      "Epoch 2 - Loss: 0.6885083969724769\n",
      "Epoch 3 - Loss: 0.6380461905285316\n",
      "Epoch 4 - Loss: 0.5235764944163414\n",
      "Epoch 5 - Loss: 0.4471036328382787\n",
      "Epoch 6 - Loss: 0.4077387634717243\n",
      "Epoch 7 - Loss: 0.3809677195760241\n",
      "Epoch 8 - Loss: 0.3570705567575866\n",
      "Epoch 9 - Loss: 0.3334843856483522\n",
      "Epoch 10 - Loss: 0.31036335337519483\n",
      "Epoch 11 - Loss: 0.2884281526832947\n",
      "Epoch 12 - Loss: 0.26805929745167073\n",
      "Epoch 13 - Loss: 0.24936053977736772\n",
      "Epoch 14 - Loss: 0.2321708651021739\n",
      "Epoch 15 - Loss: 0.2164127679016172\n",
      "Epoch 16 - Loss: 0.2018886013519271\n",
      "Epoch 17 - Loss: 0.18847016688911875\n",
      "Epoch 18 - Loss: 0.17609593509503896\n",
      "Epoch 19 - Loss: 0.16457870394763272\n",
      "Epoch 20 - Loss: 0.1539133639006737\n",
      "Epoch 21 - Loss: 0.14395964915175727\n",
      "Epoch 22 - Loss: 0.1346926526705997\n",
      "Epoch 23 - Loss: 0.12599670665608595\n",
      "Epoch 24 - Loss: 0.11796115648961106\n",
      "Epoch 25 - Loss: 0.11030222744727909\n",
      "Epoch 26 - Loss: 0.10314540490880439\n",
      "Epoch 27 - Loss: 0.09638449454342422\n",
      "Epoch 28 - Loss: 0.08997781548280098\n",
      "Epoch 29 - Loss: 0.0839302674395416\n",
      "Epoch 30 - Loss: 0.07825095629212073\n",
      "Epoch 31 - Loss: 0.07292228850490773\n",
      "Epoch 32 - Loss: 0.06797537710373779\n",
      "Epoch 33 - Loss: 0.06306488652024309\n",
      "Epoch 34 - Loss: 0.058475381314123165\n",
      "Epoch 35 - Loss: 0.0541507478986191\n",
      "Epoch 36 - Loss: 0.04992115041850366\n",
      "Epoch 37 - Loss: 0.04611361791370864\n",
      "Epoch 38 - Loss: 0.04243426738585727\n",
      "Epoch 39 - Loss: 0.03892167584665089\n",
      "\n"
     ]
    }
   ],
   "source": [
    "gfm = GFM(max(users) + 1, max(movies) + 1, gfm_params['dim'])\n",
    "gfm_rec = RecommenderNCF(gfm, val_neg_)\n",
    "gfm_rec.fit(train_data, val, gfm_params)"
   ]
  },
  {
   "cell_type": "code",
   "execution_count": 117,
   "metadata": {
    "id": "jbJUlvXRoPxR"
   },
   "outputs": [],
   "source": [
    "torch.save(gfm.state_dict(), 'gfm.pcl')"
   ]
  },
  {
   "cell_type": "code",
   "execution_count": 37,
   "metadata": {},
   "outputs": [
    {
     "data": {
      "text/plain": [
       "<All keys matched successfully>"
      ]
     },
     "execution_count": 37,
     "metadata": {},
     "output_type": "execute_result"
    }
   ],
   "source": [
    "gfm = GFM(max(users) + 1, max(movies) + 1, gfm_params['dim'])\n",
    "gfm_rec = RecommenderNCF(gfm, val_neg_)\n",
    "gfm.load_state_dict((torch.load('models/gfm.pcl', map_location=torch.device('cpu'))))"
   ]
  },
  {
   "cell_type": "code",
   "execution_count": 112,
   "metadata": {
    "colab": {
     "base_uri": "https://localhost:8080/",
     "height": 769
    },
    "id": "39pmgpp0aDBx",
    "outputId": "e6d39a24-7be8-4433-f188-12f7574f5d06"
   },
   "outputs": [
    {
     "name": "stdout",
     "output_type": "stream",
     "text": [
      "MODEL: GFM\n",
      "Metrics HR: 0.46, nDCG: 0.35\n",
      "SIMILARS for Toy Story (1995)\n"
     ]
    },
    {
     "data": {
      "text/html": [
       "<div>\n",
       "<style scoped>\n",
       "    .dataframe tbody tr th:only-of-type {\n",
       "        vertical-align: middle;\n",
       "    }\n",
       "\n",
       "    .dataframe tbody tr th {\n",
       "        vertical-align: top;\n",
       "    }\n",
       "\n",
       "    .dataframe thead th {\n",
       "        text-align: right;\n",
       "    }\n",
       "</style>\n",
       "<table border=\"1\" class=\"dataframe\">\n",
       "  <thead>\n",
       "    <tr style=\"text-align: right;\">\n",
       "      <th></th>\n",
       "      <th>movie_id</th>\n",
       "      <th>name</th>\n",
       "      <th>category</th>\n",
       "    </tr>\n",
       "  </thead>\n",
       "  <tbody>\n",
       "    <tr>\n",
       "      <th>0</th>\n",
       "      <td>1</td>\n",
       "      <td>Toy Story (1995)</td>\n",
       "      <td>Animation|Children's|Comedy</td>\n",
       "    </tr>\n",
       "    <tr>\n",
       "      <th>1396</th>\n",
       "      <td>1420</td>\n",
       "      <td>Message to Love: The Isle of Wight Festival (1...</td>\n",
       "      <td>Documentary</td>\n",
       "    </tr>\n",
       "    <tr>\n",
       "      <th>2626</th>\n",
       "      <td>2695</td>\n",
       "      <td>Boys, The (1997)</td>\n",
       "      <td>Drama</td>\n",
       "    </tr>\n",
       "    <tr>\n",
       "      <th>2371</th>\n",
       "      <td>2440</td>\n",
       "      <td>Another Day in Paradise (1998)</td>\n",
       "      <td>Drama</td>\n",
       "    </tr>\n",
       "    <tr>\n",
       "      <th>3176</th>\n",
       "      <td>3245</td>\n",
       "      <td>I Am Cuba (Soy Cuba/Ya Kuba) (1964)</td>\n",
       "      <td>Drama</td>\n",
       "    </tr>\n",
       "    <tr>\n",
       "      <th>367</th>\n",
       "      <td>371</td>\n",
       "      <td>Paper, The (1994)</td>\n",
       "      <td>Comedy|Drama</td>\n",
       "    </tr>\n",
       "    <tr>\n",
       "      <th>1457</th>\n",
       "      <td>1487</td>\n",
       "      <td>Selena (1997)</td>\n",
       "      <td>Drama|Musical</td>\n",
       "    </tr>\n",
       "    <tr>\n",
       "      <th>3676</th>\n",
       "      <td>3745</td>\n",
       "      <td>Titan A.E. (2000)</td>\n",
       "      <td>Adventure|Animation|Sci-Fi</td>\n",
       "    </tr>\n",
       "    <tr>\n",
       "      <th>347</th>\n",
       "      <td>351</td>\n",
       "      <td>Corrina, Corrina (1994)</td>\n",
       "      <td>Comedy|Drama|Romance</td>\n",
       "    </tr>\n",
       "    <tr>\n",
       "      <th>1841</th>\n",
       "      <td>1910</td>\n",
       "      <td>I Went Down (1997)</td>\n",
       "      <td>Action|Comedy|Crime</td>\n",
       "    </tr>\n",
       "  </tbody>\n",
       "</table>\n",
       "</div>"
      ],
      "text/plain": [
       "      movie_id  ...                     category\n",
       "0            1  ...  Animation|Children's|Comedy\n",
       "1396      1420  ...                  Documentary\n",
       "2626      2695  ...                        Drama\n",
       "2371      2440  ...                        Drama\n",
       "3176      3245  ...                        Drama\n",
       "367        371  ...                 Comedy|Drama\n",
       "1457      1487  ...                Drama|Musical\n",
       "3676      3745  ...   Adventure|Animation|Sci-Fi\n",
       "347        351  ...         Comedy|Drama|Romance\n",
       "1841      1910  ...          Action|Comedy|Crime\n",
       "\n",
       "[10 rows x 3 columns]"
      ]
     },
     "metadata": {
      "tags": []
     },
     "output_type": "display_data"
    },
    {
     "name": "stdout",
     "output_type": "stream",
     "text": [
      "RECOMMENDATIONS for user 4\n"
     ]
    },
    {
     "data": {
      "text/html": [
       "<div>\n",
       "<style scoped>\n",
       "    .dataframe tbody tr th:only-of-type {\n",
       "        vertical-align: middle;\n",
       "    }\n",
       "\n",
       "    .dataframe tbody tr th {\n",
       "        vertical-align: top;\n",
       "    }\n",
       "\n",
       "    .dataframe thead th {\n",
       "        text-align: right;\n",
       "    }\n",
       "</style>\n",
       "<table border=\"1\" class=\"dataframe\">\n",
       "  <thead>\n",
       "    <tr style=\"text-align: right;\">\n",
       "      <th></th>\n",
       "      <th>movie_id</th>\n",
       "      <th>name</th>\n",
       "      <th>category</th>\n",
       "    </tr>\n",
       "  </thead>\n",
       "  <tbody>\n",
       "    <tr>\n",
       "      <th>3271</th>\n",
       "      <td>3340</td>\n",
       "      <td>Bride of the Monster (1956)</td>\n",
       "      <td>Horror|Sci-Fi</td>\n",
       "    </tr>\n",
       "    <tr>\n",
       "      <th>3498</th>\n",
       "      <td>3567</td>\n",
       "      <td>Bossa Nova (1999)</td>\n",
       "      <td>Comedy</td>\n",
       "    </tr>\n",
       "    <tr>\n",
       "      <th>2004</th>\n",
       "      <td>2073</td>\n",
       "      <td>Fandango (1985)</td>\n",
       "      <td>Comedy</td>\n",
       "    </tr>\n",
       "    <tr>\n",
       "      <th>981</th>\n",
       "      <td>993</td>\n",
       "      <td>Infinity (1996)</td>\n",
       "      <td>Drama</td>\n",
       "    </tr>\n",
       "    <tr>\n",
       "      <th>3428</th>\n",
       "      <td>3497</td>\n",
       "      <td>Max Dugan Returns (1983)</td>\n",
       "      <td>Comedy</td>\n",
       "    </tr>\n",
       "    <tr>\n",
       "      <th>210</th>\n",
       "      <td>212</td>\n",
       "      <td>Bushwhacked (1995)</td>\n",
       "      <td>Comedy</td>\n",
       "    </tr>\n",
       "    <tr>\n",
       "      <th>2176</th>\n",
       "      <td>2245</td>\n",
       "      <td>Working Girl (1988)</td>\n",
       "      <td>Comedy|Drama</td>\n",
       "    </tr>\n",
       "    <tr>\n",
       "      <th>2566</th>\n",
       "      <td>2635</td>\n",
       "      <td>Mummy's Curse, The (1944)</td>\n",
       "      <td>Horror</td>\n",
       "    </tr>\n",
       "    <tr>\n",
       "      <th>1241</th>\n",
       "      <td>1261</td>\n",
       "      <td>Evil Dead II (Dead By Dawn) (1987)</td>\n",
       "      <td>Action|Adventure|Comedy|Horror</td>\n",
       "    </tr>\n",
       "    <tr>\n",
       "      <th>494</th>\n",
       "      <td>498</td>\n",
       "      <td>Mr. Jones (1993)</td>\n",
       "      <td>Drama|Romance</td>\n",
       "    </tr>\n",
       "  </tbody>\n",
       "</table>\n",
       "</div>"
      ],
      "text/plain": [
       "      movie_id  ...                        category\n",
       "3271      3340  ...                   Horror|Sci-Fi\n",
       "3498      3567  ...                          Comedy\n",
       "2004      2073  ...                          Comedy\n",
       "981        993  ...                           Drama\n",
       "3428      3497  ...                          Comedy\n",
       "210        212  ...                          Comedy\n",
       "2176      2245  ...                    Comedy|Drama\n",
       "2566      2635  ...                          Horror\n",
       "1241      1261  ...  Action|Adventure|Comedy|Horror\n",
       "494        498  ...                   Drama|Romance\n",
       "\n",
       "[10 rows x 3 columns]"
      ]
     },
     "metadata": {
      "tags": []
     },
     "output_type": "display_data"
    }
   ],
   "source": [
    "testing(gfm_rec, 'GFM', val, val_neg_)"
   ]
  },
  {
   "cell_type": "code",
   "execution_count": 39,
   "metadata": {
    "id": "Izfgarc7cwqt"
   },
   "outputs": [],
   "source": [
    "mlp_params = {\n",
    "    'epochs': 50, \n",
    "    'lr': 1e-3, \n",
    "    'batch_size': 512,\n",
    "    'dim': 32,\n",
    "    'hidden': [32, 64, 32]\n",
    "}"
   ]
  },
  {
   "cell_type": "code",
   "execution_count": 41,
   "metadata": {},
   "outputs": [
    {
     "data": {
      "text/plain": [
       "<All keys matched successfully>"
      ]
     },
     "execution_count": 41,
     "metadata": {},
     "output_type": "execute_result"
    }
   ],
   "source": [
    "mlp.load_state_dict((torch.load('models/mlp.pcl', map_location=torch.device('cpu'))))"
   ]
  },
  {
   "cell_type": "code",
   "execution_count": 144,
   "metadata": {
    "colab": {
     "base_uri": "https://localhost:8080/",
     "height": 916,
     "referenced_widgets": [
      "54df0a26520c4703a3ed66800f1217c5",
      "25f432177a574ded81d4cbbacf24908e",
      "b737ac43580e4af5984fde0bd970773e",
      "608066341bc04e2b84362faf1c702620",
      "272ada6224244632a51e84d0fcd6fd78",
      "151df46de45d4fd1836c8e0ecb8fac70",
      "f15f5cd0e8d64ef5a9ec93bf1608873d",
      "03380f23d0bf47349c28aa6d8968be52"
     ]
    },
    "id": "sg2XplkgqRUz",
    "outputId": "b6c8c4d6-d54b-4fbf-9fab-fde9d68091c3"
   },
   "outputs": [
    {
     "data": {
      "application/vnd.jupyter.widget-view+json": {
       "model_id": "54df0a26520c4703a3ed66800f1217c5",
       "version_major": 2,
       "version_minor": 0
      },
      "text/plain": [
       "HBox(children=(FloatProgress(value=0.0, max=50.0), HTML(value='')))"
      ]
     },
     "metadata": {
      "tags": []
     },
     "output_type": "display_data"
    },
    {
     "name": "stdout",
     "output_type": "stream",
     "text": [
      "Epoch 0 - Loss: 0.485973902029755\n",
      "Epoch 1 - Loss: 0.42894440129744577\n",
      "Epoch 2 - Loss: 0.42366890934909923\n",
      "Epoch 3 - Loss: 0.4186856179603497\n",
      "Epoch 4 - Loss: 0.41551534034673976\n",
      "Epoch 5 - Loss: 0.4135228179087156\n",
      "Epoch 6 - Loss: 0.4120006374151584\n",
      "Epoch 7 - Loss: 0.41079068190669105\n",
      "Epoch 8 - Loss: 0.4097852252359447\n",
      "Epoch 9 - Loss: 0.4087192204690749\n",
      "Epoch 10 - Loss: 0.40756241076104155\n",
      "Epoch 11 - Loss: 0.4065418306641663\n",
      "Epoch 12 - Loss: 0.40536035668411236\n",
      "Epoch 13 - Loss: 0.40418860229618275\n",
      "Epoch 14 - Loss: 0.40281118116071146\n",
      "Epoch 15 - Loss: 0.4013593032218174\n",
      "Epoch 16 - Loss: 0.3997511412543852\n",
      "Epoch 17 - Loss: 0.3979722398186423\n",
      "Epoch 18 - Loss: 0.39571417212107135\n",
      "Epoch 19 - Loss: 0.393110670024078\n",
      "Epoch 20 - Loss: 0.38986074680742594\n",
      "Epoch 21 - Loss: 0.3862402212587285\n",
      "Epoch 22 - Loss: 0.3821697990794661\n",
      "Epoch 23 - Loss: 0.37808046991962674\n",
      "Epoch 24 - Loss: 0.37419942743070883\n",
      "Epoch 25 - Loss: 0.3706341032031881\n",
      "Epoch 26 - Loss: 0.36712963550754807\n",
      "Epoch 27 - Loss: 0.36428209792641497\n",
      "Epoch 28 - Loss: 0.3613717011406659\n",
      "Epoch 29 - Loss: 0.35902302468814185\n",
      "Epoch 30 - Loss: 0.35683212963790584\n",
      "Epoch 31 - Loss: 0.35484685661141735\n",
      "Epoch 32 - Loss: 0.3529982073152136\n",
      "Epoch 33 - Loss: 0.35112857998690244\n",
      "Epoch 34 - Loss: 0.3493082812974151\n",
      "Epoch 35 - Loss: 0.34772668033499765\n",
      "Epoch 36 - Loss: 0.3462038005091612\n",
      "Epoch 37 - Loss: 0.34451991261432846\n",
      "Epoch 38 - Loss: 0.3431095379366218\n",
      "Epoch 39 - Loss: 0.34148726706773463\n",
      "Epoch 40 - Loss: 0.3399847901203263\n",
      "Epoch 41 - Loss: 0.33840846763530247\n",
      "Epoch 42 - Loss: 0.33696684639381314\n",
      "Epoch 43 - Loss: 0.3355959749990894\n",
      "Epoch 44 - Loss: 0.33406502651604997\n",
      "Epoch 45 - Loss: 0.3328107388276287\n",
      "Epoch 46 - Loss: 0.3313277745885992\n",
      "Epoch 47 - Loss: 0.32996023441920874\n",
      "Epoch 48 - Loss: 0.3286574314746571\n",
      "Epoch 49 - Loss: 0.327502022475776\n",
      "\n"
     ]
    }
   ],
   "source": [
    "mlp = MLP(max(users) + 1, max(movies) + 1, mlp_params['dim'], hidden_dim=mlp_params['hidden'])\n",
    "mlp_rec = RecommenderNCF(mlp, val_neg_)\n",
    "mlp_rec.fit(train_data, val, mlp_params)"
   ]
  },
  {
   "cell_type": "code",
   "execution_count": 146,
   "metadata": {
    "id": "5UyUJxO8q88B"
   },
   "outputs": [],
   "source": [
    "torch.save(mlp.state_dict(), 'mlp.pcl')"
   ]
  },
  {
   "cell_type": "code",
   "execution_count": 145,
   "metadata": {
    "colab": {
     "base_uri": "https://localhost:8080/",
     "height": 769
    },
    "id": "BeQLW_hgvbFq",
    "outputId": "4e214a16-ef62-48fb-b799-375e06b91190"
   },
   "outputs": [
    {
     "name": "stdout",
     "output_type": "stream",
     "text": [
      "MODEL: MLP\n",
      "Metrics HR: 0.60, nDCG: 0.32\n",
      "SIMILARS for Toy Story (1995)\n"
     ]
    },
    {
     "data": {
      "text/html": [
       "<div>\n",
       "<style scoped>\n",
       "    .dataframe tbody tr th:only-of-type {\n",
       "        vertical-align: middle;\n",
       "    }\n",
       "\n",
       "    .dataframe tbody tr th {\n",
       "        vertical-align: top;\n",
       "    }\n",
       "\n",
       "    .dataframe thead th {\n",
       "        text-align: right;\n",
       "    }\n",
       "</style>\n",
       "<table border=\"1\" class=\"dataframe\">\n",
       "  <thead>\n",
       "    <tr style=\"text-align: right;\">\n",
       "      <th></th>\n",
       "      <th>movie_id</th>\n",
       "      <th>name</th>\n",
       "      <th>category</th>\n",
       "    </tr>\n",
       "  </thead>\n",
       "  <tbody>\n",
       "    <tr>\n",
       "      <th>0</th>\n",
       "      <td>1</td>\n",
       "      <td>Toy Story (1995)</td>\n",
       "      <td>Animation|Children's|Comedy</td>\n",
       "    </tr>\n",
       "    <tr>\n",
       "      <th>3280</th>\n",
       "      <td>3349</td>\n",
       "      <td>Perils of Pauline, The (1947)</td>\n",
       "      <td>Comedy</td>\n",
       "    </tr>\n",
       "    <tr>\n",
       "      <th>945</th>\n",
       "      <td>957</td>\n",
       "      <td>Scarlet Letter, The (1926)</td>\n",
       "      <td>Drama</td>\n",
       "    </tr>\n",
       "    <tr>\n",
       "      <th>1718</th>\n",
       "      <td>1774</td>\n",
       "      <td>Mass Transit (1998)</td>\n",
       "      <td>Comedy|Drama</td>\n",
       "    </tr>\n",
       "    <tr>\n",
       "      <th>37</th>\n",
       "      <td>38</td>\n",
       "      <td>It Takes Two (1995)</td>\n",
       "      <td>Comedy</td>\n",
       "    </tr>\n",
       "    <tr>\n",
       "      <th>258</th>\n",
       "      <td>261</td>\n",
       "      <td>Little Women (1994)</td>\n",
       "      <td>Drama</td>\n",
       "    </tr>\n",
       "    <tr>\n",
       "      <th>3195</th>\n",
       "      <td>3264</td>\n",
       "      <td>Buffy the Vampire Slayer (1992)</td>\n",
       "      <td>Comedy|Horror</td>\n",
       "    </tr>\n",
       "    <tr>\n",
       "      <th>1517</th>\n",
       "      <td>1556</td>\n",
       "      <td>Speed 2: Cruise Control (1997)</td>\n",
       "      <td>Action|Romance|Thriller</td>\n",
       "    </tr>\n",
       "    <tr>\n",
       "      <th>2890</th>\n",
       "      <td>2959</td>\n",
       "      <td>Fight Club (1999)</td>\n",
       "      <td>Drama</td>\n",
       "    </tr>\n",
       "    <tr>\n",
       "      <th>621</th>\n",
       "      <td>626</td>\n",
       "      <td>Thin Line Between Love and Hate, A (1996)</td>\n",
       "      <td>Comedy</td>\n",
       "    </tr>\n",
       "  </tbody>\n",
       "</table>\n",
       "</div>"
      ],
      "text/plain": [
       "      movie_id  ...                     category\n",
       "0            1  ...  Animation|Children's|Comedy\n",
       "3280      3349  ...                       Comedy\n",
       "945        957  ...                        Drama\n",
       "1718      1774  ...                 Comedy|Drama\n",
       "37          38  ...                       Comedy\n",
       "258        261  ...                        Drama\n",
       "3195      3264  ...                Comedy|Horror\n",
       "1517      1556  ...      Action|Romance|Thriller\n",
       "2890      2959  ...                        Drama\n",
       "621        626  ...                       Comedy\n",
       "\n",
       "[10 rows x 3 columns]"
      ]
     },
     "metadata": {
      "tags": []
     },
     "output_type": "display_data"
    },
    {
     "name": "stdout",
     "output_type": "stream",
     "text": [
      "RECOMMENDATIONS for user 4\n"
     ]
    },
    {
     "data": {
      "text/html": [
       "<div>\n",
       "<style scoped>\n",
       "    .dataframe tbody tr th:only-of-type {\n",
       "        vertical-align: middle;\n",
       "    }\n",
       "\n",
       "    .dataframe tbody tr th {\n",
       "        vertical-align: top;\n",
       "    }\n",
       "\n",
       "    .dataframe thead th {\n",
       "        text-align: right;\n",
       "    }\n",
       "</style>\n",
       "<table border=\"1\" class=\"dataframe\">\n",
       "  <thead>\n",
       "    <tr style=\"text-align: right;\">\n",
       "      <th></th>\n",
       "      <th>movie_id</th>\n",
       "      <th>name</th>\n",
       "      <th>category</th>\n",
       "    </tr>\n",
       "  </thead>\n",
       "  <tbody>\n",
       "    <tr>\n",
       "      <th>3800</th>\n",
       "      <td>3870</td>\n",
       "      <td>Our Town (1940)</td>\n",
       "      <td>Drama</td>\n",
       "    </tr>\n",
       "    <tr>\n",
       "      <th>2878</th>\n",
       "      <td>2947</td>\n",
       "      <td>Goldfinger (1964)</td>\n",
       "      <td>Action</td>\n",
       "    </tr>\n",
       "    <tr>\n",
       "      <th>1028</th>\n",
       "      <td>1041</td>\n",
       "      <td>Secrets &amp; Lies (1996)</td>\n",
       "      <td>Drama</td>\n",
       "    </tr>\n",
       "    <tr>\n",
       "      <th>1975</th>\n",
       "      <td>2044</td>\n",
       "      <td>Devil and Max Devlin, The (1981)</td>\n",
       "      <td>Comedy</td>\n",
       "    </tr>\n",
       "    <tr>\n",
       "      <th>2028</th>\n",
       "      <td>2097</td>\n",
       "      <td>Something Wicked This Way Comes (1983)</td>\n",
       "      <td>Children's|Horror</td>\n",
       "    </tr>\n",
       "    <tr>\n",
       "      <th>2263</th>\n",
       "      <td>2332</td>\n",
       "      <td>Belly (1998)</td>\n",
       "      <td>Crime|Drama</td>\n",
       "    </tr>\n",
       "    <tr>\n",
       "      <th>3121</th>\n",
       "      <td>3190</td>\n",
       "      <td>Supernova (2000)</td>\n",
       "      <td>Adventure|Sci-Fi</td>\n",
       "    </tr>\n",
       "    <tr>\n",
       "      <th>2983</th>\n",
       "      <td>3052</td>\n",
       "      <td>Dogma (1999)</td>\n",
       "      <td>Comedy</td>\n",
       "    </tr>\n",
       "    <tr>\n",
       "      <th>2582</th>\n",
       "      <td>2651</td>\n",
       "      <td>Frankenstein Meets the Wolf Man (1943)</td>\n",
       "      <td>Horror</td>\n",
       "    </tr>\n",
       "    <tr>\n",
       "      <th>3220</th>\n",
       "      <td>3289</td>\n",
       "      <td>Not One Less (Yi ge dou bu neng shao) (1999)</td>\n",
       "      <td>Drama</td>\n",
       "    </tr>\n",
       "  </tbody>\n",
       "</table>\n",
       "</div>"
      ],
      "text/plain": [
       "      movie_id                                          name           category\n",
       "3800      3870                               Our Town (1940)              Drama\n",
       "2878      2947                             Goldfinger (1964)             Action\n",
       "1028      1041                         Secrets & Lies (1996)              Drama\n",
       "1975      2044              Devil and Max Devlin, The (1981)             Comedy\n",
       "2028      2097        Something Wicked This Way Comes (1983)  Children's|Horror\n",
       "2263      2332                                  Belly (1998)        Crime|Drama\n",
       "3121      3190                              Supernova (2000)   Adventure|Sci-Fi\n",
       "2983      3052                                  Dogma (1999)             Comedy\n",
       "2582      2651        Frankenstein Meets the Wolf Man (1943)             Horror\n",
       "3220      3289  Not One Less (Yi ge dou bu neng shao) (1999)              Drama"
      ]
     },
     "metadata": {
      "tags": []
     },
     "output_type": "display_data"
    }
   ],
   "source": [
    "testing(mlp_rec, 'MLP', val, val_neg_)"
   ]
  },
  {
   "cell_type": "code",
   "execution_count": 42,
   "metadata": {
    "id": "y-8snuDH36zt"
   },
   "outputs": [],
   "source": [
    "neucf_params = {\n",
    "    'epochs': 50, \n",
    "    'lr': 1e-3, \n",
    "    'batch_size': 512\n",
    "}"
   ]
  },
  {
   "cell_type": "code",
   "execution_count": 47,
   "metadata": {},
   "outputs": [
    {
     "data": {
      "text/plain": [
       "<All keys matched successfully>"
      ]
     },
     "execution_count": 47,
     "metadata": {},
     "output_type": "execute_result"
    }
   ],
   "source": [
    "neucf.load_state_dict((torch.load('models/neucf.pcl', map_location=torch.device('cpu'))))"
   ]
  },
  {
   "cell_type": "code",
   "execution_count": 175,
   "metadata": {
    "colab": {
     "base_uri": "https://localhost:8080/",
     "height": 916,
     "referenced_widgets": [
      "c8f55386fabf44eaafd76f2e1fc3244a",
      "ec8ec6c9abfb44aa9567527276e62ef2",
      "a894f813cf4b4de6858dc032f954988d",
      "bf197c12fed443f480823b7540d79958",
      "d1539200d0d141749478ea5686151453",
      "c4d45c99798c48a09dcf14896ffcd8bb",
      "36b5de4caf5b47aca99ca038d5934e81",
      "c3b64bd207cd4f9e99b64ce113de002c"
     ]
    },
    "id": "GWgfTDNqvlbV",
    "outputId": "2dcc82f6-800f-4c35-ccba-1f4c9bee4f6a"
   },
   "outputs": [
    {
     "data": {
      "application/vnd.jupyter.widget-view+json": {
       "model_id": "c8f55386fabf44eaafd76f2e1fc3244a",
       "version_major": 2,
       "version_minor": 0
      },
      "text/plain": [
       "HBox(children=(FloatProgress(value=0.0, max=50.0), HTML(value='')))"
      ]
     },
     "metadata": {
      "tags": []
     },
     "output_type": "display_data"
    },
    {
     "name": "stdout",
     "output_type": "stream",
     "text": [
      "Epoch 0 - Loss: 0.12285264727677718\n",
      "Epoch 1 - Loss: 0.04820799645627157\n",
      "Epoch 2 - Loss: 0.03680428043126329\n",
      "Epoch 3 - Loss: 0.03134199684576344\n",
      "Epoch 4 - Loss: 0.027121150848802275\n",
      "Epoch 5 - Loss: 0.023655867119654436\n",
      "Epoch 6 - Loss: 0.02040692615339271\n",
      "Epoch 7 - Loss: 0.01753057661104096\n",
      "Epoch 8 - Loss: 0.015009544657137937\n",
      "Epoch 9 - Loss: 0.012881798573220821\n",
      "Epoch 10 - Loss: 0.010696970867517759\n",
      "Epoch 11 - Loss: 0.008944657900756135\n",
      "Epoch 12 - Loss: 0.007396555377641394\n",
      "Epoch 13 - Loss: 0.006175111641028159\n",
      "Epoch 14 - Loss: 0.005096906569243909\n",
      "Epoch 15 - Loss: 0.004273468996323573\n",
      "Epoch 16 - Loss: 0.003609426757796261\n",
      "Epoch 17 - Loss: 0.0031434090497081796\n",
      "Epoch 18 - Loss: 0.002708900010942954\n",
      "Epoch 19 - Loss: 0.0024365567099372825\n",
      "Epoch 20 - Loss: 0.0022775197689256345\n",
      "Epoch 21 - Loss: 0.0020782579414579602\n",
      "Epoch 22 - Loss: 0.00197083242368112\n",
      "Epoch 23 - Loss: 0.0018811681891641257\n",
      "Epoch 24 - Loss: 0.0018279055967129342\n",
      "Epoch 25 - Loss: 0.001776070792911692\n",
      "Epoch 26 - Loss: 0.0017822060599816795\n",
      "Epoch 27 - Loss: 0.0016936613723876213\n",
      "Epoch 28 - Loss: 0.0017362425607469294\n",
      "Epoch 29 - Loss: 0.001669066400496345\n",
      "Epoch 30 - Loss: 0.0015992465328378471\n",
      "Epoch 31 - Loss: 0.0017000715205367333\n",
      "Epoch 32 - Loss: 0.0016472489448470197\n",
      "Epoch 33 - Loss: 0.001565809513989191\n",
      "Epoch 34 - Loss: 0.001538120220470639\n",
      "Epoch 35 - Loss: 0.0017070646451189146\n",
      "Epoch 36 - Loss: 0.0016142538239944672\n",
      "Epoch 37 - Loss: 0.0016264112781908407\n",
      "Epoch 38 - Loss: 0.001577903399596767\n",
      "Epoch 39 - Loss: 0.0015253576222767316\n",
      "Epoch 40 - Loss: 0.0015186918078003953\n",
      "Epoch 41 - Loss: 0.0016215098858755879\n",
      "Epoch 42 - Loss: 0.0016231660062455923\n",
      "Epoch 43 - Loss: 0.0015340082360836285\n",
      "Epoch 44 - Loss: 0.0015164183856967294\n",
      "Epoch 45 - Loss: 0.0015130823697520554\n",
      "Epoch 46 - Loss: 0.001569251869490745\n",
      "Epoch 47 - Loss: 0.001633867858738568\n",
      "Epoch 48 - Loss: 0.001532112369410015\n",
      "Epoch 49 - Loss: 0.0015129030100884187\n",
      "\n"
     ]
    }
   ],
   "source": [
    "neucf = NeuCF(max(users) + 1, max(movies) + 1, gfm_params['dim'], mlp_params['dim'], \n",
    "              mlp_params['hidden'], 'gfm.pcl', 'mlp.pcl')\n",
    "neucf_rec = RecommenderNCF(neucf, val_neg_)\n",
    "neucf_rec.fit(train_data, val, neucf_params)"
   ]
  },
  {
   "cell_type": "code",
   "execution_count": 176,
   "metadata": {
    "colab": {
     "base_uri": "https://localhost:8080/",
     "height": 769
    },
    "id": "Zetfbdqr3qzP",
    "outputId": "6a123ce2-c8b6-4a98-f593-a58de94812cf"
   },
   "outputs": [
    {
     "name": "stdout",
     "output_type": "stream",
     "text": [
      "MODEL: NeuCF\n",
      "Metrics HR: 0.45, nDCG: 0.45\n",
      "SIMILARS for Toy Story (1995)\n"
     ]
    },
    {
     "data": {
      "text/html": [
       "<div>\n",
       "<style scoped>\n",
       "    .dataframe tbody tr th:only-of-type {\n",
       "        vertical-align: middle;\n",
       "    }\n",
       "\n",
       "    .dataframe tbody tr th {\n",
       "        vertical-align: top;\n",
       "    }\n",
       "\n",
       "    .dataframe thead th {\n",
       "        text-align: right;\n",
       "    }\n",
       "</style>\n",
       "<table border=\"1\" class=\"dataframe\">\n",
       "  <thead>\n",
       "    <tr style=\"text-align: right;\">\n",
       "      <th></th>\n",
       "      <th>movie_id</th>\n",
       "      <th>name</th>\n",
       "      <th>category</th>\n",
       "    </tr>\n",
       "  </thead>\n",
       "  <tbody>\n",
       "    <tr>\n",
       "      <th>0</th>\n",
       "      <td>1</td>\n",
       "      <td>Toy Story (1995)</td>\n",
       "      <td>Animation|Children's|Comedy</td>\n",
       "    </tr>\n",
       "    <tr>\n",
       "      <th>2327</th>\n",
       "      <td>2396</td>\n",
       "      <td>Shakespeare in Love (1998)</td>\n",
       "      <td>Comedy|Romance</td>\n",
       "    </tr>\n",
       "    <tr>\n",
       "      <th>1250</th>\n",
       "      <td>1270</td>\n",
       "      <td>Back to the Future (1985)</td>\n",
       "      <td>Comedy|Sci-Fi</td>\n",
       "    </tr>\n",
       "    <tr>\n",
       "      <th>591</th>\n",
       "      <td>595</td>\n",
       "      <td>Beauty and the Beast (1991)</td>\n",
       "      <td>Animation|Children's|Musical</td>\n",
       "    </tr>\n",
       "    <tr>\n",
       "      <th>1058</th>\n",
       "      <td>1073</td>\n",
       "      <td>Willy Wonka and the Chocolate Factory (1971)</td>\n",
       "      <td>Adventure|Children's|Comedy|Fantasy</td>\n",
       "    </tr>\n",
       "    <tr>\n",
       "      <th>2502</th>\n",
       "      <td>2571</td>\n",
       "      <td>Matrix, The (1999)</td>\n",
       "      <td>Action|Sci-Fi|Thriller</td>\n",
       "    </tr>\n",
       "    <tr>\n",
       "      <th>1081</th>\n",
       "      <td>1097</td>\n",
       "      <td>E.T. the Extra-Terrestrial (1982)</td>\n",
       "      <td>Children's|Drama|Fantasy|Sci-Fi</td>\n",
       "    </tr>\n",
       "    <tr>\n",
       "      <th>1111</th>\n",
       "      <td>1127</td>\n",
       "      <td>Abyss, The (1989)</td>\n",
       "      <td>Action|Adventure|Sci-Fi|Thriller</td>\n",
       "    </tr>\n",
       "    <tr>\n",
       "      <th>1656</th>\n",
       "      <td>1704</td>\n",
       "      <td>Good Will Hunting (1997)</td>\n",
       "      <td>Drama</td>\n",
       "    </tr>\n",
       "    <tr>\n",
       "      <th>585</th>\n",
       "      <td>589</td>\n",
       "      <td>Terminator 2: Judgment Day (1991)</td>\n",
       "      <td>Action|Sci-Fi|Thriller</td>\n",
       "    </tr>\n",
       "  </tbody>\n",
       "</table>\n",
       "</div>"
      ],
      "text/plain": [
       "      movie_id  ...                             category\n",
       "0            1  ...          Animation|Children's|Comedy\n",
       "2327      2396  ...                       Comedy|Romance\n",
       "1250      1270  ...                        Comedy|Sci-Fi\n",
       "591        595  ...         Animation|Children's|Musical\n",
       "1058      1073  ...  Adventure|Children's|Comedy|Fantasy\n",
       "2502      2571  ...               Action|Sci-Fi|Thriller\n",
       "1081      1097  ...      Children's|Drama|Fantasy|Sci-Fi\n",
       "1111      1127  ...     Action|Adventure|Sci-Fi|Thriller\n",
       "1656      1704  ...                                Drama\n",
       "585        589  ...               Action|Sci-Fi|Thriller\n",
       "\n",
       "[10 rows x 3 columns]"
      ]
     },
     "metadata": {
      "tags": []
     },
     "output_type": "display_data"
    },
    {
     "name": "stdout",
     "output_type": "stream",
     "text": [
      "RECOMMENDATIONS for user 4\n"
     ]
    },
    {
     "data": {
      "text/html": [
       "<div>\n",
       "<style scoped>\n",
       "    .dataframe tbody tr th:only-of-type {\n",
       "        vertical-align: middle;\n",
       "    }\n",
       "\n",
       "    .dataframe tbody tr th {\n",
       "        vertical-align: top;\n",
       "    }\n",
       "\n",
       "    .dataframe thead th {\n",
       "        text-align: right;\n",
       "    }\n",
       "</style>\n",
       "<table border=\"1\" class=\"dataframe\">\n",
       "  <thead>\n",
       "    <tr style=\"text-align: right;\">\n",
       "      <th></th>\n",
       "      <th>movie_id</th>\n",
       "      <th>name</th>\n",
       "      <th>category</th>\n",
       "    </tr>\n",
       "  </thead>\n",
       "  <tbody>\n",
       "    <tr>\n",
       "      <th>3868</th>\n",
       "      <td>3938</td>\n",
       "      <td>Slumber Party Massacre, The (1982)</td>\n",
       "      <td>Horror</td>\n",
       "    </tr>\n",
       "    <tr>\n",
       "      <th>3800</th>\n",
       "      <td>3870</td>\n",
       "      <td>Our Town (1940)</td>\n",
       "      <td>Drama</td>\n",
       "    </tr>\n",
       "    <tr>\n",
       "      <th>1244</th>\n",
       "      <td>1264</td>\n",
       "      <td>Diva (1981)</td>\n",
       "      <td>Action|Drama|Mystery|Romance|Thriller</td>\n",
       "    </tr>\n",
       "    <tr>\n",
       "      <th>1479</th>\n",
       "      <td>1514</td>\n",
       "      <td>Temptress Moon (Feng Yue) (1996)</td>\n",
       "      <td>Romance</td>\n",
       "    </tr>\n",
       "    <tr>\n",
       "      <th>1831</th>\n",
       "      <td>1900</td>\n",
       "      <td>Children of Heaven, The (Bacheha-Ye Aseman) (1...</td>\n",
       "      <td>Drama</td>\n",
       "    </tr>\n",
       "    <tr>\n",
       "      <th>2263</th>\n",
       "      <td>2332</td>\n",
       "      <td>Belly (1998)</td>\n",
       "      <td>Crime|Drama</td>\n",
       "    </tr>\n",
       "    <tr>\n",
       "      <th>2828</th>\n",
       "      <td>2897</td>\n",
       "      <td>And the Ship Sails On (E la nave va) (1984)</td>\n",
       "      <td>Comedy|War</td>\n",
       "    </tr>\n",
       "    <tr>\n",
       "      <th>1214</th>\n",
       "      <td>1233</td>\n",
       "      <td>Boat, The (Das Boot) (1981)</td>\n",
       "      <td>Action|Drama|War</td>\n",
       "    </tr>\n",
       "    <tr>\n",
       "      <th>284</th>\n",
       "      <td>287</td>\n",
       "      <td>Nina Takes a Lover (1994)</td>\n",
       "      <td>Comedy|Romance</td>\n",
       "    </tr>\n",
       "    <tr>\n",
       "      <th>210</th>\n",
       "      <td>212</td>\n",
       "      <td>Bushwhacked (1995)</td>\n",
       "      <td>Comedy</td>\n",
       "    </tr>\n",
       "  </tbody>\n",
       "</table>\n",
       "</div>"
      ],
      "text/plain": [
       "      movie_id  ...                               category\n",
       "3868      3938  ...                                 Horror\n",
       "3800      3870  ...                                  Drama\n",
       "1244      1264  ...  Action|Drama|Mystery|Romance|Thriller\n",
       "1479      1514  ...                                Romance\n",
       "1831      1900  ...                                  Drama\n",
       "2263      2332  ...                            Crime|Drama\n",
       "2828      2897  ...                             Comedy|War\n",
       "1214      1233  ...                       Action|Drama|War\n",
       "284        287  ...                         Comedy|Romance\n",
       "210        212  ...                                 Comedy\n",
       "\n",
       "[10 rows x 3 columns]"
      ]
     },
     "metadata": {
      "tags": []
     },
     "output_type": "display_data"
    }
   ],
   "source": [
    "testing(neucf_rec, 'NeuCF', val, val_neg_)"
   ]
  },
  {
   "cell_type": "code",
   "execution_count": 177,
   "metadata": {
    "id": "sgIaIg8656wF"
   },
   "outputs": [],
   "source": [
    "torch.save(neucf.state_dict(), 'neucf.pcl')"
   ]
  },
  {
   "cell_type": "markdown",
   "metadata": {
    "id": "5bcmMig39Zdo"
   },
   "source": [
    "# Результаты"
   ]
  },
  {
   "cell_type": "markdown",
   "metadata": {},
   "source": [
    "Сравним результаты на test"
   ]
  },
  {
   "cell_type": "code",
   "execution_count": 48,
   "metadata": {},
   "outputs": [],
   "source": [
    "def new_negative(model, negative): \n",
    "    model.negative = negative\n",
    "    model.model.negative = negative\n",
    "    return model"
   ]
  },
  {
   "cell_type": "code",
   "execution_count": 49,
   "metadata": {},
   "outputs": [],
   "source": [
    "bpr_rec = new_negative(bpr_rec, test_neg_)\n",
    "gfm_rec = new_negative(gfm_rec, test_neg_)\n",
    "mlp_rec = new_negative(mlp_rec, test_neg_)\n",
    "neucf_rec = new_negative(neucf_rec, test_neg_)"
   ]
  },
  {
   "cell_type": "markdown",
   "metadata": {},
   "source": [
    "Еще раз посмотрим на фильмы, которые смотрел пользователь 4"
   ]
  },
  {
   "cell_type": "code",
   "execution_count": 50,
   "metadata": {},
   "outputs": [
    {
     "data": {
      "text/plain": [
       "['3468 Hustler, The (1961)',\n",
       " '2951 Fistful of Dollars, A (1964)',\n",
       " '1214 Alien (1979)',\n",
       " '1036 Die Hard (1988)',\n",
       " '260 Star Wars: Episode IV - A New Hope (1977)',\n",
       " '2028 Saving Private Ryan (1998)',\n",
       " '480 Jurassic Park (1993)',\n",
       " '1198 Raiders of the Lost Ark (1981)',\n",
       " '1954 Rocky (1976)',\n",
       " '1097 E.T. the Extra-Terrestrial (1982)',\n",
       " '3418 Thelma & Louise (1991)',\n",
       " '3702 Mad Max (1979)',\n",
       " '2366 King Kong (1933)',\n",
       " '1387 Jaws (1975)',\n",
       " '1201 Good, The Bad and The Ugly, The (1966)',\n",
       " '2692 Run Lola Run (Lola rennt) (1998)',\n",
       " '2947 Goldfinger (1964)',\n",
       " '1240 Terminator, The (1984)']"
      ]
     },
     "execution_count": 50,
     "metadata": {},
     "output_type": "execute_result"
    }
   ],
   "source": [
    "get_user_history(4, implicit_ratings)"
   ]
  },
  {
   "cell_type": "markdown",
   "metadata": {},
   "source": [
    "### BPR"
   ]
  },
  {
   "cell_type": "code",
   "execution_count": 51,
   "metadata": {},
   "outputs": [
    {
     "name": "stdout",
     "output_type": "stream",
     "text": [
      "MODEL: BPR\n",
      "Metrics HR: 0.42, nDCG: 0.27\n",
      "SIMILARS for Toy Story (1995)\n"
     ]
    },
    {
     "name": "stderr",
     "output_type": "stream",
     "text": [
      "/Users/vanna/miniconda3/envs/python37/lib/python3.7/site-packages/ipykernel_launcher.py:23: RuntimeWarning: invalid value encountered in true_divide\n"
     ]
    },
    {
     "data": {
      "text/html": [
       "<div>\n",
       "<style scoped>\n",
       "    .dataframe tbody tr th:only-of-type {\n",
       "        vertical-align: middle;\n",
       "    }\n",
       "\n",
       "    .dataframe tbody tr th {\n",
       "        vertical-align: top;\n",
       "    }\n",
       "\n",
       "    .dataframe thead th {\n",
       "        text-align: right;\n",
       "    }\n",
       "</style>\n",
       "<table border=\"1\" class=\"dataframe\">\n",
       "  <thead>\n",
       "    <tr style=\"text-align: right;\">\n",
       "      <th></th>\n",
       "      <th>movie_id</th>\n",
       "      <th>name</th>\n",
       "      <th>category</th>\n",
       "    </tr>\n",
       "  </thead>\n",
       "  <tbody>\n",
       "    <tr>\n",
       "      <th>541</th>\n",
       "      <td>545</td>\n",
       "      <td>Harlem (1993)</td>\n",
       "      <td>Drama</td>\n",
       "    </tr>\n",
       "    <tr>\n",
       "      <th>2550</th>\n",
       "      <td>2619</td>\n",
       "      <td>Mascara (1999)</td>\n",
       "      <td>Drama</td>\n",
       "    </tr>\n",
       "    <tr>\n",
       "      <th>3342</th>\n",
       "      <td>3411</td>\n",
       "      <td>Babymother (1998)</td>\n",
       "      <td>Drama</td>\n",
       "    </tr>\n",
       "    <tr>\n",
       "      <th>3338</th>\n",
       "      <td>3407</td>\n",
       "      <td>Carriers Are Waiting, The (Les Convoyeurs Atte...</td>\n",
       "      <td>Comedy|Drama</td>\n",
       "    </tr>\n",
       "    <tr>\n",
       "      <th>2562</th>\n",
       "      <td>2631</td>\n",
       "      <td>Frogs for Snakes (1998)</td>\n",
       "      <td>Comedy|Film-Noir|Thriller</td>\n",
       "    </tr>\n",
       "    <tr>\n",
       "      <th>1365</th>\n",
       "      <td>1386</td>\n",
       "      <td>Terror in a Texas Town (1958)</td>\n",
       "      <td>Western</td>\n",
       "    </tr>\n",
       "    <tr>\n",
       "      <th>1362</th>\n",
       "      <td>1383</td>\n",
       "      <td>Adrenalin: Fear the Rush (1996)</td>\n",
       "      <td>Action|Sci-Fi</td>\n",
       "    </tr>\n",
       "    <tr>\n",
       "      <th>572</th>\n",
       "      <td>576</td>\n",
       "      <td>Fausto (1993)</td>\n",
       "      <td>Comedy</td>\n",
       "    </tr>\n",
       "    <tr>\n",
       "      <th>575</th>\n",
       "      <td>579</td>\n",
       "      <td>Scorta, La (1993)</td>\n",
       "      <td>Thriller</td>\n",
       "    </tr>\n",
       "  </tbody>\n",
       "</table>\n",
       "</div>"
      ],
      "text/plain": [
       "      movie_id                                               name  \\\n",
       "541        545                                      Harlem (1993)   \n",
       "2550      2619                                     Mascara (1999)   \n",
       "3342      3411                                  Babymother (1998)   \n",
       "3338      3407  Carriers Are Waiting, The (Les Convoyeurs Atte...   \n",
       "2562      2631                            Frogs for Snakes (1998)   \n",
       "1365      1386                      Terror in a Texas Town (1958)   \n",
       "1362      1383                    Adrenalin: Fear the Rush (1996)   \n",
       "572        576                                      Fausto (1993)   \n",
       "575        579                                  Scorta, La (1993)   \n",
       "\n",
       "                       category  \n",
       "541                       Drama  \n",
       "2550                      Drama  \n",
       "3342                      Drama  \n",
       "3338               Comedy|Drama  \n",
       "2562  Comedy|Film-Noir|Thriller  \n",
       "1365                    Western  \n",
       "1362              Action|Sci-Fi  \n",
       "572                      Comedy  \n",
       "575                    Thriller  "
      ]
     },
     "metadata": {},
     "output_type": "display_data"
    },
    {
     "name": "stdout",
     "output_type": "stream",
     "text": [
      "RECOMMENDATIONS for user 4\n"
     ]
    },
    {
     "data": {
      "text/html": [
       "<div>\n",
       "<style scoped>\n",
       "    .dataframe tbody tr th:only-of-type {\n",
       "        vertical-align: middle;\n",
       "    }\n",
       "\n",
       "    .dataframe tbody tr th {\n",
       "        vertical-align: top;\n",
       "    }\n",
       "\n",
       "    .dataframe thead th {\n",
       "        text-align: right;\n",
       "    }\n",
       "</style>\n",
       "<table border=\"1\" class=\"dataframe\">\n",
       "  <thead>\n",
       "    <tr style=\"text-align: right;\">\n",
       "      <th></th>\n",
       "      <th>movie_id</th>\n",
       "      <th>name</th>\n",
       "      <th>category</th>\n",
       "    </tr>\n",
       "  </thead>\n",
       "  <tbody>\n",
       "    <tr>\n",
       "      <th>3444</th>\n",
       "      <td>3513</td>\n",
       "      <td>Rules of Engagement (2000)</td>\n",
       "      <td>Drama|Thriller</td>\n",
       "    </tr>\n",
       "    <tr>\n",
       "      <th>3141</th>\n",
       "      <td>3210</td>\n",
       "      <td>Fast Times at Ridgemont High (1982)</td>\n",
       "      <td>Comedy</td>\n",
       "    </tr>\n",
       "    <tr>\n",
       "      <th>329</th>\n",
       "      <td>333</td>\n",
       "      <td>Tommy Boy (1995)</td>\n",
       "      <td>Comedy</td>\n",
       "    </tr>\n",
       "    <tr>\n",
       "      <th>543</th>\n",
       "      <td>547</td>\n",
       "      <td>Surviving the Game (1994)</td>\n",
       "      <td>Action|Adventure|Thriller</td>\n",
       "    </tr>\n",
       "    <tr>\n",
       "      <th>1708</th>\n",
       "      <td>1762</td>\n",
       "      <td>Deep Rising (1998)</td>\n",
       "      <td>Action|Horror|Sci-Fi</td>\n",
       "    </tr>\n",
       "    <tr>\n",
       "      <th>2711</th>\n",
       "      <td>2780</td>\n",
       "      <td>Raven, The (1963)</td>\n",
       "      <td>Comedy|Horror</td>\n",
       "    </tr>\n",
       "    <tr>\n",
       "      <th>2462</th>\n",
       "      <td>2531</td>\n",
       "      <td>Battle for the Planet of the Apes (1973)</td>\n",
       "      <td>Action|Sci-Fi</td>\n",
       "    </tr>\n",
       "    <tr>\n",
       "      <th>139</th>\n",
       "      <td>141</td>\n",
       "      <td>Birdcage, The (1996)</td>\n",
       "      <td>Comedy</td>\n",
       "    </tr>\n",
       "    <tr>\n",
       "      <th>3276</th>\n",
       "      <td>3345</td>\n",
       "      <td>Charlie, the Lonesome Cougar (1967)</td>\n",
       "      <td>Adventure|Children's</td>\n",
       "    </tr>\n",
       "    <tr>\n",
       "      <th>1663</th>\n",
       "      <td>1711</td>\n",
       "      <td>Midnight in the Garden of Good and Evil (1997)</td>\n",
       "      <td>Comedy|Crime|Drama|Mystery</td>\n",
       "    </tr>\n",
       "  </tbody>\n",
       "</table>\n",
       "</div>"
      ],
      "text/plain": [
       "      movie_id                                            name  \\\n",
       "3444      3513                      Rules of Engagement (2000)   \n",
       "3141      3210             Fast Times at Ridgemont High (1982)   \n",
       "329        333                                Tommy Boy (1995)   \n",
       "543        547                       Surviving the Game (1994)   \n",
       "1708      1762                              Deep Rising (1998)   \n",
       "2711      2780                               Raven, The (1963)   \n",
       "2462      2531        Battle for the Planet of the Apes (1973)   \n",
       "139        141                            Birdcage, The (1996)   \n",
       "3276      3345             Charlie, the Lonesome Cougar (1967)   \n",
       "1663      1711  Midnight in the Garden of Good and Evil (1997)   \n",
       "\n",
       "                        category  \n",
       "3444              Drama|Thriller  \n",
       "3141                      Comedy  \n",
       "329                       Comedy  \n",
       "543    Action|Adventure|Thriller  \n",
       "1708        Action|Horror|Sci-Fi  \n",
       "2711               Comedy|Horror  \n",
       "2462               Action|Sci-Fi  \n",
       "139                       Comedy  \n",
       "3276        Adventure|Children's  \n",
       "1663  Comedy|Crime|Drama|Mystery  "
      ]
     },
     "metadata": {},
     "output_type": "display_data"
    }
   ],
   "source": [
    "testing(bpr_rec, 'BPR', test, test_neg_)"
   ]
  },
  {
   "cell_type": "markdown",
   "metadata": {},
   "source": [
    "### GFM"
   ]
  },
  {
   "cell_type": "code",
   "execution_count": 52,
   "metadata": {},
   "outputs": [
    {
     "name": "stdout",
     "output_type": "stream",
     "text": [
      "MODEL: GFM\n",
      "Metrics HR: 0.41, nDCG: 0.31\n",
      "SIMILARS for Toy Story (1995)\n"
     ]
    },
    {
     "data": {
      "text/html": [
       "<div>\n",
       "<style scoped>\n",
       "    .dataframe tbody tr th:only-of-type {\n",
       "        vertical-align: middle;\n",
       "    }\n",
       "\n",
       "    .dataframe tbody tr th {\n",
       "        vertical-align: top;\n",
       "    }\n",
       "\n",
       "    .dataframe thead th {\n",
       "        text-align: right;\n",
       "    }\n",
       "</style>\n",
       "<table border=\"1\" class=\"dataframe\">\n",
       "  <thead>\n",
       "    <tr style=\"text-align: right;\">\n",
       "      <th></th>\n",
       "      <th>movie_id</th>\n",
       "      <th>name</th>\n",
       "      <th>category</th>\n",
       "    </tr>\n",
       "  </thead>\n",
       "  <tbody>\n",
       "    <tr>\n",
       "      <th>0</th>\n",
       "      <td>1</td>\n",
       "      <td>Toy Story (1995)</td>\n",
       "      <td>Animation|Children's|Comedy</td>\n",
       "    </tr>\n",
       "    <tr>\n",
       "      <th>2327</th>\n",
       "      <td>2396</td>\n",
       "      <td>Shakespeare in Love (1998)</td>\n",
       "      <td>Comedy|Romance</td>\n",
       "    </tr>\n",
       "    <tr>\n",
       "      <th>10</th>\n",
       "      <td>11</td>\n",
       "      <td>American President, The (1995)</td>\n",
       "      <td>Comedy|Drama|Romance</td>\n",
       "    </tr>\n",
       "    <tr>\n",
       "      <th>1058</th>\n",
       "      <td>1073</td>\n",
       "      <td>Willy Wonka and the Chocolate Factory (1971)</td>\n",
       "      <td>Adventure|Children's|Comedy|Fantasy</td>\n",
       "    </tr>\n",
       "    <tr>\n",
       "      <th>591</th>\n",
       "      <td>595</td>\n",
       "      <td>Beauty and the Beast (1991)</td>\n",
       "      <td>Animation|Children's|Musical</td>\n",
       "    </tr>\n",
       "    <tr>\n",
       "      <th>33</th>\n",
       "      <td>34</td>\n",
       "      <td>Babe (1995)</td>\n",
       "      <td>Children's|Comedy|Drama</td>\n",
       "    </tr>\n",
       "    <tr>\n",
       "      <th>1250</th>\n",
       "      <td>1270</td>\n",
       "      <td>Back to the Future (1985)</td>\n",
       "      <td>Comedy|Sci-Fi</td>\n",
       "    </tr>\n",
       "    <tr>\n",
       "      <th>2530</th>\n",
       "      <td>2599</td>\n",
       "      <td>Election (1999)</td>\n",
       "      <td>Comedy</td>\n",
       "    </tr>\n",
       "    <tr>\n",
       "      <th>1388</th>\n",
       "      <td>1411</td>\n",
       "      <td>Hamlet (1996)</td>\n",
       "      <td>Drama</td>\n",
       "    </tr>\n",
       "    <tr>\n",
       "      <th>907</th>\n",
       "      <td>919</td>\n",
       "      <td>Wizard of Oz, The (1939)</td>\n",
       "      <td>Adventure|Children's|Drama|Musical</td>\n",
       "    </tr>\n",
       "  </tbody>\n",
       "</table>\n",
       "</div>"
      ],
      "text/plain": [
       "      movie_id                                          name  \\\n",
       "0            1                              Toy Story (1995)   \n",
       "2327      2396                    Shakespeare in Love (1998)   \n",
       "10          11                American President, The (1995)   \n",
       "1058      1073  Willy Wonka and the Chocolate Factory (1971)   \n",
       "591        595                   Beauty and the Beast (1991)   \n",
       "33          34                                   Babe (1995)   \n",
       "1250      1270                     Back to the Future (1985)   \n",
       "2530      2599                               Election (1999)   \n",
       "1388      1411                                 Hamlet (1996)   \n",
       "907        919                      Wizard of Oz, The (1939)   \n",
       "\n",
       "                                 category  \n",
       "0             Animation|Children's|Comedy  \n",
       "2327                       Comedy|Romance  \n",
       "10                   Comedy|Drama|Romance  \n",
       "1058  Adventure|Children's|Comedy|Fantasy  \n",
       "591          Animation|Children's|Musical  \n",
       "33                Children's|Comedy|Drama  \n",
       "1250                        Comedy|Sci-Fi  \n",
       "2530                               Comedy  \n",
       "1388                                Drama  \n",
       "907    Adventure|Children's|Drama|Musical  "
      ]
     },
     "metadata": {},
     "output_type": "display_data"
    },
    {
     "name": "stdout",
     "output_type": "stream",
     "text": [
      "RECOMMENDATIONS for user 4\n"
     ]
    },
    {
     "data": {
      "text/html": [
       "<div>\n",
       "<style scoped>\n",
       "    .dataframe tbody tr th:only-of-type {\n",
       "        vertical-align: middle;\n",
       "    }\n",
       "\n",
       "    .dataframe tbody tr th {\n",
       "        vertical-align: top;\n",
       "    }\n",
       "\n",
       "    .dataframe thead th {\n",
       "        text-align: right;\n",
       "    }\n",
       "</style>\n",
       "<table border=\"1\" class=\"dataframe\">\n",
       "  <thead>\n",
       "    <tr style=\"text-align: right;\">\n",
       "      <th></th>\n",
       "      <th>movie_id</th>\n",
       "      <th>name</th>\n",
       "      <th>category</th>\n",
       "    </tr>\n",
       "  </thead>\n",
       "  <tbody>\n",
       "    <tr>\n",
       "      <th>1708</th>\n",
       "      <td>1762</td>\n",
       "      <td>Deep Rising (1998)</td>\n",
       "      <td>Action|Horror|Sci-Fi</td>\n",
       "    </tr>\n",
       "    <tr>\n",
       "      <th>3613</th>\n",
       "      <td>3682</td>\n",
       "      <td>Magnum Force (1973)</td>\n",
       "      <td>Western</td>\n",
       "    </tr>\n",
       "    <tr>\n",
       "      <th>73</th>\n",
       "      <td>74</td>\n",
       "      <td>Bed of Roses (1996)</td>\n",
       "      <td>Drama|Romance</td>\n",
       "    </tr>\n",
       "    <tr>\n",
       "      <th>67</th>\n",
       "      <td>68</td>\n",
       "      <td>French Twist (Gazon maudit) (1995)</td>\n",
       "      <td>Comedy|Romance</td>\n",
       "    </tr>\n",
       "    <tr>\n",
       "      <th>1831</th>\n",
       "      <td>1900</td>\n",
       "      <td>Children of Heaven, The (Bacheha-Ye Aseman) (1...</td>\n",
       "      <td>Drama</td>\n",
       "    </tr>\n",
       "    <tr>\n",
       "      <th>2277</th>\n",
       "      <td>2346</td>\n",
       "      <td>Stepford Wives, The (1975)</td>\n",
       "      <td>Sci-Fi|Thriller</td>\n",
       "    </tr>\n",
       "    <tr>\n",
       "      <th>3863</th>\n",
       "      <td>3933</td>\n",
       "      <td>Killer Shrews, The (1959)</td>\n",
       "      <td>Horror|Sci-Fi</td>\n",
       "    </tr>\n",
       "    <tr>\n",
       "      <th>337</th>\n",
       "      <td>341</td>\n",
       "      <td>Double Happiness (1994)</td>\n",
       "      <td>Drama</td>\n",
       "    </tr>\n",
       "    <tr>\n",
       "      <th>1692</th>\n",
       "      <td>1743</td>\n",
       "      <td>Arguing the World (1996)</td>\n",
       "      <td>Documentary</td>\n",
       "    </tr>\n",
       "    <tr>\n",
       "      <th>3872</th>\n",
       "      <td>3942</td>\n",
       "      <td>Sorority House Massacre II (1990)</td>\n",
       "      <td>Horror</td>\n",
       "    </tr>\n",
       "  </tbody>\n",
       "</table>\n",
       "</div>"
      ],
      "text/plain": [
       "      movie_id                                               name  \\\n",
       "1708      1762                                 Deep Rising (1998)   \n",
       "3613      3682                                Magnum Force (1973)   \n",
       "73          74                                Bed of Roses (1996)   \n",
       "67          68                 French Twist (Gazon maudit) (1995)   \n",
       "1831      1900  Children of Heaven, The (Bacheha-Ye Aseman) (1...   \n",
       "2277      2346                         Stepford Wives, The (1975)   \n",
       "3863      3933                          Killer Shrews, The (1959)   \n",
       "337        341                            Double Happiness (1994)   \n",
       "1692      1743                           Arguing the World (1996)   \n",
       "3872      3942                  Sorority House Massacre II (1990)   \n",
       "\n",
       "                  category  \n",
       "1708  Action|Horror|Sci-Fi  \n",
       "3613               Western  \n",
       "73           Drama|Romance  \n",
       "67          Comedy|Romance  \n",
       "1831                 Drama  \n",
       "2277       Sci-Fi|Thriller  \n",
       "3863         Horror|Sci-Fi  \n",
       "337                  Drama  \n",
       "1692           Documentary  \n",
       "3872                Horror  "
      ]
     },
     "metadata": {},
     "output_type": "display_data"
    }
   ],
   "source": [
    "testing(gfm_rec, 'GFM', test, test_neg_)"
   ]
  },
  {
   "cell_type": "markdown",
   "metadata": {},
   "source": [
    "### MLP"
   ]
  },
  {
   "cell_type": "code",
   "execution_count": 54,
   "metadata": {},
   "outputs": [
    {
     "name": "stdout",
     "output_type": "stream",
     "text": [
      "MODEL: MLP\n",
      "Metrics HR: 0.51, nDCG: 0.26\n",
      "SIMILARS for Toy Story (1995)\n"
     ]
    },
    {
     "data": {
      "text/html": [
       "<div>\n",
       "<style scoped>\n",
       "    .dataframe tbody tr th:only-of-type {\n",
       "        vertical-align: middle;\n",
       "    }\n",
       "\n",
       "    .dataframe tbody tr th {\n",
       "        vertical-align: top;\n",
       "    }\n",
       "\n",
       "    .dataframe thead th {\n",
       "        text-align: right;\n",
       "    }\n",
       "</style>\n",
       "<table border=\"1\" class=\"dataframe\">\n",
       "  <thead>\n",
       "    <tr style=\"text-align: right;\">\n",
       "      <th></th>\n",
       "      <th>movie_id</th>\n",
       "      <th>name</th>\n",
       "      <th>category</th>\n",
       "    </tr>\n",
       "  </thead>\n",
       "  <tbody>\n",
       "    <tr>\n",
       "      <th>0</th>\n",
       "      <td>1</td>\n",
       "      <td>Toy Story (1995)</td>\n",
       "      <td>Animation|Children's|Comedy</td>\n",
       "    </tr>\n",
       "    <tr>\n",
       "      <th>2890</th>\n",
       "      <td>2959</td>\n",
       "      <td>Fight Club (1999)</td>\n",
       "      <td>Drama</td>\n",
       "    </tr>\n",
       "    <tr>\n",
       "      <th>912</th>\n",
       "      <td>924</td>\n",
       "      <td>2001: A Space Odyssey (1968)</td>\n",
       "      <td>Drama|Mystery|Sci-Fi|Thriller</td>\n",
       "    </tr>\n",
       "    <tr>\n",
       "      <th>373</th>\n",
       "      <td>377</td>\n",
       "      <td>Speed (1994)</td>\n",
       "      <td>Action|Romance|Thriller</td>\n",
       "    </tr>\n",
       "    <tr>\n",
       "      <th>1335</th>\n",
       "      <td>1356</td>\n",
       "      <td>Star Trek: First Contact (1996)</td>\n",
       "      <td>Action|Adventure|Sci-Fi</td>\n",
       "    </tr>\n",
       "    <tr>\n",
       "      <th>1533</th>\n",
       "      <td>1573</td>\n",
       "      <td>Face/Off (1997)</td>\n",
       "      <td>Action|Sci-Fi|Thriller</td>\n",
       "    </tr>\n",
       "    <tr>\n",
       "      <th>2502</th>\n",
       "      <td>2571</td>\n",
       "      <td>Matrix, The (1999)</td>\n",
       "      <td>Action|Sci-Fi|Thriller</td>\n",
       "    </tr>\n",
       "    <tr>\n",
       "      <th>1656</th>\n",
       "      <td>1704</td>\n",
       "      <td>Good Will Hunting (1997)</td>\n",
       "      <td>Drama</td>\n",
       "    </tr>\n",
       "    <tr>\n",
       "      <th>159</th>\n",
       "      <td>161</td>\n",
       "      <td>Crimson Tide (1995)</td>\n",
       "      <td>Drama|Thriller|War</td>\n",
       "    </tr>\n",
       "    <tr>\n",
       "      <th>1202</th>\n",
       "      <td>1220</td>\n",
       "      <td>Blues Brothers, The (1980)</td>\n",
       "      <td>Action|Comedy|Musical</td>\n",
       "    </tr>\n",
       "  </tbody>\n",
       "</table>\n",
       "</div>"
      ],
      "text/plain": [
       "      movie_id                             name                       category\n",
       "0            1                 Toy Story (1995)    Animation|Children's|Comedy\n",
       "2890      2959                Fight Club (1999)                          Drama\n",
       "912        924     2001: A Space Odyssey (1968)  Drama|Mystery|Sci-Fi|Thriller\n",
       "373        377                     Speed (1994)        Action|Romance|Thriller\n",
       "1335      1356  Star Trek: First Contact (1996)        Action|Adventure|Sci-Fi\n",
       "1533      1573                  Face/Off (1997)         Action|Sci-Fi|Thriller\n",
       "2502      2571               Matrix, The (1999)         Action|Sci-Fi|Thriller\n",
       "1656      1704         Good Will Hunting (1997)                          Drama\n",
       "159        161              Crimson Tide (1995)             Drama|Thriller|War\n",
       "1202      1220       Blues Brothers, The (1980)          Action|Comedy|Musical"
      ]
     },
     "metadata": {},
     "output_type": "display_data"
    },
    {
     "name": "stdout",
     "output_type": "stream",
     "text": [
      "RECOMMENDATIONS for user 4\n"
     ]
    },
    {
     "data": {
      "text/html": [
       "<div>\n",
       "<style scoped>\n",
       "    .dataframe tbody tr th:only-of-type {\n",
       "        vertical-align: middle;\n",
       "    }\n",
       "\n",
       "    .dataframe tbody tr th {\n",
       "        vertical-align: top;\n",
       "    }\n",
       "\n",
       "    .dataframe thead th {\n",
       "        text-align: right;\n",
       "    }\n",
       "</style>\n",
       "<table border=\"1\" class=\"dataframe\">\n",
       "  <thead>\n",
       "    <tr style=\"text-align: right;\">\n",
       "      <th></th>\n",
       "      <th>movie_id</th>\n",
       "      <th>name</th>\n",
       "      <th>category</th>\n",
       "    </tr>\n",
       "  </thead>\n",
       "  <tbody>\n",
       "    <tr>\n",
       "      <th>1671</th>\n",
       "      <td>1720</td>\n",
       "      <td>Time Tracers (1995)</td>\n",
       "      <td>Action|Adventure|Sci-Fi</td>\n",
       "    </tr>\n",
       "    <tr>\n",
       "      <th>3015</th>\n",
       "      <td>3084</td>\n",
       "      <td>Home Page (1999)</td>\n",
       "      <td>Documentary</td>\n",
       "    </tr>\n",
       "    <tr>\n",
       "      <th>955</th>\n",
       "      <td>967</td>\n",
       "      <td>Outlaw, The (1943)</td>\n",
       "      <td>Western</td>\n",
       "    </tr>\n",
       "    <tr>\n",
       "      <th>1278</th>\n",
       "      <td>1298</td>\n",
       "      <td>Pink Floyd - The Wall (1982)</td>\n",
       "      <td>Drama|Musical|War</td>\n",
       "    </tr>\n",
       "    <tr>\n",
       "      <th>765</th>\n",
       "      <td>775</td>\n",
       "      <td>Spirits of the Dead (Tre Passi nel Delirio) (1...</td>\n",
       "      <td>Horror</td>\n",
       "    </tr>\n",
       "    <tr>\n",
       "      <th>1679</th>\n",
       "      <td>1728</td>\n",
       "      <td>Winter Guest, The (1997)</td>\n",
       "      <td>Drama</td>\n",
       "    </tr>\n",
       "    <tr>\n",
       "      <th>71</th>\n",
       "      <td>72</td>\n",
       "      <td>Kicking and Screaming (1995)</td>\n",
       "      <td>Comedy|Drama</td>\n",
       "    </tr>\n",
       "    <tr>\n",
       "      <th>2780</th>\n",
       "      <td>2849</td>\n",
       "      <td>Queens Logic (1991)</td>\n",
       "      <td>Comedy|Drama</td>\n",
       "    </tr>\n",
       "    <tr>\n",
       "      <th>1239</th>\n",
       "      <td>1259</td>\n",
       "      <td>Stand by Me (1986)</td>\n",
       "      <td>Adventure|Comedy|Drama</td>\n",
       "    </tr>\n",
       "    <tr>\n",
       "      <th>3142</th>\n",
       "      <td>3211</td>\n",
       "      <td>Cry in the Dark, A (1988)</td>\n",
       "      <td>Drama</td>\n",
       "    </tr>\n",
       "  </tbody>\n",
       "</table>\n",
       "</div>"
      ],
      "text/plain": [
       "      movie_id                                               name  \\\n",
       "1671      1720                                Time Tracers (1995)   \n",
       "3015      3084                                   Home Page (1999)   \n",
       "955        967                                 Outlaw, The (1943)   \n",
       "1278      1298                       Pink Floyd - The Wall (1982)   \n",
       "765        775  Spirits of the Dead (Tre Passi nel Delirio) (1...   \n",
       "1679      1728                           Winter Guest, The (1997)   \n",
       "71          72                       Kicking and Screaming (1995)   \n",
       "2780      2849                                Queens Logic (1991)   \n",
       "1239      1259                                 Stand by Me (1986)   \n",
       "3142      3211                          Cry in the Dark, A (1988)   \n",
       "\n",
       "                     category  \n",
       "1671  Action|Adventure|Sci-Fi  \n",
       "3015              Documentary  \n",
       "955                   Western  \n",
       "1278        Drama|Musical|War  \n",
       "765                    Horror  \n",
       "1679                    Drama  \n",
       "71               Comedy|Drama  \n",
       "2780             Comedy|Drama  \n",
       "1239   Adventure|Comedy|Drama  \n",
       "3142                    Drama  "
      ]
     },
     "metadata": {},
     "output_type": "display_data"
    }
   ],
   "source": [
    "testing(mlp_rec, 'MLP', test, test_neg_)"
   ]
  },
  {
   "cell_type": "markdown",
   "metadata": {},
   "source": [
    "### NeuCF"
   ]
  },
  {
   "cell_type": "code",
   "execution_count": 55,
   "metadata": {},
   "outputs": [
    {
     "name": "stdout",
     "output_type": "stream",
     "text": [
      "MODEL: NeuCF\n",
      "Metrics HR: 0.41, nDCG: 0.40\n",
      "SIMILARS for Toy Story (1995)\n"
     ]
    },
    {
     "data": {
      "text/html": [
       "<div>\n",
       "<style scoped>\n",
       "    .dataframe tbody tr th:only-of-type {\n",
       "        vertical-align: middle;\n",
       "    }\n",
       "\n",
       "    .dataframe tbody tr th {\n",
       "        vertical-align: top;\n",
       "    }\n",
       "\n",
       "    .dataframe thead th {\n",
       "        text-align: right;\n",
       "    }\n",
       "</style>\n",
       "<table border=\"1\" class=\"dataframe\">\n",
       "  <thead>\n",
       "    <tr style=\"text-align: right;\">\n",
       "      <th></th>\n",
       "      <th>movie_id</th>\n",
       "      <th>name</th>\n",
       "      <th>category</th>\n",
       "    </tr>\n",
       "  </thead>\n",
       "  <tbody>\n",
       "    <tr>\n",
       "      <th>0</th>\n",
       "      <td>1</td>\n",
       "      <td>Toy Story (1995)</td>\n",
       "      <td>Animation|Children's|Comedy</td>\n",
       "    </tr>\n",
       "    <tr>\n",
       "      <th>2327</th>\n",
       "      <td>2396</td>\n",
       "      <td>Shakespeare in Love (1998)</td>\n",
       "      <td>Comedy|Romance</td>\n",
       "    </tr>\n",
       "    <tr>\n",
       "      <th>1250</th>\n",
       "      <td>1270</td>\n",
       "      <td>Back to the Future (1985)</td>\n",
       "      <td>Comedy|Sci-Fi</td>\n",
       "    </tr>\n",
       "    <tr>\n",
       "      <th>591</th>\n",
       "      <td>595</td>\n",
       "      <td>Beauty and the Beast (1991)</td>\n",
       "      <td>Animation|Children's|Musical</td>\n",
       "    </tr>\n",
       "    <tr>\n",
       "      <th>1058</th>\n",
       "      <td>1073</td>\n",
       "      <td>Willy Wonka and the Chocolate Factory (1971)</td>\n",
       "      <td>Adventure|Children's|Comedy|Fantasy</td>\n",
       "    </tr>\n",
       "    <tr>\n",
       "      <th>2502</th>\n",
       "      <td>2571</td>\n",
       "      <td>Matrix, The (1999)</td>\n",
       "      <td>Action|Sci-Fi|Thriller</td>\n",
       "    </tr>\n",
       "    <tr>\n",
       "      <th>1081</th>\n",
       "      <td>1097</td>\n",
       "      <td>E.T. the Extra-Terrestrial (1982)</td>\n",
       "      <td>Children's|Drama|Fantasy|Sci-Fi</td>\n",
       "    </tr>\n",
       "    <tr>\n",
       "      <th>1111</th>\n",
       "      <td>1127</td>\n",
       "      <td>Abyss, The (1989)</td>\n",
       "      <td>Action|Adventure|Sci-Fi|Thriller</td>\n",
       "    </tr>\n",
       "    <tr>\n",
       "      <th>1656</th>\n",
       "      <td>1704</td>\n",
       "      <td>Good Will Hunting (1997)</td>\n",
       "      <td>Drama</td>\n",
       "    </tr>\n",
       "    <tr>\n",
       "      <th>585</th>\n",
       "      <td>589</td>\n",
       "      <td>Terminator 2: Judgment Day (1991)</td>\n",
       "      <td>Action|Sci-Fi|Thriller</td>\n",
       "    </tr>\n",
       "  </tbody>\n",
       "</table>\n",
       "</div>"
      ],
      "text/plain": [
       "      movie_id                                          name  \\\n",
       "0            1                              Toy Story (1995)   \n",
       "2327      2396                    Shakespeare in Love (1998)   \n",
       "1250      1270                     Back to the Future (1985)   \n",
       "591        595                   Beauty and the Beast (1991)   \n",
       "1058      1073  Willy Wonka and the Chocolate Factory (1971)   \n",
       "2502      2571                            Matrix, The (1999)   \n",
       "1081      1097             E.T. the Extra-Terrestrial (1982)   \n",
       "1111      1127                             Abyss, The (1989)   \n",
       "1656      1704                      Good Will Hunting (1997)   \n",
       "585        589             Terminator 2: Judgment Day (1991)   \n",
       "\n",
       "                                 category  \n",
       "0             Animation|Children's|Comedy  \n",
       "2327                       Comedy|Romance  \n",
       "1250                        Comedy|Sci-Fi  \n",
       "591          Animation|Children's|Musical  \n",
       "1058  Adventure|Children's|Comedy|Fantasy  \n",
       "2502               Action|Sci-Fi|Thriller  \n",
       "1081      Children's|Drama|Fantasy|Sci-Fi  \n",
       "1111     Action|Adventure|Sci-Fi|Thriller  \n",
       "1656                                Drama  \n",
       "585                Action|Sci-Fi|Thriller  "
      ]
     },
     "metadata": {},
     "output_type": "display_data"
    },
    {
     "name": "stdout",
     "output_type": "stream",
     "text": [
      "RECOMMENDATIONS for user 4\n"
     ]
    },
    {
     "data": {
      "text/html": [
       "<div>\n",
       "<style scoped>\n",
       "    .dataframe tbody tr th:only-of-type {\n",
       "        vertical-align: middle;\n",
       "    }\n",
       "\n",
       "    .dataframe tbody tr th {\n",
       "        vertical-align: top;\n",
       "    }\n",
       "\n",
       "    .dataframe thead th {\n",
       "        text-align: right;\n",
       "    }\n",
       "</style>\n",
       "<table border=\"1\" class=\"dataframe\">\n",
       "  <thead>\n",
       "    <tr style=\"text-align: right;\">\n",
       "      <th></th>\n",
       "      <th>movie_id</th>\n",
       "      <th>name</th>\n",
       "      <th>category</th>\n",
       "    </tr>\n",
       "  </thead>\n",
       "  <tbody>\n",
       "    <tr>\n",
       "      <th>1708</th>\n",
       "      <td>1762</td>\n",
       "      <td>Deep Rising (1998)</td>\n",
       "      <td>Action|Horror|Sci-Fi</td>\n",
       "    </tr>\n",
       "    <tr>\n",
       "      <th>1831</th>\n",
       "      <td>1900</td>\n",
       "      <td>Children of Heaven, The (Bacheha-Ye Aseman) (1...</td>\n",
       "      <td>Drama</td>\n",
       "    </tr>\n",
       "    <tr>\n",
       "      <th>1692</th>\n",
       "      <td>1743</td>\n",
       "      <td>Arguing the World (1996)</td>\n",
       "      <td>Documentary</td>\n",
       "    </tr>\n",
       "    <tr>\n",
       "      <th>1671</th>\n",
       "      <td>1720</td>\n",
       "      <td>Time Tracers (1995)</td>\n",
       "      <td>Action|Adventure|Sci-Fi</td>\n",
       "    </tr>\n",
       "    <tr>\n",
       "      <th>2277</th>\n",
       "      <td>2346</td>\n",
       "      <td>Stepford Wives, The (1975)</td>\n",
       "      <td>Sci-Fi|Thriller</td>\n",
       "    </tr>\n",
       "    <tr>\n",
       "      <th>73</th>\n",
       "      <td>74</td>\n",
       "      <td>Bed of Roses (1996)</td>\n",
       "      <td>Drama|Romance</td>\n",
       "    </tr>\n",
       "    <tr>\n",
       "      <th>1134</th>\n",
       "      <td>1150</td>\n",
       "      <td>Return of Martin Guerre, The (Retour de Martin...</td>\n",
       "      <td>Drama</td>\n",
       "    </tr>\n",
       "    <tr>\n",
       "      <th>67</th>\n",
       "      <td>68</td>\n",
       "      <td>French Twist (Gazon maudit) (1995)</td>\n",
       "      <td>Comedy|Romance</td>\n",
       "    </tr>\n",
       "    <tr>\n",
       "      <th>3872</th>\n",
       "      <td>3942</td>\n",
       "      <td>Sorority House Massacre II (1990)</td>\n",
       "      <td>Horror</td>\n",
       "    </tr>\n",
       "    <tr>\n",
       "      <th>2711</th>\n",
       "      <td>2780</td>\n",
       "      <td>Raven, The (1963)</td>\n",
       "      <td>Comedy|Horror</td>\n",
       "    </tr>\n",
       "  </tbody>\n",
       "</table>\n",
       "</div>"
      ],
      "text/plain": [
       "      movie_id                                               name  \\\n",
       "1708      1762                                 Deep Rising (1998)   \n",
       "1831      1900  Children of Heaven, The (Bacheha-Ye Aseman) (1...   \n",
       "1692      1743                           Arguing the World (1996)   \n",
       "1671      1720                                Time Tracers (1995)   \n",
       "2277      2346                         Stepford Wives, The (1975)   \n",
       "73          74                                Bed of Roses (1996)   \n",
       "1134      1150  Return of Martin Guerre, The (Retour de Martin...   \n",
       "67          68                 French Twist (Gazon maudit) (1995)   \n",
       "3872      3942                  Sorority House Massacre II (1990)   \n",
       "2711      2780                                  Raven, The (1963)   \n",
       "\n",
       "                     category  \n",
       "1708     Action|Horror|Sci-Fi  \n",
       "1831                    Drama  \n",
       "1692              Documentary  \n",
       "1671  Action|Adventure|Sci-Fi  \n",
       "2277          Sci-Fi|Thriller  \n",
       "73              Drama|Romance  \n",
       "1134                    Drama  \n",
       "67             Comedy|Romance  \n",
       "3872                   Horror  \n",
       "2711            Comedy|Horror  "
      ]
     },
     "metadata": {},
     "output_type": "display_data"
    }
   ],
   "source": [
    "testing(neucf_rec, 'NeuCF', test, test_neg_)"
   ]
  },
  {
   "cell_type": "markdown",
   "metadata": {},
   "source": [
    "У NeuCF лучший nDCG, но я где-то налажала и везде симилары и рекомендации не очень, но я пыталась(.  Мб стоило подобрать другие параметры"
   ]
  },
  {
   "cell_type": "code",
   "execution_count": null,
   "metadata": {},
   "outputs": [],
   "source": []
  }
 ],
 "metadata": {
  "accelerator": "GPU",
  "colab": {
   "name": "hw3.ipynb",
   "provenance": []
  },
  "kernelspec": {
   "display_name": "Python 3",
   "language": "python",
   "name": "python3"
  },
  "language_info": {
   "codemirror_mode": {
    "name": "ipython",
    "version": 3
   },
   "file_extension": ".py",
   "mimetype": "text/x-python",
   "name": "python",
   "nbconvert_exporter": "python",
   "pygments_lexer": "ipython3",
   "version": "3.7.6"
  },
  "widgets": {
   "application/vnd.jupyter.widget-state+json": {
    "03380f23d0bf47349c28aa6d8968be52": {
     "model_module": "@jupyter-widgets/base",
     "model_name": "LayoutModel",
     "state": {
      "_model_module": "@jupyter-widgets/base",
      "_model_module_version": "1.2.0",
      "_model_name": "LayoutModel",
      "_view_count": null,
      "_view_module": "@jupyter-widgets/base",
      "_view_module_version": "1.2.0",
      "_view_name": "LayoutView",
      "align_content": null,
      "align_items": null,
      "align_self": null,
      "border": null,
      "bottom": null,
      "display": null,
      "flex": null,
      "flex_flow": null,
      "grid_area": null,
      "grid_auto_columns": null,
      "grid_auto_flow": null,
      "grid_auto_rows": null,
      "grid_column": null,
      "grid_gap": null,
      "grid_row": null,
      "grid_template_areas": null,
      "grid_template_columns": null,
      "grid_template_rows": null,
      "height": null,
      "justify_content": null,
      "justify_items": null,
      "left": null,
      "margin": null,
      "max_height": null,
      "max_width": null,
      "min_height": null,
      "min_width": null,
      "object_fit": null,
      "object_position": null,
      "order": null,
      "overflow": null,
      "overflow_x": null,
      "overflow_y": null,
      "padding": null,
      "right": null,
      "top": null,
      "visibility": null,
      "width": null
     }
    },
    "151df46de45d4fd1836c8e0ecb8fac70": {
     "model_module": "@jupyter-widgets/base",
     "model_name": "LayoutModel",
     "state": {
      "_model_module": "@jupyter-widgets/base",
      "_model_module_version": "1.2.0",
      "_model_name": "LayoutModel",
      "_view_count": null,
      "_view_module": "@jupyter-widgets/base",
      "_view_module_version": "1.2.0",
      "_view_name": "LayoutView",
      "align_content": null,
      "align_items": null,
      "align_self": null,
      "border": null,
      "bottom": null,
      "display": null,
      "flex": null,
      "flex_flow": null,
      "grid_area": null,
      "grid_auto_columns": null,
      "grid_auto_flow": null,
      "grid_auto_rows": null,
      "grid_column": null,
      "grid_gap": null,
      "grid_row": null,
      "grid_template_areas": null,
      "grid_template_columns": null,
      "grid_template_rows": null,
      "height": null,
      "justify_content": null,
      "justify_items": null,
      "left": null,
      "margin": null,
      "max_height": null,
      "max_width": null,
      "min_height": null,
      "min_width": null,
      "object_fit": null,
      "object_position": null,
      "order": null,
      "overflow": null,
      "overflow_x": null,
      "overflow_y": null,
      "padding": null,
      "right": null,
      "top": null,
      "visibility": null,
      "width": null
     }
    },
    "17525ab0f21d43e29a7063b1eeb9446b": {
     "model_module": "@jupyter-widgets/controls",
     "model_name": "DescriptionStyleModel",
     "state": {
      "_model_module": "@jupyter-widgets/controls",
      "_model_module_version": "1.5.0",
      "_model_name": "DescriptionStyleModel",
      "_view_count": null,
      "_view_module": "@jupyter-widgets/base",
      "_view_module_version": "1.2.0",
      "_view_name": "StyleView",
      "description_width": ""
     }
    },
    "25f432177a574ded81d4cbbacf24908e": {
     "model_module": "@jupyter-widgets/base",
     "model_name": "LayoutModel",
     "state": {
      "_model_module": "@jupyter-widgets/base",
      "_model_module_version": "1.2.0",
      "_model_name": "LayoutModel",
      "_view_count": null,
      "_view_module": "@jupyter-widgets/base",
      "_view_module_version": "1.2.0",
      "_view_name": "LayoutView",
      "align_content": null,
      "align_items": null,
      "align_self": null,
      "border": null,
      "bottom": null,
      "display": null,
      "flex": null,
      "flex_flow": null,
      "grid_area": null,
      "grid_auto_columns": null,
      "grid_auto_flow": null,
      "grid_auto_rows": null,
      "grid_column": null,
      "grid_gap": null,
      "grid_row": null,
      "grid_template_areas": null,
      "grid_template_columns": null,
      "grid_template_rows": null,
      "height": null,
      "justify_content": null,
      "justify_items": null,
      "left": null,
      "margin": null,
      "max_height": null,
      "max_width": null,
      "min_height": null,
      "min_width": null,
      "object_fit": null,
      "object_position": null,
      "order": null,
      "overflow": null,
      "overflow_x": null,
      "overflow_y": null,
      "padding": null,
      "right": null,
      "top": null,
      "visibility": null,
      "width": null
     }
    },
    "272ada6224244632a51e84d0fcd6fd78": {
     "model_module": "@jupyter-widgets/controls",
     "model_name": "ProgressStyleModel",
     "state": {
      "_model_module": "@jupyter-widgets/controls",
      "_model_module_version": "1.5.0",
      "_model_name": "ProgressStyleModel",
      "_view_count": null,
      "_view_module": "@jupyter-widgets/base",
      "_view_module_version": "1.2.0",
      "_view_name": "StyleView",
      "bar_color": null,
      "description_width": "initial"
     }
    },
    "348d9e68ec1e4704a3f63264545021fd": {
     "model_module": "@jupyter-widgets/base",
     "model_name": "LayoutModel",
     "state": {
      "_model_module": "@jupyter-widgets/base",
      "_model_module_version": "1.2.0",
      "_model_name": "LayoutModel",
      "_view_count": null,
      "_view_module": "@jupyter-widgets/base",
      "_view_module_version": "1.2.0",
      "_view_name": "LayoutView",
      "align_content": null,
      "align_items": null,
      "align_self": null,
      "border": null,
      "bottom": null,
      "display": null,
      "flex": null,
      "flex_flow": null,
      "grid_area": null,
      "grid_auto_columns": null,
      "grid_auto_flow": null,
      "grid_auto_rows": null,
      "grid_column": null,
      "grid_gap": null,
      "grid_row": null,
      "grid_template_areas": null,
      "grid_template_columns": null,
      "grid_template_rows": null,
      "height": null,
      "justify_content": null,
      "justify_items": null,
      "left": null,
      "margin": null,
      "max_height": null,
      "max_width": null,
      "min_height": null,
      "min_width": null,
      "object_fit": null,
      "object_position": null,
      "order": null,
      "overflow": null,
      "overflow_x": null,
      "overflow_y": null,
      "padding": null,
      "right": null,
      "top": null,
      "visibility": null,
      "width": null
     }
    },
    "36b5de4caf5b47aca99ca038d5934e81": {
     "model_module": "@jupyter-widgets/controls",
     "model_name": "DescriptionStyleModel",
     "state": {
      "_model_module": "@jupyter-widgets/controls",
      "_model_module_version": "1.5.0",
      "_model_name": "DescriptionStyleModel",
      "_view_count": null,
      "_view_module": "@jupyter-widgets/base",
      "_view_module_version": "1.2.0",
      "_view_name": "StyleView",
      "description_width": ""
     }
    },
    "4ba201df341d48f09bd5c979b139fa80": {
     "model_module": "@jupyter-widgets/controls",
     "model_name": "ProgressStyleModel",
     "state": {
      "_model_module": "@jupyter-widgets/controls",
      "_model_module_version": "1.5.0",
      "_model_name": "ProgressStyleModel",
      "_view_count": null,
      "_view_module": "@jupyter-widgets/base",
      "_view_module_version": "1.2.0",
      "_view_name": "StyleView",
      "bar_color": null,
      "description_width": "initial"
     }
    },
    "54df0a26520c4703a3ed66800f1217c5": {
     "model_module": "@jupyter-widgets/controls",
     "model_name": "HBoxModel",
     "state": {
      "_dom_classes": [],
      "_model_module": "@jupyter-widgets/controls",
      "_model_module_version": "1.5.0",
      "_model_name": "HBoxModel",
      "_view_count": null,
      "_view_module": "@jupyter-widgets/controls",
      "_view_module_version": "1.5.0",
      "_view_name": "HBoxView",
      "box_style": "",
      "children": [
       "IPY_MODEL_b737ac43580e4af5984fde0bd970773e",
       "IPY_MODEL_608066341bc04e2b84362faf1c702620"
      ],
      "layout": "IPY_MODEL_25f432177a574ded81d4cbbacf24908e"
     }
    },
    "5f59d86c8d844e4395a0315ad04fa906": {
     "model_module": "@jupyter-widgets/controls",
     "model_name": "HBoxModel",
     "state": {
      "_dom_classes": [],
      "_model_module": "@jupyter-widgets/controls",
      "_model_module_version": "1.5.0",
      "_model_name": "HBoxModel",
      "_view_count": null,
      "_view_module": "@jupyter-widgets/controls",
      "_view_module_version": "1.5.0",
      "_view_name": "HBoxView",
      "box_style": "",
      "children": [
       "IPY_MODEL_d9e05bc2c3414d28b1141a3036546beb",
       "IPY_MODEL_b6e16105e0ff4ce9ba598d6ce314eede"
      ],
      "layout": "IPY_MODEL_348d9e68ec1e4704a3f63264545021fd"
     }
    },
    "608066341bc04e2b84362faf1c702620": {
     "model_module": "@jupyter-widgets/controls",
     "model_name": "HTMLModel",
     "state": {
      "_dom_classes": [],
      "_model_module": "@jupyter-widgets/controls",
      "_model_module_version": "1.5.0",
      "_model_name": "HTMLModel",
      "_view_count": null,
      "_view_module": "@jupyter-widgets/controls",
      "_view_module_version": "1.5.0",
      "_view_name": "HTMLView",
      "description": "",
      "description_tooltip": null,
      "layout": "IPY_MODEL_03380f23d0bf47349c28aa6d8968be52",
      "placeholder": "​",
      "style": "IPY_MODEL_f15f5cd0e8d64ef5a9ec93bf1608873d",
      "value": " 50/50 [18:26&lt;00:00, 22.14s/it]"
     }
    },
    "a894f813cf4b4de6858dc032f954988d": {
     "model_module": "@jupyter-widgets/controls",
     "model_name": "FloatProgressModel",
     "state": {
      "_dom_classes": [],
      "_model_module": "@jupyter-widgets/controls",
      "_model_module_version": "1.5.0",
      "_model_name": "FloatProgressModel",
      "_view_count": null,
      "_view_module": "@jupyter-widgets/controls",
      "_view_module_version": "1.5.0",
      "_view_name": "ProgressView",
      "bar_style": "success",
      "description": "100%",
      "description_tooltip": null,
      "layout": "IPY_MODEL_c4d45c99798c48a09dcf14896ffcd8bb",
      "max": 50,
      "min": 0,
      "orientation": "horizontal",
      "style": "IPY_MODEL_d1539200d0d141749478ea5686151453",
      "value": 50
     }
    },
    "b6e16105e0ff4ce9ba598d6ce314eede": {
     "model_module": "@jupyter-widgets/controls",
     "model_name": "HTMLModel",
     "state": {
      "_dom_classes": [],
      "_model_module": "@jupyter-widgets/controls",
      "_model_module_version": "1.5.0",
      "_model_name": "HTMLModel",
      "_view_count": null,
      "_view_module": "@jupyter-widgets/controls",
      "_view_module_version": "1.5.0",
      "_view_name": "HTMLView",
      "description": "",
      "description_tooltip": null,
      "layout": "IPY_MODEL_e9d37d4ed3b843dc8041d547a95f613d",
      "placeholder": "​",
      "style": "IPY_MODEL_17525ab0f21d43e29a7063b1eeb9446b",
      "value": " 40/40 [11:56&lt;00:00, 17.91s/it]"
     }
    },
    "b737ac43580e4af5984fde0bd970773e": {
     "model_module": "@jupyter-widgets/controls",
     "model_name": "FloatProgressModel",
     "state": {
      "_dom_classes": [],
      "_model_module": "@jupyter-widgets/controls",
      "_model_module_version": "1.5.0",
      "_model_name": "FloatProgressModel",
      "_view_count": null,
      "_view_module": "@jupyter-widgets/controls",
      "_view_module_version": "1.5.0",
      "_view_name": "ProgressView",
      "bar_style": "success",
      "description": "100%",
      "description_tooltip": null,
      "layout": "IPY_MODEL_151df46de45d4fd1836c8e0ecb8fac70",
      "max": 50,
      "min": 0,
      "orientation": "horizontal",
      "style": "IPY_MODEL_272ada6224244632a51e84d0fcd6fd78",
      "value": 50
     }
    },
    "bae0fbbedf1149e7a25e5c2fc65b0948": {
     "model_module": "@jupyter-widgets/base",
     "model_name": "LayoutModel",
     "state": {
      "_model_module": "@jupyter-widgets/base",
      "_model_module_version": "1.2.0",
      "_model_name": "LayoutModel",
      "_view_count": null,
      "_view_module": "@jupyter-widgets/base",
      "_view_module_version": "1.2.0",
      "_view_name": "LayoutView",
      "align_content": null,
      "align_items": null,
      "align_self": null,
      "border": null,
      "bottom": null,
      "display": null,
      "flex": null,
      "flex_flow": null,
      "grid_area": null,
      "grid_auto_columns": null,
      "grid_auto_flow": null,
      "grid_auto_rows": null,
      "grid_column": null,
      "grid_gap": null,
      "grid_row": null,
      "grid_template_areas": null,
      "grid_template_columns": null,
      "grid_template_rows": null,
      "height": null,
      "justify_content": null,
      "justify_items": null,
      "left": null,
      "margin": null,
      "max_height": null,
      "max_width": null,
      "min_height": null,
      "min_width": null,
      "object_fit": null,
      "object_position": null,
      "order": null,
      "overflow": null,
      "overflow_x": null,
      "overflow_y": null,
      "padding": null,
      "right": null,
      "top": null,
      "visibility": null,
      "width": null
     }
    },
    "bf197c12fed443f480823b7540d79958": {
     "model_module": "@jupyter-widgets/controls",
     "model_name": "HTMLModel",
     "state": {
      "_dom_classes": [],
      "_model_module": "@jupyter-widgets/controls",
      "_model_module_version": "1.5.0",
      "_model_name": "HTMLModel",
      "_view_count": null,
      "_view_module": "@jupyter-widgets/controls",
      "_view_module_version": "1.5.0",
      "_view_name": "HTMLView",
      "description": "",
      "description_tooltip": null,
      "layout": "IPY_MODEL_c3b64bd207cd4f9e99b64ce113de002c",
      "placeholder": "​",
      "style": "IPY_MODEL_36b5de4caf5b47aca99ca038d5934e81",
      "value": " 50/50 [13:57&lt;00:00, 16.75s/it]"
     }
    },
    "c3b64bd207cd4f9e99b64ce113de002c": {
     "model_module": "@jupyter-widgets/base",
     "model_name": "LayoutModel",
     "state": {
      "_model_module": "@jupyter-widgets/base",
      "_model_module_version": "1.2.0",
      "_model_name": "LayoutModel",
      "_view_count": null,
      "_view_module": "@jupyter-widgets/base",
      "_view_module_version": "1.2.0",
      "_view_name": "LayoutView",
      "align_content": null,
      "align_items": null,
      "align_self": null,
      "border": null,
      "bottom": null,
      "display": null,
      "flex": null,
      "flex_flow": null,
      "grid_area": null,
      "grid_auto_columns": null,
      "grid_auto_flow": null,
      "grid_auto_rows": null,
      "grid_column": null,
      "grid_gap": null,
      "grid_row": null,
      "grid_template_areas": null,
      "grid_template_columns": null,
      "grid_template_rows": null,
      "height": null,
      "justify_content": null,
      "justify_items": null,
      "left": null,
      "margin": null,
      "max_height": null,
      "max_width": null,
      "min_height": null,
      "min_width": null,
      "object_fit": null,
      "object_position": null,
      "order": null,
      "overflow": null,
      "overflow_x": null,
      "overflow_y": null,
      "padding": null,
      "right": null,
      "top": null,
      "visibility": null,
      "width": null
     }
    },
    "c4d45c99798c48a09dcf14896ffcd8bb": {
     "model_module": "@jupyter-widgets/base",
     "model_name": "LayoutModel",
     "state": {
      "_model_module": "@jupyter-widgets/base",
      "_model_module_version": "1.2.0",
      "_model_name": "LayoutModel",
      "_view_count": null,
      "_view_module": "@jupyter-widgets/base",
      "_view_module_version": "1.2.0",
      "_view_name": "LayoutView",
      "align_content": null,
      "align_items": null,
      "align_self": null,
      "border": null,
      "bottom": null,
      "display": null,
      "flex": null,
      "flex_flow": null,
      "grid_area": null,
      "grid_auto_columns": null,
      "grid_auto_flow": null,
      "grid_auto_rows": null,
      "grid_column": null,
      "grid_gap": null,
      "grid_row": null,
      "grid_template_areas": null,
      "grid_template_columns": null,
      "grid_template_rows": null,
      "height": null,
      "justify_content": null,
      "justify_items": null,
      "left": null,
      "margin": null,
      "max_height": null,
      "max_width": null,
      "min_height": null,
      "min_width": null,
      "object_fit": null,
      "object_position": null,
      "order": null,
      "overflow": null,
      "overflow_x": null,
      "overflow_y": null,
      "padding": null,
      "right": null,
      "top": null,
      "visibility": null,
      "width": null
     }
    },
    "c8f55386fabf44eaafd76f2e1fc3244a": {
     "model_module": "@jupyter-widgets/controls",
     "model_name": "HBoxModel",
     "state": {
      "_dom_classes": [],
      "_model_module": "@jupyter-widgets/controls",
      "_model_module_version": "1.5.0",
      "_model_name": "HBoxModel",
      "_view_count": null,
      "_view_module": "@jupyter-widgets/controls",
      "_view_module_version": "1.5.0",
      "_view_name": "HBoxView",
      "box_style": "",
      "children": [
       "IPY_MODEL_a894f813cf4b4de6858dc032f954988d",
       "IPY_MODEL_bf197c12fed443f480823b7540d79958"
      ],
      "layout": "IPY_MODEL_ec8ec6c9abfb44aa9567527276e62ef2"
     }
    },
    "d1539200d0d141749478ea5686151453": {
     "model_module": "@jupyter-widgets/controls",
     "model_name": "ProgressStyleModel",
     "state": {
      "_model_module": "@jupyter-widgets/controls",
      "_model_module_version": "1.5.0",
      "_model_name": "ProgressStyleModel",
      "_view_count": null,
      "_view_module": "@jupyter-widgets/base",
      "_view_module_version": "1.2.0",
      "_view_name": "StyleView",
      "bar_color": null,
      "description_width": "initial"
     }
    },
    "d9e05bc2c3414d28b1141a3036546beb": {
     "model_module": "@jupyter-widgets/controls",
     "model_name": "FloatProgressModel",
     "state": {
      "_dom_classes": [],
      "_model_module": "@jupyter-widgets/controls",
      "_model_module_version": "1.5.0",
      "_model_name": "FloatProgressModel",
      "_view_count": null,
      "_view_module": "@jupyter-widgets/controls",
      "_view_module_version": "1.5.0",
      "_view_name": "ProgressView",
      "bar_style": "success",
      "description": "100%",
      "description_tooltip": null,
      "layout": "IPY_MODEL_bae0fbbedf1149e7a25e5c2fc65b0948",
      "max": 40,
      "min": 0,
      "orientation": "horizontal",
      "style": "IPY_MODEL_4ba201df341d48f09bd5c979b139fa80",
      "value": 40
     }
    },
    "e9d37d4ed3b843dc8041d547a95f613d": {
     "model_module": "@jupyter-widgets/base",
     "model_name": "LayoutModel",
     "state": {
      "_model_module": "@jupyter-widgets/base",
      "_model_module_version": "1.2.0",
      "_model_name": "LayoutModel",
      "_view_count": null,
      "_view_module": "@jupyter-widgets/base",
      "_view_module_version": "1.2.0",
      "_view_name": "LayoutView",
      "align_content": null,
      "align_items": null,
      "align_self": null,
      "border": null,
      "bottom": null,
      "display": null,
      "flex": null,
      "flex_flow": null,
      "grid_area": null,
      "grid_auto_columns": null,
      "grid_auto_flow": null,
      "grid_auto_rows": null,
      "grid_column": null,
      "grid_gap": null,
      "grid_row": null,
      "grid_template_areas": null,
      "grid_template_columns": null,
      "grid_template_rows": null,
      "height": null,
      "justify_content": null,
      "justify_items": null,
      "left": null,
      "margin": null,
      "max_height": null,
      "max_width": null,
      "min_height": null,
      "min_width": null,
      "object_fit": null,
      "object_position": null,
      "order": null,
      "overflow": null,
      "overflow_x": null,
      "overflow_y": null,
      "padding": null,
      "right": null,
      "top": null,
      "visibility": null,
      "width": null
     }
    },
    "ec8ec6c9abfb44aa9567527276e62ef2": {
     "model_module": "@jupyter-widgets/base",
     "model_name": "LayoutModel",
     "state": {
      "_model_module": "@jupyter-widgets/base",
      "_model_module_version": "1.2.0",
      "_model_name": "LayoutModel",
      "_view_count": null,
      "_view_module": "@jupyter-widgets/base",
      "_view_module_version": "1.2.0",
      "_view_name": "LayoutView",
      "align_content": null,
      "align_items": null,
      "align_self": null,
      "border": null,
      "bottom": null,
      "display": null,
      "flex": null,
      "flex_flow": null,
      "grid_area": null,
      "grid_auto_columns": null,
      "grid_auto_flow": null,
      "grid_auto_rows": null,
      "grid_column": null,
      "grid_gap": null,
      "grid_row": null,
      "grid_template_areas": null,
      "grid_template_columns": null,
      "grid_template_rows": null,
      "height": null,
      "justify_content": null,
      "justify_items": null,
      "left": null,
      "margin": null,
      "max_height": null,
      "max_width": null,
      "min_height": null,
      "min_width": null,
      "object_fit": null,
      "object_position": null,
      "order": null,
      "overflow": null,
      "overflow_x": null,
      "overflow_y": null,
      "padding": null,
      "right": null,
      "top": null,
      "visibility": null,
      "width": null
     }
    },
    "f15f5cd0e8d64ef5a9ec93bf1608873d": {
     "model_module": "@jupyter-widgets/controls",
     "model_name": "DescriptionStyleModel",
     "state": {
      "_model_module": "@jupyter-widgets/controls",
      "_model_module_version": "1.5.0",
      "_model_name": "DescriptionStyleModel",
      "_view_count": null,
      "_view_module": "@jupyter-widgets/base",
      "_view_module_version": "1.2.0",
      "_view_name": "StyleView",
      "description_width": ""
     }
    }
   }
  }
 },
 "nbformat": 4,
 "nbformat_minor": 1
}
