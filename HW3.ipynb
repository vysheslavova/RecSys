{
 "cells": [
  {
   "cell_type": "code",
   "execution_count": 2,
   "metadata": {},
   "outputs": [],
   "source": [
    "import torch\n",
    "import numpy as np\n",
    "import scipy.sparse as sp\n",
    "import pickle\n",
    "import pandas as pd\n",
    "from models import GFM, MLP, NeuCF, Recommender\n",
    "from matplotlib import pyplot as plt\n",
    "device = torch.device('cuda' if torch.cuda.is_available() else 'cpu')"
   ]
  },
  {
   "cell_type": "markdown",
   "metadata": {},
   "source": [
    "# Functions"
   ]
  },
  {
   "cell_type": "code",
   "execution_count": 3,
   "metadata": {},
   "outputs": [],
   "source": [
    "def HitRatio(predicted, real, k):\n",
    "    for item in predicted[:k]:\n",
    "        if item == real:\n",
    "            return 1\n",
    "    return 0\n",
    "\n",
    "\n",
    "def nDCG(predicted, real, k):\n",
    "    for i in range(len(predicted[:k])):\n",
    "        item = predicted[i]\n",
    "        if item == real:\n",
    "            return np.log(2) / np.log(i+2)\n",
    "    return 0\n",
    "\n",
    "def testing(model, name, data, negative, all_negative, gold_recs):\n",
    "    print('MODEL:', name)\n",
    "    hr, ndcg = evaluate(model, negative)\n",
    "    print(f'Metrics HR: {hr:.2f}, nDCG: {ndcg:.2f}')\n",
    "    movie_id = 1\n",
    "    movie = movie_info[movie_info['movie_id'] == movie_id].to_dict('records')[0]\n",
    "    print(f'SIMILARS for {movie[\"name\"]}')\n",
    "    items = model.similar_items(movie_id)\n",
    "    df = pd.DataFrame()\n",
    "    for item in items:\n",
    "        df = df.append(movie_info[movie_info['movie_id'] == item])\n",
    "    print(df.to_string())\n",
    "    user_id = 4\n",
    "    print(f'RECOMMENDATIONS for user {user_id}')\n",
    "    recs = model.recommend(user_id, all_negative)\n",
    "    df = pd.DataFrame()\n",
    "    for item in recs:\n",
    "        df = df.append(movie_info[movie_info['movie_id'] == item])\n",
    "    print(df.to_string())\n",
    "#     intersection = set(df['movie_id'].values) & set(gold_recs)\n",
    "#     print(f'True {len(intersection)}: {intersection}')\n",
    "\n",
    "\n",
    "def evaluate(model, negative, k=10):\n",
    "    hrs, ndcgs = [], []\n",
    "    for u in negative.keys():\n",
    "        user_vect = np.ones(100) * u\n",
    "        try:\n",
    "            pred = model.predict(user_vect, negative[u]).cpu().detach().numpy()\n",
    "        except AttributeError:\n",
    "            pred = model.predict(user_vect, negative[u])\n",
    "        rank = np.array(negative[u])[np.argsort(pred)[::-1]]\n",
    "        y = negative[u][0]\n",
    "        hr = HitRatio(rank, y, k)\n",
    "        ndcg = nDCG(rank, y, k)\n",
    "        hrs.append(hr)\n",
    "        ndcgs.append(ndcg)\n",
    "    return sum(hrs) / len(hrs), np.mean(ndcgs)\n",
    "\n",
    "\n",
    "def load(name):\n",
    "    with open('data/' + name + '.pkl', 'rb') as f:\n",
    "        return pickle.load(f)\n",
    "    \n",
    "get_user_history = lambda user_id, implicit_ratings : [' '.join(movie_info[movie_info[\"movie_id\"] == x][['movie_id', 'name', 'category']].values[0].astype(str).tolist())\n",
    "                                            for x in implicit_ratings[implicit_ratings[\"user_id\"] == user_id][\"movie_id\"]]"
   ]
  },
  {
   "cell_type": "markdown",
   "metadata": {},
   "source": [
    "# 1. Dataset"
   ]
  },
  {
   "cell_type": "markdown",
   "metadata": {},
   "source": [
    "Взяла датасет из первой домашки (movielens1m), так как его часто используют, и он небольшой.\n",
    "В качестве test использовался последний фильм, который посмотрел пользователь."
   ]
  },
  {
   "cell_type": "code",
   "execution_count": 4,
   "metadata": {},
   "outputs": [],
   "source": [
    "train = sp.load_npz('data/train_csr.npz')\n",
    "test = load('test')\n",
    "negative = load('test_neg')\n",
    "movie_info = pd.read_csv('data/movies.dat', delimiter='::', header=None,\n",
    "                         names=['movie_id', 'name', 'category'], engine='python')\n",
    "ratings = pd.read_csv('data/ratings.dat', delimiter='::', header=None,\n",
    "                      names=['user_id', 'movie_id', 'rating', 'timestamp'],\n",
    "                      usecols=['user_id', 'movie_id', 'rating'], engine='python')\n",
    "implicit_ratings = ratings.loc[(ratings['rating'] >= 4)]\n",
    "users = implicit_ratings[\"user_id\"]\n",
    "movies = implicit_ratings[\"movie_id\"]\n",
    "positive = [train[i].indices for i in range(train.shape[0])]\n",
    "all_negative = [np.setdiff1d(np.arange(train.shape[1]), pos) for pos in positive]"
   ]
  },
  {
   "cell_type": "markdown",
   "metadata": {},
   "source": [
    "# Testing"
   ]
  },
  {
   "cell_type": "markdown",
   "metadata": {},
   "source": [
    "Будем смотреть симилары для Toy Story и рекомендации для пользователя 4"
   ]
  },
  {
   "cell_type": "markdown",
   "metadata": {},
   "source": [
    "История просмотра для пользователя 4:"
   ]
  },
  {
   "cell_type": "code",
   "execution_count": 13,
   "metadata": {},
   "outputs": [
    {
     "data": {
      "text/plain": [
       "['3468 Hustler, The (1961) Drama',\n",
       " '2951 Fistful of Dollars, A (1964) Action|Western',\n",
       " '1214 Alien (1979) Action|Horror|Sci-Fi|Thriller',\n",
       " '1036 Die Hard (1988) Action|Thriller',\n",
       " '260 Star Wars: Episode IV - A New Hope (1977) Action|Adventure|Fantasy|Sci-Fi',\n",
       " '2028 Saving Private Ryan (1998) Action|Drama|War',\n",
       " '480 Jurassic Park (1993) Action|Adventure|Sci-Fi',\n",
       " '1198 Raiders of the Lost Ark (1981) Action|Adventure',\n",
       " '1954 Rocky (1976) Action|Drama',\n",
       " \"1097 E.T. the Extra-Terrestrial (1982) Children's|Drama|Fantasy|Sci-Fi\",\n",
       " '3418 Thelma & Louise (1991) Action|Drama',\n",
       " '3702 Mad Max (1979) Action|Sci-Fi',\n",
       " '2366 King Kong (1933) Action|Adventure|Horror',\n",
       " '1387 Jaws (1975) Action|Horror',\n",
       " '1201 Good, The Bad and The Ugly, The (1966) Action|Western',\n",
       " '2692 Run Lola Run (Lola rennt) (1998) Action|Crime|Romance',\n",
       " '2947 Goldfinger (1964) Action',\n",
       " '1240 Terminator, The (1984) Action|Sci-Fi|Thriller']"
      ]
     },
     "execution_count": 13,
     "metadata": {},
     "output_type": "execute_result"
    }
   ],
   "source": [
    "get_user_history(4, implicit_ratings)"
   ]
  },
  {
   "cell_type": "code",
   "execution_count": 5,
   "metadata": {},
   "outputs": [],
   "source": [
    "gold = [3468, 2951, 1214, 1036, 260, 2028, 480, 1198, 1954, 1097, 3418, 3418, 2366, 1387, 1201, 2692, 2947, 1240]"
   ]
  },
  {
   "cell_type": "markdown",
   "metadata": {},
   "source": [
    "# 2. BPR"
   ]
  },
  {
   "cell_type": "code",
   "execution_count": 5,
   "metadata": {},
   "outputs": [],
   "source": [
    "bpr_params = {\n",
    "        'n_components': 64,\n",
    "        'lr': 1e-3,\n",
    "        'schedule': 'adagrad',\n",
    "        'alpha': 1e-3,\n",
    "        'epochs': 50\n",
    "    }"
   ]
  },
  {
   "cell_type": "code",
   "execution_count": 17,
   "metadata": {},
   "outputs": [
    {
     "name": "stdout",
     "output_type": "stream",
     "text": [
      "Fit\n",
      "Testing\n",
      "MODEL: BPR\n",
      "Metrics HR: 0.39, nDCG: 0.27\n",
      "SIMILARS for Toy Story (1995)\n",
      "      movie_id                                               name                        category\n",
      "0            1                                   Toy Story (1995)     Animation|Children's|Comedy\n",
      "352        356                                Forrest Gump (1994)              Comedy|Romance|War\n",
      "1936      2005                                Goonies, The (1985)    Adventure|Children's|Fantasy\n",
      "360        364                              Lion King, The (1994)    Animation|Children's|Musical\n",
      "363        367                                   Mask, The (1994)            Comedy|Crime|Fantasy\n",
      "1375      1396                                    Sneakers (1992)              Crime|Drama|Sci-Fi\n",
      "2647      2716                                Ghostbusters (1984)                   Comedy|Horror\n",
      "1539      1580                                Men in Black (1997)  Action|Adventure|Comedy|Sci-Fi\n",
      "1543      1584                                     Contact (1997)                    Drama|Sci-Fi\n",
      "1482      1517  Austin Powers: International Man of Mystery (1...                          Comedy\n",
      "RECOMMENDATIONS for user 4\n",
      "      movie_id                                               name                             category\n",
      "2502      2571                                 Matrix, The (1999)               Action|Sci-Fi|Thriller\n",
      "1192      1210  Star Wars: Episode VI - Return of the Jedi (1983)  Action|Adventure|Romance|Sci-Fi|War\n",
      "585        589                  Terminator 2: Judgment Day (1991)               Action|Sci-Fi|Thriller\n",
      "1178      1196  Star Wars: Episode V - The Empire Strikes Back...    Action|Adventure|Drama|Sci-Fi|War\n",
      "108        110                                  Braveheart (1995)                     Action|Drama|War\n",
      "1539      1580                                Men in Black (1997)       Action|Adventure|Comedy|Sci-Fi\n",
      "1271      1291          Indiana Jones and the Last Crusade (1989)                     Action|Adventure\n",
      "453        457                               Fugitive, The (1993)                      Action|Thriller\n",
      "770        780                      Independence Day (ID4) (1996)                    Action|Sci-Fi|War\n",
      "2847      2916                                Total Recall (1990)     Action|Adventure|Sci-Fi|Thriller\n"
     ]
    }
   ],
   "source": [
    "from lightfm import LightFM\n",
    "bpr =  LightFM(loss='bpr',\n",
    "                  no_components=bpr_params['n_components'],\n",
    "                  learning_rate=bpr_params['lr'],\n",
    "                  learning_schedule=bpr_params['schedule'],\n",
    "                  user_alpha=bpr_params['alpha'],\n",
    "                  item_alpha=bpr_params['alpha'])\n",
    "\n",
    "recommender = Recommender(bpr, 'BPR')\n",
    "print('Fit')\n",
    "recommender.fit(train, bpr_params, plot=False)\n",
    "print('Testing')\n",
    "testing(recommender, 'BPR', train, negative, all_negative, gold)"
   ]
  },
  {
   "cell_type": "markdown",
   "metadata": {},
   "source": [
    "Симилары хорошие, рекомендации тоже, метрики не очень."
   ]
  },
  {
   "cell_type": "markdown",
   "metadata": {},
   "source": [
    "# 3. NCF"
   ]
  },
  {
   "cell_type": "markdown",
   "metadata": {},
   "source": [
    "* https://arxiv.org/pdf/1708.05031.pdf\n",
    "* Модели лежат в models.py"
   ]
  },
  {
   "cell_type": "code",
   "execution_count": 17,
   "metadata": {},
   "outputs": [],
   "source": [
    "def get_data_ncf(data):\n",
    "    new_data = []\n",
    "    for i, user in enumerate(data):\n",
    "        positive = [(i, pos, 1) for pos in user.indices]\n",
    "        if len(positive) > 0:\n",
    "            negative = np.setdiff1d(np.arange(data.shape[1]), user.indices)\n",
    "            negative = np.random.choice(negative, len(positive))\n",
    "            negative = [(i, neg, 0) for neg in negative]\n",
    "            result = np.vstack((positive, negative))\n",
    "            new_data.append(result)\n",
    "    return np.vstack(new_data)"
   ]
  },
  {
   "cell_type": "markdown",
   "metadata": {},
   "source": [
    "### GFM"
   ]
  },
  {
   "cell_type": "code",
   "execution_count": 10,
   "metadata": {},
   "outputs": [],
   "source": [
    "gfm_params = {\n",
    "        'batch_size': 256,\n",
    "        'dim': 64,\n",
    "        'epochs': 50,\n",
    "        'lr': 5e-3\n",
    "}"
   ]
  },
  {
   "cell_type": "code",
   "execution_count": 11,
   "metadata": {},
   "outputs": [],
   "source": [
    "train_data = get_data_ncf(train)"
   ]
  },
  {
   "cell_type": "code",
   "execution_count": 12,
   "metadata": {},
   "outputs": [
    {
     "data": {
      "image/png": "[encoded data removed]",
      "text/plain": [
       "<Figure size 432x288 with 1 Axes>"
      ]
     },
     "metadata": {
      "needs_background": "light"
     },
     "output_type": "display_data"
    }
   ],
   "source": [
    "gfm = GFM(max(users) + 1, max(movies) + 1, gfm_params['dim']).to(device)\n",
    "gfm.load_state_dict((torch.load('models/gfm.pcl', map_location=torch.device('cpu'))))\n",
    "recommender = Recommender(gfm, 'GFM')\n",
    "# print('Fit')\n",
    "# recommender.fit(train_data, gfm_params, plot=True)\n",
    "df = pd.read_csv('plots/gfm.csv')\n",
    "plt.plot(df['Step'], df['GFM-3 - loss'])\n",
    "plt.title('Train loss')\n",
    "plt.show()"
   ]
  },
  {
   "cell_type": "code",
   "execution_count": 13,
   "metadata": {},
   "outputs": [
    {
     "name": "stdout",
     "output_type": "stream",
     "text": [
      "Testing\n",
      "MODEL: GFM\n",
      "Metrics HR: 0.46, nDCG: 0.44\n",
      "SIMILARS for Toy Story (1995)\n",
      "      movie_id                                               name                         category\n",
      "0            1                                   Toy Story (1995)      Animation|Children's|Comedy\n",
      "3045      3114                                 Toy Story 2 (1999)      Animation|Children's|Comedy\n",
      "547        551             Nightmare Before Christmas, The (1993)        Children's|Comedy|Musical\n",
      "1262      1282                                    Fantasia (1940)     Animation|Children's|Musical\n",
      "1250      1270                          Back to the Future (1985)                    Comedy|Sci-Fi\n",
      "257        260          Star Wars: Episode IV - A New Hope (1977)  Action|Adventure|Fantasy|Sci-Fi\n",
      "2647      2716                                Ghostbusters (1984)                    Comedy|Horror\n",
      "711        720  Wallace & Gromit: The Best of Aardman Animatio...                        Animation\n",
      "1220      1240                             Terminator, The (1984)           Action|Sci-Fi|Thriller\n",
      "1207      1225                                     Amadeus (1984)                            Drama\n",
      "RECOMMENDATIONS for user 4\n",
      "      movie_id                                     name                         category\n",
      "1881      1950          In the Heat of the Night (1967)                    Drama|Mystery\n",
      "2091      2160                   Rosemary's Baby (1968)                  Horror|Thriller\n",
      "2199      2268                   Few Good Men, A (1992)                      Crime|Drama\n",
      "2179      2248                   Say Anything... (1989)             Comedy|Drama|Romance\n",
      "436        440                              Dave (1993)                   Comedy|Romance\n",
      "2139      2208                Lady Vanishes, The (1938)  Comedy|Mystery|Romance|Thriller\n",
      "3474      3543                             Diner (1982)                     Comedy|Drama\n",
      "2134      2203                 Shadow of a Doubt (1943)               Film-Noir|Thriller\n",
      "3476      3545                           Cabaret (1972)                      Musical|War\n",
      "3477      3546  What Ever Happened to Baby Jane? (1962)                   Drama|Thriller\n"
     ]
    }
   ],
   "source": [
    "print('Testing')\n",
    "testing(recommender, 'GFM', train, negative, all_negative, gold)"
   ]
  },
  {
   "cell_type": "markdown",
   "metadata": {},
   "source": [
    "Метрики получше, рекомендации похуже чем у BPR"
   ]
  },
  {
   "cell_type": "markdown",
   "metadata": {},
   "source": [
    "### MLP"
   ]
  },
  {
   "cell_type": "code",
   "execution_count": 7,
   "metadata": {},
   "outputs": [],
   "source": [
    "mlp_params = {\n",
    "        'batch_size': 256,\n",
    "        'dim': 64,\n",
    "        'epochs': 50,\n",
    "        'lr': 1e-3, \n",
    "        'hidden': [32, 32, 32]\n",
    "}"
   ]
  },
  {
   "cell_type": "code",
   "execution_count": 8,
   "metadata": {},
   "outputs": [
    {
     "data": {
      "image/png": "[encoded data removed]",
      "text/plain": [
       "<Figure size 432x288 with 1 Axes>"
      ]
     },
     "metadata": {
      "needs_background": "light"
     },
     "output_type": "display_data"
    }
   ],
   "source": [
    "mlp = MLP(max(users) + 1, max(movies) + 1, mlp_params['dim'], \n",
    "          hidden_dim=mlp_params['hidden']).to(device)\n",
    "mlp.load_state_dict((torch.load('models/mlp.pcl', map_location=torch.device('cpu'))))\n",
    "recommender = Recommender(mlp, 'MLP')\n",
    "# print('Fit')\n",
    "# recommender.fit(train_data, mlp_params, plot=True)\n",
    "df = pd.read_csv('plots/mlp.csv')\n",
    "plt.plot(df['Step'], df['MLP-2 - loss'])\n",
    "plt.title('Train loss')\n",
    "plt.show()"
   ]
  },
  {
   "cell_type": "code",
   "execution_count": 9,
   "metadata": {},
   "outputs": [
    {
     "name": "stdout",
     "output_type": "stream",
     "text": [
      "Testing\n",
      "MODEL: MLP\n",
      "Metrics HR: 0.60, nDCG: 0.32\n",
      "SIMILARS for Toy Story (1995)\n",
      "      movie_id                                 name                     category\n",
      "0            1                     Toy Story (1995)  Animation|Children's|Comedy\n",
      "1239      1259                   Stand by Me (1986)       Adventure|Comedy|Drama\n",
      "3684      3753                  Patriot, The (2000)             Action|Drama|War\n",
      "2647      2716                  Ghostbusters (1984)                Comedy|Horror\n",
      "352        356                  Forrest Gump (1994)           Comedy|Romance|War\n",
      "1245      1265                 Groundhog Day (1993)               Comedy|Romance\n",
      "2252      2321                 Pleasantville (1998)                       Comedy\n",
      "3078      3147               Green Mile, The (1999)               Drama|Thriller\n",
      "2637      2706                  American Pie (1999)                       Comedy\n",
      "1854      1923  There's Something About Mary (1998)                       Comedy\n",
      "RECOMMENDATIONS for user 4\n",
      "      movie_id                                               name                             category\n",
      "537        541                                Blade Runner (1982)                     Film-Noir|Sci-Fi\n",
      "1178      1196  Star Wars: Episode V - The Empire Strikes Back...    Action|Adventure|Drama|Sci-Fi|War\n",
      "1182      1200                                      Aliens (1986)           Action|Sci-Fi|Thriller|War\n",
      "2502      2571                                 Matrix, The (1999)               Action|Sci-Fi|Thriller\n",
      "585        589                  Terminator 2: Judgment Day (1991)               Action|Sci-Fi|Thriller\n",
      "49          50                         Usual Suspects, The (1995)                       Crime|Thriller\n",
      "1203      1221                     Godfather: Part II, The (1974)                   Action|Crime|Drama\n",
      "2125      2194                           Untouchables, The (1987)                   Action|Crime|Drama\n",
      "1192      1210  Star Wars: Episode VI - Return of the Jedi (1983)  Action|Adventure|Romance|Sci-Fi|War\n",
      "1220      1240                             Terminator, The (1984)               Action|Sci-Fi|Thriller\n"
     ]
    }
   ],
   "source": [
    "print('Testing')\n",
    "testing(recommender, 'MLP', train, negative, all_negative, gold)"
   ]
  },
  {
   "cell_type": "markdown",
   "metadata": {},
   "source": [
    "nDCG не сильно лучше чем у BPR. Cимилары хуже чем у GFM, но рекомендации лучше."
   ]
  },
  {
   "cell_type": "markdown",
   "metadata": {},
   "source": [
    "### NeuCF"
   ]
  },
  {
   "cell_type": "code",
   "execution_count": 14,
   "metadata": {},
   "outputs": [],
   "source": [
    "neucf_params = {\n",
    "    'epochs': 50, \n",
    "    'lr': 1e-3, \n",
    "    'batch_size': 256\n",
    "}"
   ]
  },
  {
   "cell_type": "code",
   "execution_count": 15,
   "metadata": {},
   "outputs": [
    {
     "data": {
      "image/png": "[encoded data removed]",
      "text/plain": [
       "<Figure size 432x288 with 1 Axes>"
      ]
     },
     "metadata": {
      "needs_background": "light"
     },
     "output_type": "display_data"
    }
   ],
   "source": [
    "neucf = NeuCF(max(users) + 1, max(movies) + 1, gfm_params['dim'], mlp_params['dim'], \n",
    "              mlp_params['hidden'], 'models/gfm.pcl', 'models/mlp.pcl').to(device)\n",
    "neucf.load_state_dict((torch.load('models/neucf.pcl', map_location=torch.device('cpu'))))\n",
    "recommender = Recommender(neucf, 'NeuCF')\n",
    "# print('Fit')\n",
    "# recommender.fit(train_data, neucf_params, plot=True)\n",
    "df = pd.read_csv('plots/neucf.csv')\n",
    "plt.plot(df['Step'], df['NeuCF - loss'])\n",
    "plt.title('Train loss')\n",
    "plt.show()"
   ]
  },
  {
   "cell_type": "code",
   "execution_count": 16,
   "metadata": {},
   "outputs": [
    {
     "name": "stdout",
     "output_type": "stream",
     "text": [
      "Testing\n",
      "MODEL: NeuCF\n",
      "Metrics HR: 0.55, nDCG: 0.47\n",
      "SIMILARS for Toy Story (1995)\n",
      "      movie_id                                       name                         category\n",
      "0            1                           Toy Story (1995)      Animation|Children's|Comedy\n",
      "2647      2716                        Ghostbusters (1984)                    Comedy|Horror\n",
      "1250      1270                  Back to the Future (1985)                    Comedy|Sci-Fi\n",
      "547        551     Nightmare Before Christmas, The (1993)        Children's|Comedy|Musical\n",
      "257        260  Star Wars: Episode IV - A New Hope (1977)  Action|Adventure|Fantasy|Sci-Fi\n",
      "1239      1259                         Stand by Me (1986)           Adventure|Comedy|Drama\n",
      "1593      1639                         Chasing Amy (1997)                    Drama|Romance\n",
      "3045      3114                         Toy Story 2 (1999)      Animation|Children's|Comedy\n",
      "2593      2662              War of the Worlds, The (1953)                Action|Sci-Fi|War\n",
      "476        480                       Jurassic Park (1993)          Action|Adventure|Sci-Fi\n",
      "RECOMMENDATIONS for user 4\n",
      "      movie_id                           name                            category\n",
      "1243      1263        Deer Hunter, The (1978)                           Drama|War\n",
      "2049      2118          Dead Zone, The (1983)                     Horror|Thriller\n",
      "768        778           Trainspotting (1996)                               Drama\n",
      "770        780  Independence Day (ID4) (1996)                   Action|Sci-Fi|War\n",
      "2134      2203       Shadow of a Doubt (1943)                  Film-Noir|Thriller\n",
      "2125      2194       Untouchables, The (1987)                  Action|Crime|Drama\n",
      "2117      2186    Strangers on a Train (1951)                  Film-Noir|Thriller\n",
      "2091      2160         Rosemary's Baby (1968)                     Horror|Thriller\n",
      "3602      3671         Blazing Saddles (1974)                      Comedy|Western\n",
      "2069      2138          Watership Down (1978)  Animation|Children's|Drama|Fantasy\n"
     ]
    }
   ],
   "source": [
    "print('Testing')\n",
    "testing(recommender, 'NeuCF', train, negative, all_negative, gold)"
   ]
  },
  {
   "cell_type": "markdown",
   "metadata": {},
   "source": [
    "По сравнению с BPR у NCF метрики лучше, но рекомендации похуже. "
   ]
  },
  {
   "cell_type": "code",
   "execution_count": null,
   "metadata": {},
   "outputs": [],
   "source": []
  }
 ],
 "metadata": {
  "kernelspec": {
   "display_name": "Python 3",
   "language": "python",
   "name": "python3"
  }
 },
 "nbformat": 4,
 "nbformat_minor": 4
}
